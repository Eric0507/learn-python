{
 "cells": [
  {
   "cell_type": "code",
   "execution_count": 1,
   "id": "91780ac8",
   "metadata": {
    "_cell_guid": "b1076dfc-b9ad-4769-8c92-a6c4dae69d19",
    "_uuid": "8f2839f25d086af736a60e9eeb907d3b93b6e0e5",
    "execution": {
     "iopub.execute_input": "2022-01-07T17:57:25.095972Z",
     "iopub.status.busy": "2022-01-07T17:57:25.095027Z",
     "iopub.status.idle": "2022-01-07T17:57:25.113301Z",
     "shell.execute_reply": "2022-01-07T17:57:25.112453Z",
     "shell.execute_reply.started": "2022-01-07T17:53:26.618002Z"
    },
    "papermill": {
     "duration": 0.0685,
     "end_time": "2022-01-07T17:57:25.113505",
     "exception": false,
     "start_time": "2022-01-07T17:57:25.045005",
     "status": "completed"
    },
    "tags": []
   },
   "outputs": [
    {
     "name": "stdout",
     "output_type": "stream",
     "text": [
      "/kaggle/input/restaurant-business-rankings-2020/Top250.csv\n",
      "/kaggle/input/restaurant-business-rankings-2020/Future50.csv\n",
      "/kaggle/input/restaurant-business-rankings-2020/Independence100.csv\n"
     ]
    }
   ],
   "source": [
    "# This Python 3 environment comes with many helpful analytics libraries installed\n",
    "# It is defined by the kaggle/python Docker image: https://github.com/kaggle/docker-python\n",
    "# For example, here's several helpful packages to load\n",
    "\n",
    "import numpy as np # linear algebra\n",
    "import pandas as pd # data processing, CSV file I/O (e.g. pd.read_csv)\n",
    "\n",
    "# Input data files are available in the read-only \"../input/\" directory\n",
    "# For example, running this (by clicking run or pressing Shift+Enter) will list all files under the input directory\n",
    "\n",
    "import os\n",
    "for dirname, _, filenames in os.walk('/kaggle/input'):\n",
    "    for filename in filenames:\n",
    "        print(os.path.join(dirname, filename))\n",
    "\n",
    "# You can write up to 20GB to the current directory (/kaggle/working/) that gets preserved as output when you create a version using \"Save & Run All\" \n",
    "# You can also write temporary files to /kaggle/temp/, but they won't be saved outside of the current session"
   ]
  },
  {
   "cell_type": "code",
   "execution_count": 2,
   "id": "1d56f1ce",
   "metadata": {
    "execution": {
     "iopub.execute_input": "2022-01-07T17:57:25.187910Z",
     "iopub.status.busy": "2022-01-07T17:57:25.187066Z",
     "iopub.status.idle": "2022-01-07T17:57:26.261521Z",
     "shell.execute_reply": "2022-01-07T17:57:26.260837Z",
     "shell.execute_reply.started": "2022-01-07T17:53:26.660047Z"
    },
    "papermill": {
     "duration": 1.113693,
     "end_time": "2022-01-07T17:57:26.261693",
     "exception": false,
     "start_time": "2022-01-07T17:57:25.148000",
     "status": "completed"
    },
    "tags": []
   },
   "outputs": [],
   "source": [
    "# Importing any additional libraries that may be useful\n",
    "\n",
    "import seaborn as sns\n",
    "\n",
    "import matplotlib.pyplot as plt\n",
    "import matplotlib.mlab as mlab\n",
    "import matplotlib\n",
    "plt.style.use('ggplot')\n",
    "from matplotlib.pyplot import figure"
   ]
  },
  {
   "cell_type": "code",
   "execution_count": 3,
   "id": "f4b37cd6",
   "metadata": {
    "execution": {
     "iopub.execute_input": "2022-01-07T17:57:26.335347Z",
     "iopub.status.busy": "2022-01-07T17:57:26.334159Z",
     "iopub.status.idle": "2022-01-07T17:57:26.351544Z",
     "shell.execute_reply": "2022-01-07T17:57:26.352167Z",
     "shell.execute_reply.started": "2022-01-07T17:53:27.794676Z"
    },
    "papermill": {
     "duration": 0.057019,
     "end_time": "2022-01-07T17:57:26.352383",
     "exception": false,
     "start_time": "2022-01-07T17:57:26.295364",
     "status": "completed"
    },
    "tags": []
   },
   "outputs": [],
   "source": [
    "# Reading in the data\n",
    "df = pd.read_csv(\"../input/restaurant-business-rankings-2020/Top250.csv\")"
   ]
  },
  {
   "cell_type": "code",
   "execution_count": 4,
   "id": "8a680468",
   "metadata": {
    "execution": {
     "iopub.execute_input": "2022-01-07T17:57:26.424980Z",
     "iopub.status.busy": "2022-01-07T17:57:26.423945Z",
     "iopub.status.idle": "2022-01-07T17:57:26.449266Z",
     "shell.execute_reply": "2022-01-07T17:57:26.449802Z",
     "shell.execute_reply.started": "2022-01-07T17:53:27.819271Z"
    },
    "papermill": {
     "duration": 0.064061,
     "end_time": "2022-01-07T17:57:26.450018",
     "exception": false,
     "start_time": "2022-01-07T17:57:26.385957",
     "status": "completed"
    },
    "tags": []
   },
   "outputs": [
    {
     "data": {
      "text/html": [
       "<div>\n",
       "<style scoped>\n",
       "    .dataframe tbody tr th:only-of-type {\n",
       "        vertical-align: middle;\n",
       "    }\n",
       "\n",
       "    .dataframe tbody tr th {\n",
       "        vertical-align: top;\n",
       "    }\n",
       "\n",
       "    .dataframe thead th {\n",
       "        text-align: right;\n",
       "    }\n",
       "</style>\n",
       "<table border=\"1\" class=\"dataframe\">\n",
       "  <thead>\n",
       "    <tr style=\"text-align: right;\">\n",
       "      <th></th>\n",
       "      <th>Rank</th>\n",
       "      <th>Restaurant</th>\n",
       "      <th>Content</th>\n",
       "      <th>Sales</th>\n",
       "      <th>YOY_Sales</th>\n",
       "      <th>Units</th>\n",
       "      <th>YOY_Units</th>\n",
       "      <th>Headquarters</th>\n",
       "      <th>Segment_Category</th>\n",
       "    </tr>\n",
       "  </thead>\n",
       "  <tbody>\n",
       "    <tr>\n",
       "      <th>0</th>\n",
       "      <td>1</td>\n",
       "      <td>McDonald's</td>\n",
       "      <td>NaN</td>\n",
       "      <td>40412</td>\n",
       "      <td>4.9%</td>\n",
       "      <td>13846</td>\n",
       "      <td>-0.5%</td>\n",
       "      <td>NaN</td>\n",
       "      <td>Quick Service &amp; Burger</td>\n",
       "    </tr>\n",
       "    <tr>\n",
       "      <th>1</th>\n",
       "      <td>2</td>\n",
       "      <td>Starbucks</td>\n",
       "      <td>NaN</td>\n",
       "      <td>21380</td>\n",
       "      <td>8.6%</td>\n",
       "      <td>15049</td>\n",
       "      <td>3.0%</td>\n",
       "      <td>NaN</td>\n",
       "      <td>Quick Service &amp; Coffee Cafe</td>\n",
       "    </tr>\n",
       "    <tr>\n",
       "      <th>2</th>\n",
       "      <td>3</td>\n",
       "      <td>Chick-fil-A</td>\n",
       "      <td>While Popeyes got a lot of the chicken buzz in...</td>\n",
       "      <td>11320</td>\n",
       "      <td>13.0%</td>\n",
       "      <td>2470</td>\n",
       "      <td>5.0%</td>\n",
       "      <td>NaN</td>\n",
       "      <td>Quick Service &amp; Chicken</td>\n",
       "    </tr>\n",
       "    <tr>\n",
       "      <th>3</th>\n",
       "      <td>4</td>\n",
       "      <td>Taco Bell</td>\n",
       "      <td>NaN</td>\n",
       "      <td>11293</td>\n",
       "      <td>9.0%</td>\n",
       "      <td>6766</td>\n",
       "      <td>2.7%</td>\n",
       "      <td>NaN</td>\n",
       "      <td>Quick Service &amp; Mexican</td>\n",
       "    </tr>\n",
       "    <tr>\n",
       "      <th>4</th>\n",
       "      <td>5</td>\n",
       "      <td>Burger King</td>\n",
       "      <td>NaN</td>\n",
       "      <td>10204</td>\n",
       "      <td>2.7%</td>\n",
       "      <td>7346</td>\n",
       "      <td>0.2%</td>\n",
       "      <td>NaN</td>\n",
       "      <td>Quick Service &amp; Burger</td>\n",
       "    </tr>\n",
       "    <tr>\n",
       "      <th>5</th>\n",
       "      <td>6</td>\n",
       "      <td>Subway</td>\n",
       "      <td>NaN</td>\n",
       "      <td>10200</td>\n",
       "      <td>-2.0%</td>\n",
       "      <td>23801</td>\n",
       "      <td>-4.0%</td>\n",
       "      <td>NaN</td>\n",
       "      <td>Quick Service &amp; Sandwich</td>\n",
       "    </tr>\n",
       "    <tr>\n",
       "      <th>6</th>\n",
       "      <td>7</td>\n",
       "      <td>Wendy's</td>\n",
       "      <td>NaN</td>\n",
       "      <td>9762</td>\n",
       "      <td>4.2%</td>\n",
       "      <td>5852</td>\n",
       "      <td>0.7%</td>\n",
       "      <td>NaN</td>\n",
       "      <td>Quick Service &amp; Burger</td>\n",
       "    </tr>\n",
       "    <tr>\n",
       "      <th>7</th>\n",
       "      <td>8</td>\n",
       "      <td>Dunkin'</td>\n",
       "      <td>Dunkin' dropped \"Donuts\" from its name and rep...</td>\n",
       "      <td>9228</td>\n",
       "      <td>5.0%</td>\n",
       "      <td>9630</td>\n",
       "      <td>2.2%</td>\n",
       "      <td>NaN</td>\n",
       "      <td>Quick Service &amp; Coffee Cafe</td>\n",
       "    </tr>\n",
       "    <tr>\n",
       "      <th>8</th>\n",
       "      <td>9</td>\n",
       "      <td>Domino's</td>\n",
       "      <td>NaN</td>\n",
       "      <td>7044</td>\n",
       "      <td>6.9%</td>\n",
       "      <td>6126</td>\n",
       "      <td>4.3%</td>\n",
       "      <td>NaN</td>\n",
       "      <td>Quick Service &amp; Pizza</td>\n",
       "    </tr>\n",
       "    <tr>\n",
       "      <th>9</th>\n",
       "      <td>10</td>\n",
       "      <td>Panera Bread</td>\n",
       "      <td>NaN</td>\n",
       "      <td>5890</td>\n",
       "      <td>4.0%</td>\n",
       "      <td>2160</td>\n",
       "      <td>3.2%</td>\n",
       "      <td>NaN</td>\n",
       "      <td>Fast Casual &amp; Bakery Cafe</td>\n",
       "    </tr>\n",
       "  </tbody>\n",
       "</table>\n",
       "</div>"
      ],
      "text/plain": [
       "   Rank    Restaurant                                            Content  \\\n",
       "0     1    McDonald's                                                NaN   \n",
       "1     2     Starbucks                                                NaN   \n",
       "2     3   Chick-fil-A  While Popeyes got a lot of the chicken buzz in...   \n",
       "3     4     Taco Bell                                                NaN   \n",
       "4     5   Burger King                                                NaN   \n",
       "5     6        Subway                                                NaN   \n",
       "6     7       Wendy's                                                NaN   \n",
       "7     8       Dunkin'  Dunkin' dropped \"Donuts\" from its name and rep...   \n",
       "8     9      Domino's                                                NaN   \n",
       "9    10  Panera Bread                                                NaN   \n",
       "\n",
       "   Sales YOY_Sales  Units YOY_Units Headquarters             Segment_Category  \n",
       "0  40412      4.9%  13846     -0.5%          NaN       Quick Service & Burger  \n",
       "1  21380      8.6%  15049      3.0%          NaN  Quick Service & Coffee Cafe  \n",
       "2  11320     13.0%   2470      5.0%          NaN      Quick Service & Chicken  \n",
       "3  11293      9.0%   6766      2.7%          NaN      Quick Service & Mexican  \n",
       "4  10204      2.7%   7346      0.2%          NaN       Quick Service & Burger  \n",
       "5  10200     -2.0%  23801     -4.0%          NaN     Quick Service & Sandwich  \n",
       "6   9762      4.2%   5852      0.7%          NaN       Quick Service & Burger  \n",
       "7   9228      5.0%   9630      2.2%          NaN  Quick Service & Coffee Cafe  \n",
       "8   7044      6.9%   6126      4.3%          NaN        Quick Service & Pizza  \n",
       "9   5890      4.0%   2160      3.2%          NaN    Fast Casual & Bakery Cafe  "
      ]
     },
     "execution_count": 4,
     "metadata": {},
     "output_type": "execute_result"
    }
   ],
   "source": [
    "# Viewing the data\n",
    "df.head(10)"
   ]
  },
  {
   "cell_type": "code",
   "execution_count": 5,
   "id": "7d639502",
   "metadata": {
    "execution": {
     "iopub.execute_input": "2022-01-07T17:57:26.522292Z",
     "iopub.status.busy": "2022-01-07T17:57:26.521593Z",
     "iopub.status.idle": "2022-01-07T17:57:26.534777Z",
     "shell.execute_reply": "2022-01-07T17:57:26.535515Z",
     "shell.execute_reply.started": "2022-01-07T17:53:27.847290Z"
    },
    "papermill": {
     "duration": 0.051895,
     "end_time": "2022-01-07T17:57:26.535719",
     "exception": false,
     "start_time": "2022-01-07T17:57:26.483824",
     "status": "completed"
    },
    "tags": []
   },
   "outputs": [
    {
     "name": "stdout",
     "output_type": "stream",
     "text": [
      "Rank - 0%\n",
      "Restaurant - 0%\n",
      "Content - 87%\n",
      "Sales - 0%\n",
      "YOY_Sales - 0%\n",
      "Units - 0%\n",
      "YOY_Units - 0%\n",
      "Headquarters - 79%\n",
      "Segment_Category - 0%\n"
     ]
    }
   ],
   "source": [
    "# Looking for missing data using for loops\n",
    "for col in df.columns:\n",
    "    pct_missing = np.mean(df[col].isnull())\n",
    "    print('{} - {}%'.format(col, round(pct_missing*100)))\n",
    "\n",
    "# Seems to be that 'Content' and 'Headquarters' are missing data\n",
    "# Upon reviewing, the missing data is not pertinent to the analysis"
   ]
  },
  {
   "cell_type": "code",
   "execution_count": 6,
   "id": "3cdef388",
   "metadata": {
    "execution": {
     "iopub.execute_input": "2022-01-07T17:57:26.608341Z",
     "iopub.status.busy": "2022-01-07T17:57:26.607611Z",
     "iopub.status.idle": "2022-01-07T17:57:26.615176Z",
     "shell.execute_reply": "2022-01-07T17:57:26.615944Z",
     "shell.execute_reply.started": "2022-01-07T17:53:27.867308Z"
    },
    "papermill": {
     "duration": 0.045918,
     "end_time": "2022-01-07T17:57:26.616282",
     "exception": false,
     "start_time": "2022-01-07T17:57:26.570364",
     "status": "completed"
    },
    "tags": []
   },
   "outputs": [
    {
     "name": "stdout",
     "output_type": "stream",
     "text": [
      "Rank                 int64\n",
      "Restaurant          object\n",
      "Content             object\n",
      "Sales                int64\n",
      "YOY_Sales           object\n",
      "Units                int64\n",
      "YOY_Units           object\n",
      "Headquarters        object\n",
      "Segment_Category    object\n",
      "dtype: object\n"
     ]
    }
   ],
   "source": [
    "# Data Types for our columns\n",
    "\n",
    "print(df.dtypes)"
   ]
  },
  {
   "cell_type": "code",
   "execution_count": 7,
   "id": "59b61bd2",
   "metadata": {
    "execution": {
     "iopub.execute_input": "2022-01-07T17:57:26.698097Z",
     "iopub.status.busy": "2022-01-07T17:57:26.697312Z",
     "iopub.status.idle": "2022-01-07T17:57:26.725298Z",
     "shell.execute_reply": "2022-01-07T17:57:26.725874Z",
     "shell.execute_reply.started": "2022-01-07T17:53:27.888992Z"
    },
    "papermill": {
     "duration": 0.072209,
     "end_time": "2022-01-07T17:57:26.726127",
     "exception": false,
     "start_time": "2022-01-07T17:57:26.653918",
     "status": "completed"
    },
    "tags": []
   },
   "outputs": [
    {
     "data": {
      "text/html": [
       "<div>\n",
       "<style scoped>\n",
       "    .dataframe tbody tr th:only-of-type {\n",
       "        vertical-align: middle;\n",
       "    }\n",
       "\n",
       "    .dataframe tbody tr th {\n",
       "        vertical-align: top;\n",
       "    }\n",
       "\n",
       "    .dataframe thead th {\n",
       "        text-align: right;\n",
       "    }\n",
       "</style>\n",
       "<table border=\"1\" class=\"dataframe\">\n",
       "  <thead>\n",
       "    <tr style=\"text-align: right;\">\n",
       "      <th></th>\n",
       "      <th>Rank</th>\n",
       "      <th>Restaurant</th>\n",
       "      <th>Content</th>\n",
       "      <th>Sales</th>\n",
       "      <th>YOY_Sales</th>\n",
       "      <th>Units</th>\n",
       "      <th>YOY_Units</th>\n",
       "      <th>Headquarters</th>\n",
       "      <th>Segment_Category</th>\n",
       "    </tr>\n",
       "  </thead>\n",
       "  <tbody>\n",
       "    <tr>\n",
       "      <th>0</th>\n",
       "      <td>1</td>\n",
       "      <td>McDonald's</td>\n",
       "      <td>NaN</td>\n",
       "      <td>40412</td>\n",
       "      <td>4.9%</td>\n",
       "      <td>13846</td>\n",
       "      <td>-0.5%</td>\n",
       "      <td>NaN</td>\n",
       "      <td>Quick Service &amp; Burger</td>\n",
       "    </tr>\n",
       "    <tr>\n",
       "      <th>1</th>\n",
       "      <td>2</td>\n",
       "      <td>Starbucks</td>\n",
       "      <td>NaN</td>\n",
       "      <td>21380</td>\n",
       "      <td>8.6%</td>\n",
       "      <td>15049</td>\n",
       "      <td>3.0%</td>\n",
       "      <td>NaN</td>\n",
       "      <td>Quick Service &amp; Coffee Cafe</td>\n",
       "    </tr>\n",
       "    <tr>\n",
       "      <th>2</th>\n",
       "      <td>3</td>\n",
       "      <td>Chick-fil-A</td>\n",
       "      <td>While Popeyes got a lot of the chicken buzz in...</td>\n",
       "      <td>11320</td>\n",
       "      <td>13.0%</td>\n",
       "      <td>2470</td>\n",
       "      <td>5.0%</td>\n",
       "      <td>NaN</td>\n",
       "      <td>Quick Service &amp; Chicken</td>\n",
       "    </tr>\n",
       "    <tr>\n",
       "      <th>3</th>\n",
       "      <td>4</td>\n",
       "      <td>Taco Bell</td>\n",
       "      <td>NaN</td>\n",
       "      <td>11293</td>\n",
       "      <td>9.0%</td>\n",
       "      <td>6766</td>\n",
       "      <td>2.7%</td>\n",
       "      <td>NaN</td>\n",
       "      <td>Quick Service &amp; Mexican</td>\n",
       "    </tr>\n",
       "    <tr>\n",
       "      <th>4</th>\n",
       "      <td>5</td>\n",
       "      <td>Burger King</td>\n",
       "      <td>NaN</td>\n",
       "      <td>10204</td>\n",
       "      <td>2.7%</td>\n",
       "      <td>7346</td>\n",
       "      <td>0.2%</td>\n",
       "      <td>NaN</td>\n",
       "      <td>Quick Service &amp; Burger</td>\n",
       "    </tr>\n",
       "    <tr>\n",
       "      <th>...</th>\n",
       "      <td>...</td>\n",
       "      <td>...</td>\n",
       "      <td>...</td>\n",
       "      <td>...</td>\n",
       "      <td>...</td>\n",
       "      <td>...</td>\n",
       "      <td>...</td>\n",
       "      <td>...</td>\n",
       "      <td>...</td>\n",
       "    </tr>\n",
       "    <tr>\n",
       "      <th>245</th>\n",
       "      <td>246</td>\n",
       "      <td>Rainforest Cafe</td>\n",
       "      <td>NaN</td>\n",
       "      <td>129</td>\n",
       "      <td>-10.4%</td>\n",
       "      <td>18</td>\n",
       "      <td>-5.3%</td>\n",
       "      <td>NaN</td>\n",
       "      <td>Varied Menu</td>\n",
       "    </tr>\n",
       "    <tr>\n",
       "      <th>246</th>\n",
       "      <td>247</td>\n",
       "      <td>PDQ</td>\n",
       "      <td>NaN</td>\n",
       "      <td>127</td>\n",
       "      <td>-5.5%</td>\n",
       "      <td>56</td>\n",
       "      <td>-11.1%</td>\n",
       "      <td>NaN</td>\n",
       "      <td>Chicken</td>\n",
       "    </tr>\n",
       "    <tr>\n",
       "      <th>247</th>\n",
       "      <td>248</td>\n",
       "      <td>Lupe Tortilla</td>\n",
       "      <td>NaN</td>\n",
       "      <td>127</td>\n",
       "      <td>12.1%</td>\n",
       "      <td>25</td>\n",
       "      <td>8.7%</td>\n",
       "      <td>NaN</td>\n",
       "      <td>Mexican</td>\n",
       "    </tr>\n",
       "    <tr>\n",
       "      <th>248</th>\n",
       "      <td>249</td>\n",
       "      <td>Cook-Out Restaurant</td>\n",
       "      <td>NaN</td>\n",
       "      <td>126</td>\n",
       "      <td>10.1%</td>\n",
       "      <td>270</td>\n",
       "      <td>7.1%</td>\n",
       "      <td>NaN</td>\n",
       "      <td>Burger</td>\n",
       "    </tr>\n",
       "    <tr>\n",
       "      <th>249</th>\n",
       "      <td>250</td>\n",
       "      <td>Jollibee</td>\n",
       "      <td>NaN</td>\n",
       "      <td>126</td>\n",
       "      <td>15.2%</td>\n",
       "      <td>40</td>\n",
       "      <td>11.1%</td>\n",
       "      <td>NaN</td>\n",
       "      <td>Chicken</td>\n",
       "    </tr>\n",
       "  </tbody>\n",
       "</table>\n",
       "<p>250 rows × 9 columns</p>\n",
       "</div>"
      ],
      "text/plain": [
       "     Rank           Restaurant  \\\n",
       "0       1           McDonald's   \n",
       "1       2            Starbucks   \n",
       "2       3          Chick-fil-A   \n",
       "3       4            Taco Bell   \n",
       "4       5          Burger King   \n",
       "..    ...                  ...   \n",
       "245   246      Rainforest Cafe   \n",
       "246   247                  PDQ   \n",
       "247   248        Lupe Tortilla   \n",
       "248   249  Cook-Out Restaurant   \n",
       "249   250             Jollibee   \n",
       "\n",
       "                                               Content  Sales YOY_Sales  \\\n",
       "0                                                  NaN  40412      4.9%   \n",
       "1                                                  NaN  21380      8.6%   \n",
       "2    While Popeyes got a lot of the chicken buzz in...  11320     13.0%   \n",
       "3                                                  NaN  11293      9.0%   \n",
       "4                                                  NaN  10204      2.7%   \n",
       "..                                                 ...    ...       ...   \n",
       "245                                                NaN    129    -10.4%   \n",
       "246                                                NaN    127     -5.5%   \n",
       "247                                                NaN    127     12.1%   \n",
       "248                                                NaN    126     10.1%   \n",
       "249                                                NaN    126     15.2%   \n",
       "\n",
       "     Units YOY_Units Headquarters             Segment_Category  \n",
       "0    13846     -0.5%          NaN       Quick Service & Burger  \n",
       "1    15049      3.0%          NaN  Quick Service & Coffee Cafe  \n",
       "2     2470      5.0%          NaN      Quick Service & Chicken  \n",
       "3     6766      2.7%          NaN      Quick Service & Mexican  \n",
       "4     7346      0.2%          NaN       Quick Service & Burger  \n",
       "..     ...       ...          ...                          ...  \n",
       "245     18     -5.3%          NaN                  Varied Menu  \n",
       "246     56    -11.1%          NaN                      Chicken  \n",
       "247     25      8.7%          NaN                      Mexican  \n",
       "248    270      7.1%          NaN                       Burger  \n",
       "249     40     11.1%          NaN                      Chicken  \n",
       "\n",
       "[250 rows x 9 columns]"
      ]
     },
     "execution_count": 7,
     "metadata": {},
     "output_type": "execute_result"
    }
   ],
   "source": [
    "# Continuously cleaning data before analysis\n",
    "\n",
    "df.drop_duplicates()\n"
   ]
  },
  {
   "cell_type": "code",
   "execution_count": 8,
   "id": "d51c42cb",
   "metadata": {
    "execution": {
     "iopub.execute_input": "2022-01-07T17:57:26.807707Z",
     "iopub.status.busy": "2022-01-07T17:57:26.807011Z",
     "iopub.status.idle": "2022-01-07T17:57:27.124296Z",
     "shell.execute_reply": "2022-01-07T17:57:27.123632Z",
     "shell.execute_reply.started": "2022-01-07T17:53:27.938187Z"
    },
    "papermill": {
     "duration": 0.36225,
     "end_time": "2022-01-07T17:57:27.124472",
     "exception": false,
     "start_time": "2022-01-07T17:57:26.762222",
     "status": "completed"
    },
    "tags": []
   },
   "outputs": [
    {
     "data": {
      "text/plain": [
       "Text(0, 0.5, 'Rank')"
      ]
     },
     "execution_count": 8,
     "metadata": {},
     "output_type": "execute_result"
    },
    {
     "data": {
      "image/png": "[encoded data removed]",
      "text/plain": [
       "<Figure size 432x288 with 1 Axes>"
      ]
     },
     "metadata": {},
     "output_type": "display_data"
    }
   ],
   "source": [
    "plt.scatter(x = df['Sales'], y = df['Rank'])\n",
    "plt.show\n",
    "\n",
    "plt.title('Sales vs Rank')\n",
    "plt.xlabel('# of Sales')\n",
    "plt.ylabel('Rank')\n",
    "# Obvious correlation between 'Sales' and 'Rank'\n",
    "# Curious to look for other correlation between other variables. "
   ]
  },
  {
   "cell_type": "code",
   "execution_count": 9,
   "id": "7e2c64b9",
   "metadata": {
    "execution": {
     "iopub.execute_input": "2022-01-07T17:57:27.213247Z",
     "iopub.status.busy": "2022-01-07T17:57:27.212495Z",
     "iopub.status.idle": "2022-01-07T17:57:27.479475Z",
     "shell.execute_reply": "2022-01-07T17:57:27.480136Z",
     "shell.execute_reply.started": "2022-01-07T17:53:28.252186Z"
    },
    "papermill": {
     "duration": 0.318945,
     "end_time": "2022-01-07T17:57:27.480346",
     "exception": false,
     "start_time": "2022-01-07T17:57:27.161401",
     "status": "completed"
    },
    "tags": []
   },
   "outputs": [
    {
     "data": {
      "text/plain": [
       "Text(0, 0.5, 'Units')"
      ]
     },
     "execution_count": 9,
     "metadata": {},
     "output_type": "execute_result"
    },
    {
     "data": {
      "image/png": "[encoded data removed]",
      "text/plain": [
       "<Figure size 432x288 with 1 Axes>"
      ]
     },
     "metadata": {},
     "output_type": "display_data"
    }
   ],
   "source": [
    "plt.scatter(x = df['Sales'], y = df['Units'])\n",
    "plt.show\n",
    "\n",
    "plt.title('Sales vs Units')\n",
    "plt.xlabel('# of Sales')\n",
    "plt.ylabel('Units')\n",
    "\n",
    "# Units relating to the amount of locations that specific restaurant actively has\n",
    "# Some outliers represeted but generally seems like a positive correlation"
   ]
  },
  {
   "cell_type": "code",
   "execution_count": 10,
   "id": "65a1d054",
   "metadata": {
    "execution": {
     "iopub.execute_input": "2022-01-07T17:57:27.560917Z",
     "iopub.status.busy": "2022-01-07T17:57:27.560220Z",
     "iopub.status.idle": "2022-01-07T17:57:27.984810Z",
     "shell.execute_reply": "2022-01-07T17:57:27.984126Z",
     "shell.execute_reply.started": "2022-01-07T17:53:28.510613Z"
    },
    "papermill": {
     "duration": 0.466902,
     "end_time": "2022-01-07T17:57:27.984975",
     "exception": false,
     "start_time": "2022-01-07T17:57:27.518073",
     "status": "completed"
    },
    "tags": []
   },
   "outputs": [
    {
     "data": {
      "text/plain": [
       "<AxesSubplot:xlabel='Sales', ylabel='Units'>"
      ]
     },
     "execution_count": 10,
     "metadata": {},
     "output_type": "execute_result"
    },
    {
     "data": {
      "image/png": "[encoded data removed]",
      "text/plain": [
       "<Figure size 432x288 with 1 Axes>"
      ]
     },
     "metadata": {},
     "output_type": "display_data"
    }
   ],
   "source": [
    "# Quick glance at correlation between 'Sales' and 'Units'\n",
    "\n",
    "sns.regplot(x=\"Sales\", y=\"Units\", data=df)\n"
   ]
  },
  {
   "cell_type": "code",
   "execution_count": 11,
   "id": "509942d8",
   "metadata": {
    "execution": {
     "iopub.execute_input": "2022-01-07T17:57:28.067254Z",
     "iopub.status.busy": "2022-01-07T17:57:28.066554Z",
     "iopub.status.idle": "2022-01-07T17:57:28.079208Z",
     "shell.execute_reply": "2022-01-07T17:57:28.079882Z",
     "shell.execute_reply.started": "2022-01-07T17:53:28.929983Z"
    },
    "papermill": {
     "duration": 0.055911,
     "end_time": "2022-01-07T17:57:28.080105",
     "exception": false,
     "start_time": "2022-01-07T17:57:28.024194",
     "status": "completed"
    },
    "tags": []
   },
   "outputs": [
    {
     "data": {
      "text/html": [
       "<div>\n",
       "<style scoped>\n",
       "    .dataframe tbody tr th:only-of-type {\n",
       "        vertical-align: middle;\n",
       "    }\n",
       "\n",
       "    .dataframe tbody tr th {\n",
       "        vertical-align: top;\n",
       "    }\n",
       "\n",
       "    .dataframe thead th {\n",
       "        text-align: right;\n",
       "    }\n",
       "</style>\n",
       "<table border=\"1\" class=\"dataframe\">\n",
       "  <thead>\n",
       "    <tr style=\"text-align: right;\">\n",
       "      <th></th>\n",
       "      <th>Rank</th>\n",
       "      <th>Sales</th>\n",
       "      <th>Units</th>\n",
       "    </tr>\n",
       "  </thead>\n",
       "  <tbody>\n",
       "    <tr>\n",
       "      <th>Rank</th>\n",
       "      <td>1.000000</td>\n",
       "      <td>-0.462349</td>\n",
       "      <td>-0.450929</td>\n",
       "    </tr>\n",
       "    <tr>\n",
       "      <th>Sales</th>\n",
       "      <td>-0.462349</td>\n",
       "      <td>1.000000</td>\n",
       "      <td>0.780101</td>\n",
       "    </tr>\n",
       "    <tr>\n",
       "      <th>Units</th>\n",
       "      <td>-0.450929</td>\n",
       "      <td>0.780101</td>\n",
       "      <td>1.000000</td>\n",
       "    </tr>\n",
       "  </tbody>\n",
       "</table>\n",
       "</div>"
      ],
      "text/plain": [
       "           Rank     Sales     Units\n",
       "Rank   1.000000 -0.462349 -0.450929\n",
       "Sales -0.462349  1.000000  0.780101\n",
       "Units -0.450929  0.780101  1.000000"
      ]
     },
     "execution_count": 11,
     "metadata": {},
     "output_type": "execute_result"
    }
   ],
   "source": [
    "# Forming the correlation matrix\n",
    "\n",
    "df.corr(method ='pearson')"
   ]
  },
  {
   "cell_type": "code",
   "execution_count": 12,
   "id": "b0856b11",
   "metadata": {
    "execution": {
     "iopub.execute_input": "2022-01-07T17:57:28.165470Z",
     "iopub.status.busy": "2022-01-07T17:57:28.164781Z",
     "iopub.status.idle": "2022-01-07T17:57:28.455964Z",
     "shell.execute_reply": "2022-01-07T17:57:28.455314Z",
     "shell.execute_reply.started": "2022-01-07T17:53:28.946480Z"
    },
    "papermill": {
     "duration": 0.334924,
     "end_time": "2022-01-07T17:57:28.456152",
     "exception": false,
     "start_time": "2022-01-07T17:57:28.121228",
     "status": "completed"
    },
    "tags": []
   },
   "outputs": [
    {
     "data": {
      "image/png": "[encoded data removed]",
      "text/plain": [
       "<Figure size 432x288 with 2 Axes>"
      ]
     },
     "metadata": {},
     "output_type": "display_data"
    }
   ],
   "source": [
    "correlation_matrix = df.corr()\n",
    "\n",
    "sns.heatmap(correlation_matrix, annot = True)\n",
    "\n",
    "plt.title(\"Correlation Matrix for Variables T1\")\n",
    "\n",
    "\n",
    "plt.show()\n",
    "\n",
    "# Easier way to visualize correlations between \n",
    "# numeric values within the dataset.\n"
   ]
  },
  {
   "cell_type": "code",
   "execution_count": 13,
   "id": "465e8db0",
   "metadata": {
    "execution": {
     "iopub.execute_input": "2022-01-07T17:57:28.540818Z",
     "iopub.status.busy": "2022-01-07T17:57:28.540166Z",
     "iopub.status.idle": "2022-01-07T17:57:28.543119Z",
     "shell.execute_reply": "2022-01-07T17:57:28.543752Z",
     "shell.execute_reply.started": "2022-01-07T17:53:29.225350Z"
    },
    "papermill": {
     "duration": 0.047557,
     "end_time": "2022-01-07T17:57:28.543929",
     "exception": false,
     "start_time": "2022-01-07T17:57:28.496372",
     "status": "completed"
    },
    "tags": []
   },
   "outputs": [],
   "source": [
    "# Found correlation between 'Sales' and 'Units' although \n",
    "# just because a company managed to have more units did not \n",
    "# mean that they necessarily placed better in the rankings. "
   ]
  },
  {
   "cell_type": "code",
   "execution_count": 14,
   "id": "2719e89f",
   "metadata": {
    "execution": {
     "iopub.execute_input": "2022-01-07T17:57:28.629426Z",
     "iopub.status.busy": "2022-01-07T17:57:28.628689Z",
     "iopub.status.idle": "2022-01-07T17:57:28.640755Z",
     "shell.execute_reply": "2022-01-07T17:57:28.641411Z",
     "shell.execute_reply.started": "2022-01-07T17:53:29.231831Z"
    },
    "papermill": {
     "duration": 0.05793,
     "end_time": "2022-01-07T17:57:28.641604",
     "exception": false,
     "start_time": "2022-01-07T17:57:28.583674",
     "status": "completed"
    },
    "tags": []
   },
   "outputs": [],
   "source": [
    "# Exploring new dataset\n",
    "df2 = pd.read_csv(\"../input/restaurant-business-rankings-2020/Independence100.csv\")"
   ]
  },
  {
   "cell_type": "code",
   "execution_count": 15,
   "id": "c18c33bf",
   "metadata": {
    "execution": {
     "iopub.execute_input": "2022-01-07T17:57:28.742703Z",
     "iopub.status.busy": "2022-01-07T17:57:28.741863Z",
     "iopub.status.idle": "2022-01-07T17:57:28.745659Z",
     "shell.execute_reply": "2022-01-07T17:57:28.746222Z",
     "shell.execute_reply.started": "2022-01-07T17:53:29.257513Z"
    },
    "papermill": {
     "duration": 0.063543,
     "end_time": "2022-01-07T17:57:28.746422",
     "exception": false,
     "start_time": "2022-01-07T17:57:28.682879",
     "status": "completed"
    },
    "tags": []
   },
   "outputs": [
    {
     "data": {
      "text/html": [
       "<div>\n",
       "<style scoped>\n",
       "    .dataframe tbody tr th:only-of-type {\n",
       "        vertical-align: middle;\n",
       "    }\n",
       "\n",
       "    .dataframe tbody tr th {\n",
       "        vertical-align: top;\n",
       "    }\n",
       "\n",
       "    .dataframe thead th {\n",
       "        text-align: right;\n",
       "    }\n",
       "</style>\n",
       "<table border=\"1\" class=\"dataframe\">\n",
       "  <thead>\n",
       "    <tr style=\"text-align: right;\">\n",
       "      <th></th>\n",
       "      <th>Rank</th>\n",
       "      <th>Restaurant</th>\n",
       "      <th>Sales</th>\n",
       "      <th>Average Check</th>\n",
       "      <th>City</th>\n",
       "      <th>State</th>\n",
       "      <th>Meals Served</th>\n",
       "    </tr>\n",
       "  </thead>\n",
       "  <tbody>\n",
       "    <tr>\n",
       "      <th>0</th>\n",
       "      <td>1</td>\n",
       "      <td>Carmine's (Times Square)</td>\n",
       "      <td>39080335.0</td>\n",
       "      <td>40</td>\n",
       "      <td>New York</td>\n",
       "      <td>N.Y.</td>\n",
       "      <td>469803.0</td>\n",
       "    </tr>\n",
       "    <tr>\n",
       "      <th>1</th>\n",
       "      <td>2</td>\n",
       "      <td>The Boathouse Orlando</td>\n",
       "      <td>35218364.0</td>\n",
       "      <td>43</td>\n",
       "      <td>Orlando</td>\n",
       "      <td>Fla.</td>\n",
       "      <td>820819.0</td>\n",
       "    </tr>\n",
       "    <tr>\n",
       "      <th>2</th>\n",
       "      <td>3</td>\n",
       "      <td>Old Ebbitt Grill</td>\n",
       "      <td>29104017.0</td>\n",
       "      <td>33</td>\n",
       "      <td>Washington</td>\n",
       "      <td>D.C.</td>\n",
       "      <td>892830.0</td>\n",
       "    </tr>\n",
       "    <tr>\n",
       "      <th>3</th>\n",
       "      <td>4</td>\n",
       "      <td>LAVO Italian Restaurant &amp; Nightclub</td>\n",
       "      <td>26916180.0</td>\n",
       "      <td>90</td>\n",
       "      <td>New York</td>\n",
       "      <td>N.Y.</td>\n",
       "      <td>198500.0</td>\n",
       "    </tr>\n",
       "    <tr>\n",
       "      <th>4</th>\n",
       "      <td>5</td>\n",
       "      <td>Bryant Park Grill &amp; Cafe</td>\n",
       "      <td>26900000.0</td>\n",
       "      <td>62</td>\n",
       "      <td>New York</td>\n",
       "      <td>N.Y.</td>\n",
       "      <td>403000.0</td>\n",
       "    </tr>\n",
       "    <tr>\n",
       "      <th>5</th>\n",
       "      <td>6</td>\n",
       "      <td>Gibsons Bar &amp; Steakhouse</td>\n",
       "      <td>25409952.0</td>\n",
       "      <td>80</td>\n",
       "      <td>Chicago</td>\n",
       "      <td>Ill.</td>\n",
       "      <td>348567.0</td>\n",
       "    </tr>\n",
       "    <tr>\n",
       "      <th>6</th>\n",
       "      <td>7</td>\n",
       "      <td>Top of the World at the STRAT</td>\n",
       "      <td>25233543.0</td>\n",
       "      <td>103</td>\n",
       "      <td>Las Vegas</td>\n",
       "      <td>Nev.</td>\n",
       "      <td>246054.0</td>\n",
       "    </tr>\n",
       "    <tr>\n",
       "      <th>7</th>\n",
       "      <td>8</td>\n",
       "      <td>Maple &amp; Ash</td>\n",
       "      <td>24837595.0</td>\n",
       "      <td>99</td>\n",
       "      <td>Chicago</td>\n",
       "      <td>Ill.</td>\n",
       "      <td>210832.0</td>\n",
       "    </tr>\n",
       "    <tr>\n",
       "      <th>8</th>\n",
       "      <td>9</td>\n",
       "      <td>Balthazar</td>\n",
       "      <td>24547800.0</td>\n",
       "      <td>87</td>\n",
       "      <td>New York</td>\n",
       "      <td>N.Y.</td>\n",
       "      <td>519000.0</td>\n",
       "    </tr>\n",
       "    <tr>\n",
       "      <th>9</th>\n",
       "      <td>10</td>\n",
       "      <td>Smith &amp; Wollensky</td>\n",
       "      <td>24501000.0</td>\n",
       "      <td>107</td>\n",
       "      <td>New York</td>\n",
       "      <td>N.Y.</td>\n",
       "      <td>257364.0</td>\n",
       "    </tr>\n",
       "  </tbody>\n",
       "</table>\n",
       "</div>"
      ],
      "text/plain": [
       "   Rank                           Restaurant       Sales  Average Check  \\\n",
       "0     1             Carmine's (Times Square)  39080335.0             40   \n",
       "1     2                The Boathouse Orlando  35218364.0             43   \n",
       "2     3                     Old Ebbitt Grill  29104017.0             33   \n",
       "3     4  LAVO Italian Restaurant & Nightclub  26916180.0             90   \n",
       "4     5             Bryant Park Grill & Cafe  26900000.0             62   \n",
       "5     6             Gibsons Bar & Steakhouse  25409952.0             80   \n",
       "6     7       Top of the World at the STRAT   25233543.0            103   \n",
       "7     8                          Maple & Ash  24837595.0             99   \n",
       "8     9                            Balthazar  24547800.0             87   \n",
       "9    10                    Smith & Wollensky  24501000.0            107   \n",
       "\n",
       "         City State  Meals Served  \n",
       "0    New York  N.Y.      469803.0  \n",
       "1    Orlando   Fla.      820819.0  \n",
       "2  Washington  D.C.      892830.0  \n",
       "3    New York  N.Y.      198500.0  \n",
       "4    New York  N.Y.      403000.0  \n",
       "5     Chicago  Ill.      348567.0  \n",
       "6   Las Vegas  Nev.      246054.0  \n",
       "7     Chicago  Ill.      210832.0  \n",
       "8    New York  N.Y.      519000.0  \n",
       "9    New York  N.Y.      257364.0  "
      ]
     },
     "execution_count": 15,
     "metadata": {},
     "output_type": "execute_result"
    }
   ],
   "source": [
    "df2.head(10)"
   ]
  },
  {
   "cell_type": "code",
   "execution_count": 16,
   "id": "6025d02a",
   "metadata": {
    "execution": {
     "iopub.execute_input": "2022-01-07T17:57:28.832020Z",
     "iopub.status.busy": "2022-01-07T17:57:28.830899Z",
     "iopub.status.idle": "2022-01-07T17:57:28.841828Z",
     "shell.execute_reply": "2022-01-07T17:57:28.842786Z",
     "shell.execute_reply.started": "2022-01-07T17:53:29.276900Z"
    },
    "papermill": {
     "duration": 0.056179,
     "end_time": "2022-01-07T17:57:28.843109",
     "exception": false,
     "start_time": "2022-01-07T17:57:28.786930",
     "status": "completed"
    },
    "tags": []
   },
   "outputs": [
    {
     "name": "stdout",
     "output_type": "stream",
     "text": [
      "Rank - 0%\n",
      "Restaurant - 0%\n",
      "Sales - 0%\n",
      "Average Check - 0%\n",
      "City - 0%\n",
      "State - 0%\n",
      "Meals Served - 0%\n"
     ]
    }
   ],
   "source": [
    "# Looking for missing data using for loops in second data set\n",
    "\n",
    "for col in df2.columns:\n",
    "    pct_missing = np.mean(df2[col].isnull())\n",
    "    print('{} - {}%'.format(col, round(pct_missing*100)))\n",
    "    \n",
    " # No data seems to be missing as represented by the \"0%\""
   ]
  },
  {
   "cell_type": "code",
   "execution_count": 17,
   "id": "ea27a2ff",
   "metadata": {
    "execution": {
     "iopub.execute_input": "2022-01-07T17:57:28.931931Z",
     "iopub.status.busy": "2022-01-07T17:57:28.931260Z",
     "iopub.status.idle": "2022-01-07T17:57:28.938576Z",
     "shell.execute_reply": "2022-01-07T17:57:28.937734Z",
     "shell.execute_reply.started": "2022-01-07T17:53:29.295644Z"
    },
    "papermill": {
     "duration": 0.052225,
     "end_time": "2022-01-07T17:57:28.938800",
     "exception": false,
     "start_time": "2022-01-07T17:57:28.886575",
     "status": "completed"
    },
    "tags": []
   },
   "outputs": [
    {
     "name": "stdout",
     "output_type": "stream",
     "text": [
      "Rank               int64\n",
      "Restaurant        object\n",
      "Sales            float64\n",
      "Average Check      int64\n",
      "City              object\n",
      "State             object\n",
      "Meals Served     float64\n",
      "dtype: object\n"
     ]
    }
   ],
   "source": [
    "print(df2.dtypes)\n",
    "\n",
    "# 'Sales' and 'Meals Served' columns seem to have an unneeded decimal point\n",
    "# so it may be better to rid that to clean up the data"
   ]
  },
  {
   "cell_type": "code",
   "execution_count": 18,
   "id": "e0b54756",
   "metadata": {
    "execution": {
     "iopub.execute_input": "2022-01-07T17:57:29.030957Z",
     "iopub.status.busy": "2022-01-07T17:57:29.030279Z",
     "iopub.status.idle": "2022-01-07T17:57:29.032227Z",
     "shell.execute_reply": "2022-01-07T17:57:29.032804Z",
     "shell.execute_reply.started": "2022-01-07T17:53:29.307807Z"
    },
    "papermill": {
     "duration": 0.051585,
     "end_time": "2022-01-07T17:57:29.032991",
     "exception": false,
     "start_time": "2022-01-07T17:57:28.981406",
     "status": "completed"
    },
    "tags": []
   },
   "outputs": [],
   "source": [
    "df2['Sales'] = df2['Sales'].astype('int64')\n",
    "\n",
    "df2 ['Meals Served'] = df2['Meals Served'].astype('int64')\n",
    "\n",
    " # 'Sales' and 'Meals Served' data type changed from float64 to int64 \n",
    " # for increased readability"
   ]
  },
  {
   "cell_type": "code",
   "execution_count": 19,
   "id": "943edad5",
   "metadata": {
    "execution": {
     "iopub.execute_input": "2022-01-07T17:57:29.123343Z",
     "iopub.status.busy": "2022-01-07T17:57:29.119890Z",
     "iopub.status.idle": "2022-01-07T17:57:29.125908Z",
     "shell.execute_reply": "2022-01-07T17:57:29.126464Z",
     "shell.execute_reply.started": "2022-01-07T17:53:29.324574Z"
    },
    "papermill": {
     "duration": 0.05185,
     "end_time": "2022-01-07T17:57:29.126677",
     "exception": false,
     "start_time": "2022-01-07T17:57:29.074827",
     "status": "completed"
    },
    "tags": []
   },
   "outputs": [
    {
     "name": "stdout",
     "output_type": "stream",
     "text": [
      "Rank              int64\n",
      "Restaurant       object\n",
      "Sales             int64\n",
      "Average Check     int64\n",
      "City             object\n",
      "State            object\n",
      "Meals Served      int64\n",
      "dtype: object\n"
     ]
    }
   ],
   "source": [
    "print(df2.dtypes)"
   ]
  },
  {
   "cell_type": "code",
   "execution_count": 20,
   "id": "cc02e874",
   "metadata": {
    "execution": {
     "iopub.execute_input": "2022-01-07T17:57:29.218828Z",
     "iopub.status.busy": "2022-01-07T17:57:29.217743Z",
     "iopub.status.idle": "2022-01-07T17:57:29.477641Z",
     "shell.execute_reply": "2022-01-07T17:57:29.478215Z",
     "shell.execute_reply.started": "2022-01-07T17:53:29.340796Z"
    },
    "papermill": {
     "duration": 0.309113,
     "end_time": "2022-01-07T17:57:29.478413",
     "exception": false,
     "start_time": "2022-01-07T17:57:29.169300",
     "status": "completed"
    },
    "tags": []
   },
   "outputs": [
    {
     "data": {
      "text/plain": [
       "Text(0, 0.5, 'Rank')"
      ]
     },
     "execution_count": 20,
     "metadata": {},
     "output_type": "execute_result"
    },
    {
     "data": {
      "image/png": "[encoded data removed]",
      "text/plain": [
       "<Figure size 432x288 with 1 Axes>"
      ]
     },
     "metadata": {},
     "output_type": "display_data"
    }
   ],
   "source": [
    "plt.scatter(x = df2['Sales'], y = df2['Rank'])\n",
    "plt.show\n",
    "\n",
    "plt.title('Sales Amount vs Rank')\n",
    "plt.xlabel('Sales Amount')\n",
    "plt.ylabel('Rank')\n",
    "\n",
    "# Rank is solely based on sales amount, visualizing anyway to \n",
    "# see if there are any outliers"
   ]
  },
  {
   "cell_type": "code",
   "execution_count": 21,
   "id": "0b8c858b",
   "metadata": {
    "execution": {
     "iopub.execute_input": "2022-01-07T17:57:29.569446Z",
     "iopub.status.busy": "2022-01-07T17:57:29.568377Z",
     "iopub.status.idle": "2022-01-07T17:57:29.987506Z",
     "shell.execute_reply": "2022-01-07T17:57:29.986891Z",
     "shell.execute_reply.started": "2022-01-07T17:53:29.544152Z"
    },
    "papermill": {
     "duration": 0.466278,
     "end_time": "2022-01-07T17:57:29.987677",
     "exception": false,
     "start_time": "2022-01-07T17:57:29.521399",
     "status": "completed"
    },
    "tags": []
   },
   "outputs": [
    {
     "data": {
      "text/plain": [
       "<AxesSubplot:xlabel='Sales', ylabel='Rank'>"
      ]
     },
     "execution_count": 21,
     "metadata": {},
     "output_type": "execute_result"
    },
    {
     "data": {
      "image/png": "[encoded data removed]",
      "text/plain": [
       "<Figure size 432x288 with 1 Axes>"
      ]
     },
     "metadata": {},
     "output_type": "display_data"
    }
   ],
   "source": [
    "sns.regplot(x=\"Sales\", y=\"Rank\", data=df2)\n",
    "\n",
    "# Correlation seems to be strongly negative as predicted,\n",
    "# as the amount of sales go down, so does the rank\n"
   ]
  },
  {
   "cell_type": "code",
   "execution_count": 22,
   "id": "04bf4a07",
   "metadata": {
    "execution": {
     "iopub.execute_input": "2022-01-07T17:57:30.105254Z",
     "iopub.status.busy": "2022-01-07T17:57:30.097357Z",
     "iopub.status.idle": "2022-01-07T17:57:30.365766Z",
     "shell.execute_reply": "2022-01-07T17:57:30.366339Z",
     "shell.execute_reply.started": "2022-01-07T17:53:29.892179Z"
    },
    "papermill": {
     "duration": 0.333266,
     "end_time": "2022-01-07T17:57:30.366543",
     "exception": false,
     "start_time": "2022-01-07T17:57:30.033277",
     "status": "completed"
    },
    "tags": []
   },
   "outputs": [
    {
     "data": {
      "text/plain": [
       "Text(0, 0.5, 'Check Amount')"
      ]
     },
     "execution_count": 22,
     "metadata": {},
     "output_type": "execute_result"
    },
    {
     "data": {
      "image/png": "[encoded data removed]",
      "text/plain": [
       "<Figure size 432x288 with 1 Axes>"
      ]
     },
     "metadata": {},
     "output_type": "display_data"
    }
   ],
   "source": [
    "plt.scatter(x = df2['Sales'], y = df2['Average Check'])\n",
    "plt.show\n",
    "\n",
    "plt.title('Sales vs Average Check')\n",
    "plt.xlabel('Sales')\n",
    "plt.ylabel('Check Amount')\n",
    "\n",
    "# Vizualiztation correlation between 'average check' and 'Sales'\n",
    "# Difficult to point out any correlation at the moment but seems like\n",
    "# it's barely sloping positively"
   ]
  },
  {
   "cell_type": "code",
   "execution_count": 23,
   "id": "d3530146",
   "metadata": {
    "execution": {
     "iopub.execute_input": "2022-01-07T17:57:30.482609Z",
     "iopub.status.busy": "2022-01-07T17:57:30.479483Z",
     "iopub.status.idle": "2022-01-07T17:57:30.888368Z",
     "shell.execute_reply": "2022-01-07T17:57:30.887627Z",
     "shell.execute_reply.started": "2022-01-07T17:53:30.164347Z"
    },
    "papermill": {
     "duration": 0.475392,
     "end_time": "2022-01-07T17:57:30.888538",
     "exception": false,
     "start_time": "2022-01-07T17:57:30.413146",
     "status": "completed"
    },
    "tags": []
   },
   "outputs": [
    {
     "data": {
      "text/plain": [
       "<AxesSubplot:xlabel='Sales', ylabel='Average Check'>"
      ]
     },
     "execution_count": 23,
     "metadata": {},
     "output_type": "execute_result"
    },
    {
     "data": {
      "image/png": "[encoded data removed]",
      "text/plain": [
       "<Figure size 432x288 with 1 Axes>"
      ]
     },
     "metadata": {},
     "output_type": "display_data"
    }
   ],
   "source": [
    "sns.regplot(x=\"Sales\", y=\"Average Check\", data=df2)\n",
    "\n",
    "# Regression line shows weak correlation \n"
   ]
  },
  {
   "cell_type": "code",
   "execution_count": 24,
   "id": "21ff79d2",
   "metadata": {
    "execution": {
     "iopub.execute_input": "2022-01-07T17:57:30.999525Z",
     "iopub.status.busy": "2022-01-07T17:57:30.990928Z",
     "iopub.status.idle": "2022-01-07T17:57:31.270820Z",
     "shell.execute_reply": "2022-01-07T17:57:31.270211Z",
     "shell.execute_reply.started": "2022-01-07T17:53:30.529995Z"
    },
    "papermill": {
     "duration": 0.335079,
     "end_time": "2022-01-07T17:57:31.270987",
     "exception": false,
     "start_time": "2022-01-07T17:57:30.935908",
     "status": "completed"
    },
    "tags": []
   },
   "outputs": [
    {
     "data": {
      "text/plain": [
       "Text(0, 0.5, 'Average Check in $')"
      ]
     },
     "execution_count": 24,
     "metadata": {},
     "output_type": "execute_result"
    },
    {
     "data": {
      "image/png": "[encoded data removed]",
      "text/plain": [
       "<Figure size 432x288 with 1 Axes>"
      ]
     },
     "metadata": {},
     "output_type": "display_data"
    }
   ],
   "source": [
    "plt.scatter(x = df2['Rank'], y = df2['Average Check'])\n",
    "plt.show\n",
    "\n",
    "plt.title('Rank vs Average Check')\n",
    "plt.xlabel('Rank')\n",
    "plt.ylabel('Average Check in $')\n",
    "\n",
    "# At first glance, datapoints seem scattered and correlation is not \n",
    "# easily detectable"
   ]
  },
  {
   "cell_type": "code",
   "execution_count": 25,
   "id": "94ae975e",
   "metadata": {
    "execution": {
     "iopub.execute_input": "2022-01-07T17:57:31.375520Z",
     "iopub.status.busy": "2022-01-07T17:57:31.372673Z",
     "iopub.status.idle": "2022-01-07T17:57:31.781108Z",
     "shell.execute_reply": "2022-01-07T17:57:31.781674Z",
     "shell.execute_reply.started": "2022-01-07T17:53:30.783030Z"
    },
    "papermill": {
     "duration": 0.461624,
     "end_time": "2022-01-07T17:57:31.781878",
     "exception": false,
     "start_time": "2022-01-07T17:57:31.320254",
     "status": "completed"
    },
    "tags": []
   },
   "outputs": [
    {
     "data": {
      "text/plain": [
       "<AxesSubplot:xlabel='Rank', ylabel='Average Check'>"
      ]
     },
     "execution_count": 25,
     "metadata": {},
     "output_type": "execute_result"
    },
    {
     "data": {
      "image/png": "[encoded data removed]",
      "text/plain": [
       "<Figure size 432x288 with 1 Axes>"
      ]
     },
     "metadata": {},
     "output_type": "display_data"
    }
   ],
   "source": [
    "sns.regplot(x=\"Rank\", y=\"Average Check\", data=df2)\n",
    "\n",
    "# Data showing another weak correlation here"
   ]
  },
  {
   "cell_type": "code",
   "execution_count": 26,
   "id": "30d55317",
   "metadata": {
    "execution": {
     "iopub.execute_input": "2022-01-07T17:57:31.885822Z",
     "iopub.status.busy": "2022-01-07T17:57:31.885162Z",
     "iopub.status.idle": "2022-01-07T17:57:31.897006Z",
     "shell.execute_reply": "2022-01-07T17:57:31.897683Z",
     "shell.execute_reply.started": "2022-01-07T17:53:31.150651Z"
    },
    "papermill": {
     "duration": 0.066057,
     "end_time": "2022-01-07T17:57:31.897885",
     "exception": false,
     "start_time": "2022-01-07T17:57:31.831828",
     "status": "completed"
    },
    "tags": []
   },
   "outputs": [
    {
     "data": {
      "text/html": [
       "<div>\n",
       "<style scoped>\n",
       "    .dataframe tbody tr th:only-of-type {\n",
       "        vertical-align: middle;\n",
       "    }\n",
       "\n",
       "    .dataframe tbody tr th {\n",
       "        vertical-align: top;\n",
       "    }\n",
       "\n",
       "    .dataframe thead th {\n",
       "        text-align: right;\n",
       "    }\n",
       "</style>\n",
       "<table border=\"1\" class=\"dataframe\">\n",
       "  <thead>\n",
       "    <tr style=\"text-align: right;\">\n",
       "      <th></th>\n",
       "      <th>Rank</th>\n",
       "      <th>Sales</th>\n",
       "      <th>Average Check</th>\n",
       "      <th>Meals Served</th>\n",
       "    </tr>\n",
       "  </thead>\n",
       "  <tbody>\n",
       "    <tr>\n",
       "      <th>Rank</th>\n",
       "      <td>1.000000</td>\n",
       "      <td>-0.917341</td>\n",
       "      <td>-0.305996</td>\n",
       "      <td>-0.247434</td>\n",
       "    </tr>\n",
       "    <tr>\n",
       "      <th>Sales</th>\n",
       "      <td>-0.917341</td>\n",
       "      <td>1.000000</td>\n",
       "      <td>0.194195</td>\n",
       "      <td>0.302014</td>\n",
       "    </tr>\n",
       "    <tr>\n",
       "      <th>Average Check</th>\n",
       "      <td>-0.305996</td>\n",
       "      <td>0.194195</td>\n",
       "      <td>1.000000</td>\n",
       "      <td>-0.627206</td>\n",
       "    </tr>\n",
       "    <tr>\n",
       "      <th>Meals Served</th>\n",
       "      <td>-0.247434</td>\n",
       "      <td>0.302014</td>\n",
       "      <td>-0.627206</td>\n",
       "      <td>1.000000</td>\n",
       "    </tr>\n",
       "  </tbody>\n",
       "</table>\n",
       "</div>"
      ],
      "text/plain": [
       "                   Rank     Sales  Average Check  Meals Served\n",
       "Rank           1.000000 -0.917341      -0.305996     -0.247434\n",
       "Sales         -0.917341  1.000000       0.194195      0.302014\n",
       "Average Check -0.305996  0.194195       1.000000     -0.627206\n",
       "Meals Served  -0.247434  0.302014      -0.627206      1.000000"
      ]
     },
     "execution_count": 26,
     "metadata": {},
     "output_type": "execute_result"
    }
   ],
   "source": [
    "# May be more useful to find out the correlation coefficient to \n",
    "# better analyze the relationship between the variables \n",
    "\n",
    "df2.corr(method ='pearson')"
   ]
  },
  {
   "cell_type": "code",
   "execution_count": 27,
   "id": "9c0ba621",
   "metadata": {
    "execution": {
     "iopub.execute_input": "2022-01-07T17:57:32.003341Z",
     "iopub.status.busy": "2022-01-07T17:57:32.002616Z",
     "iopub.status.idle": "2022-01-07T17:57:32.530885Z",
     "shell.execute_reply": "2022-01-07T17:57:32.531498Z",
     "shell.execute_reply.started": "2022-01-07T17:53:31.165577Z"
    },
    "papermill": {
     "duration": 0.583248,
     "end_time": "2022-01-07T17:57:32.531703",
     "exception": false,
     "start_time": "2022-01-07T17:57:31.948455",
     "status": "completed"
    },
    "tags": []
   },
   "outputs": [
    {
     "data": {
      "image/png": "[encoded data removed]",
      "text/plain": [
       "<Figure size 432x288 with 2 Axes>"
      ]
     },
     "metadata": {},
     "output_type": "display_data"
    }
   ],
   "source": [
    "# Here are those above results visualized\n",
    "\n",
    "correlation_matrix = df2.corr()\n",
    "\n",
    "sns.heatmap(correlation_matrix, annot = True)\n",
    "\n",
    "plt.title(\"Correlation Matrix for Variables T2\")\n",
    "\n",
    "\n",
    "plt.show()\n",
    "\n",
    "# Data seems to show various weak correlations between the \n",
    "# variables except for the obvious one of Rank and Sales. \n",
    "\n",
    "# The next \"strongest\" correlation would be between the Average Check\n",
    "# and Meals Served albeit a strong negative correlation.\n",
    "# The higher the average check, the lower the amount of meals served. \n"
   ]
  },
  {
   "cell_type": "code",
   "execution_count": 28,
   "id": "31122851",
   "metadata": {
    "execution": {
     "iopub.execute_input": "2022-01-07T17:57:32.646767Z",
     "iopub.status.busy": "2022-01-07T17:57:32.645727Z",
     "iopub.status.idle": "2022-01-07T17:57:32.662705Z",
     "shell.execute_reply": "2022-01-07T17:57:32.663327Z",
     "shell.execute_reply.started": "2022-01-07T17:53:31.606093Z"
    },
    "papermill": {
     "duration": 0.078785,
     "end_time": "2022-01-07T17:57:32.663540",
     "exception": false,
     "start_time": "2022-01-07T17:57:32.584755",
     "status": "completed"
    },
    "tags": []
   },
   "outputs": [],
   "source": [
    "# Exploring third dataset\n",
    "df3 = pd.read_csv(\"../input/restaurant-business-rankings-2020/Future50.csv\")"
   ]
  },
  {
   "cell_type": "code",
   "execution_count": 29,
   "id": "4299bcb8",
   "metadata": {
    "execution": {
     "iopub.execute_input": "2022-01-07T17:57:32.788408Z",
     "iopub.status.busy": "2022-01-07T17:57:32.787143Z",
     "iopub.status.idle": "2022-01-07T17:57:32.804416Z",
     "shell.execute_reply": "2022-01-07T17:57:32.805192Z",
     "shell.execute_reply.started": "2022-01-07T17:53:31.621153Z"
    },
    "papermill": {
     "duration": 0.089434,
     "end_time": "2022-01-07T17:57:32.805407",
     "exception": false,
     "start_time": "2022-01-07T17:57:32.715973",
     "status": "completed"
    },
    "tags": []
   },
   "outputs": [
    {
     "data": {
      "text/html": [
       "<div>\n",
       "<style scoped>\n",
       "    .dataframe tbody tr th:only-of-type {\n",
       "        vertical-align: middle;\n",
       "    }\n",
       "\n",
       "    .dataframe tbody tr th {\n",
       "        vertical-align: top;\n",
       "    }\n",
       "\n",
       "    .dataframe thead th {\n",
       "        text-align: right;\n",
       "    }\n",
       "</style>\n",
       "<table border=\"1\" class=\"dataframe\">\n",
       "  <thead>\n",
       "    <tr style=\"text-align: right;\">\n",
       "      <th></th>\n",
       "      <th>Rank</th>\n",
       "      <th>Restaurant</th>\n",
       "      <th>Location</th>\n",
       "      <th>Sales</th>\n",
       "      <th>YOY_Sales</th>\n",
       "      <th>Units</th>\n",
       "      <th>YOY_Units</th>\n",
       "      <th>Unit_Volume</th>\n",
       "      <th>Franchising</th>\n",
       "    </tr>\n",
       "  </thead>\n",
       "  <tbody>\n",
       "    <tr>\n",
       "      <th>0</th>\n",
       "      <td>1</td>\n",
       "      <td>Evergreens</td>\n",
       "      <td>Seattle, Wash.</td>\n",
       "      <td>24</td>\n",
       "      <td>130.5%</td>\n",
       "      <td>26</td>\n",
       "      <td>116.7%</td>\n",
       "      <td>1150</td>\n",
       "      <td>No</td>\n",
       "    </tr>\n",
       "    <tr>\n",
       "      <th>1</th>\n",
       "      <td>2</td>\n",
       "      <td>Clean Juice</td>\n",
       "      <td>Charlotte, N.C.</td>\n",
       "      <td>44</td>\n",
       "      <td>121.9%</td>\n",
       "      <td>105</td>\n",
       "      <td>94.4%</td>\n",
       "      <td>560</td>\n",
       "      <td>Yes</td>\n",
       "    </tr>\n",
       "    <tr>\n",
       "      <th>2</th>\n",
       "      <td>3</td>\n",
       "      <td>Slapfish</td>\n",
       "      <td>Huntington Beach, Calif.</td>\n",
       "      <td>21</td>\n",
       "      <td>81.0%</td>\n",
       "      <td>21</td>\n",
       "      <td>90.9%</td>\n",
       "      <td>1370</td>\n",
       "      <td>Yes</td>\n",
       "    </tr>\n",
       "    <tr>\n",
       "      <th>3</th>\n",
       "      <td>4</td>\n",
       "      <td>Clean Eatz</td>\n",
       "      <td>Wilmington, N.C.</td>\n",
       "      <td>25</td>\n",
       "      <td>79.7%</td>\n",
       "      <td>46</td>\n",
       "      <td>58.6%</td>\n",
       "      <td>685</td>\n",
       "      <td>Yes</td>\n",
       "    </tr>\n",
       "    <tr>\n",
       "      <th>4</th>\n",
       "      <td>5</td>\n",
       "      <td>Pokeworks</td>\n",
       "      <td>Irvine, Calif.</td>\n",
       "      <td>49</td>\n",
       "      <td>77.1%</td>\n",
       "      <td>50</td>\n",
       "      <td>56.3%</td>\n",
       "      <td>1210</td>\n",
       "      <td>Yes</td>\n",
       "    </tr>\n",
       "    <tr>\n",
       "      <th>5</th>\n",
       "      <td>6</td>\n",
       "      <td>Playa Bowls</td>\n",
       "      <td>Belmar,  N.J.</td>\n",
       "      <td>39</td>\n",
       "      <td>62.9%</td>\n",
       "      <td>76</td>\n",
       "      <td>28.8%</td>\n",
       "      <td>580</td>\n",
       "      <td>Yes</td>\n",
       "    </tr>\n",
       "    <tr>\n",
       "      <th>6</th>\n",
       "      <td>7</td>\n",
       "      <td>The Simple Greek</td>\n",
       "      <td>Blue Bell, Pa.</td>\n",
       "      <td>24</td>\n",
       "      <td>52.5%</td>\n",
       "      <td>36</td>\n",
       "      <td>33.3%</td>\n",
       "      <td>775</td>\n",
       "      <td>Yes</td>\n",
       "    </tr>\n",
       "    <tr>\n",
       "      <th>7</th>\n",
       "      <td>8</td>\n",
       "      <td>Melt Shop</td>\n",
       "      <td>New York, N.Y.</td>\n",
       "      <td>20</td>\n",
       "      <td>39.6%</td>\n",
       "      <td>19</td>\n",
       "      <td>35.7%</td>\n",
       "      <td>1260</td>\n",
       "      <td>Yes</td>\n",
       "    </tr>\n",
       "    <tr>\n",
       "      <th>8</th>\n",
       "      <td>9</td>\n",
       "      <td>Creamistry</td>\n",
       "      <td>Yorba Linda,  Calif.</td>\n",
       "      <td>24</td>\n",
       "      <td>36.8%</td>\n",
       "      <td>60</td>\n",
       "      <td>27.7%</td>\n",
       "      <td>465</td>\n",
       "      <td>Yes</td>\n",
       "    </tr>\n",
       "    <tr>\n",
       "      <th>9</th>\n",
       "      <td>10</td>\n",
       "      <td>Joella's Hot Chicken</td>\n",
       "      <td>Louisville, Ky.</td>\n",
       "      <td>29</td>\n",
       "      <td>35.5%</td>\n",
       "      <td>17</td>\n",
       "      <td>30.8%</td>\n",
       "      <td>1930</td>\n",
       "      <td>No</td>\n",
       "    </tr>\n",
       "  </tbody>\n",
       "</table>\n",
       "</div>"
      ],
      "text/plain": [
       "   Rank            Restaurant                  Location  Sales YOY_Sales  \\\n",
       "0     1            Evergreens            Seattle, Wash.     24    130.5%   \n",
       "1     2           Clean Juice           Charlotte, N.C.     44    121.9%   \n",
       "2     3              Slapfish  Huntington Beach, Calif.     21     81.0%   \n",
       "3     4            Clean Eatz          Wilmington, N.C.     25     79.7%   \n",
       "4     5             Pokeworks            Irvine, Calif.     49     77.1%   \n",
       "5     6           Playa Bowls             Belmar,  N.J.     39     62.9%   \n",
       "6     7      The Simple Greek            Blue Bell, Pa.     24     52.5%   \n",
       "7     8             Melt Shop            New York, N.Y.     20     39.6%   \n",
       "8     9            Creamistry      Yorba Linda,  Calif.     24     36.8%   \n",
       "9    10  Joella's Hot Chicken           Louisville, Ky.     29     35.5%   \n",
       "\n",
       "   Units YOY_Units  Unit_Volume Franchising  \n",
       "0     26    116.7%         1150          No  \n",
       "1    105     94.4%          560         Yes  \n",
       "2     21     90.9%         1370         Yes  \n",
       "3     46     58.6%          685         Yes  \n",
       "4     50     56.3%         1210         Yes  \n",
       "5     76     28.8%          580         Yes  \n",
       "6     36     33.3%          775         Yes  \n",
       "7     19     35.7%         1260         Yes  \n",
       "8     60     27.7%          465         Yes  \n",
       "9     17     30.8%         1930          No  "
      ]
     },
     "execution_count": 29,
     "metadata": {},
     "output_type": "execute_result"
    }
   ],
   "source": [
    "# Peek at data\n",
    "df3.head(10)"
   ]
  },
  {
   "cell_type": "code",
   "execution_count": 30,
   "id": "b26e7106",
   "metadata": {
    "execution": {
     "iopub.execute_input": "2022-01-07T17:57:32.916751Z",
     "iopub.status.busy": "2022-01-07T17:57:32.916024Z",
     "iopub.status.idle": "2022-01-07T17:57:33.168567Z",
     "shell.execute_reply": "2022-01-07T17:57:33.169155Z",
     "shell.execute_reply.started": "2022-01-07T17:53:31.638252Z"
    },
    "papermill": {
     "duration": 0.309923,
     "end_time": "2022-01-07T17:57:33.169364",
     "exception": false,
     "start_time": "2022-01-07T17:57:32.859441",
     "status": "completed"
    },
    "tags": []
   },
   "outputs": [
    {
     "data": {
      "text/plain": [
       "([<matplotlib.axis.YTick at 0x7f275ce87150>,\n",
       "  <matplotlib.axis.YTick at 0x7f275d2fe9d0>,\n",
       "  <matplotlib.axis.YTick at 0x7f275cea0fd0>,\n",
       "  <matplotlib.axis.YTick at 0x7f275ceacb90>,\n",
       "  <matplotlib.axis.YTick at 0x7f275ceb6310>,\n",
       "  <matplotlib.axis.YTick at 0x7f275ceb6a10>],\n",
       " [Text(0, 0, ''),\n",
       "  Text(0, 0, ''),\n",
       "  Text(0, 0, ''),\n",
       "  Text(0, 0, ''),\n",
       "  Text(0, 0, ''),\n",
       "  Text(0, 0, '')])"
      ]
     },
     "execution_count": 30,
     "metadata": {},
     "output_type": "execute_result"
    },
    {
     "data": {
      "image/png": "[encoded data removed]",
      "text/plain": [
       "<Figure size 432x288 with 1 Axes>"
      ]
     },
     "metadata": {},
     "output_type": "display_data"
    }
   ],
   "source": [
    "plt.scatter(x = df3['Rank'], y = df3['YOY_Sales'])\n",
    "plt.show\n",
    "\n",
    "plt.title('Yearly Sales Increase vs Rank')\n",
    "plt.xlabel('Rank')\n",
    "plt.ylabel('% Sales Increase')\n",
    "plt.yticks([1,10,20,30,40,50])\n",
    "\n"
   ]
  },
  {
   "cell_type": "code",
   "execution_count": 31,
   "id": "f0b08c86",
   "metadata": {
    "execution": {
     "iopub.execute_input": "2022-01-07T17:57:33.282760Z",
     "iopub.status.busy": "2022-01-07T17:57:33.282102Z",
     "iopub.status.idle": "2022-01-07T17:57:33.296935Z",
     "shell.execute_reply": "2022-01-07T17:57:33.297884Z",
     "shell.execute_reply.started": "2022-01-07T17:53:31.873093Z"
    },
    "papermill": {
     "duration": 0.073278,
     "end_time": "2022-01-07T17:57:33.298186",
     "exception": false,
     "start_time": "2022-01-07T17:57:33.224908",
     "status": "completed"
    },
    "tags": []
   },
   "outputs": [
    {
     "name": "stdout",
     "output_type": "stream",
     "text": [
      "Rank - 0%\n",
      "Restaurant - 0%\n",
      "Location - 0%\n",
      "Sales - 0%\n",
      "YOY_Sales - 0%\n",
      "Units - 0%\n",
      "YOY_Units - 0%\n",
      "Unit_Volume - 0%\n",
      "Franchising - 0%\n"
     ]
    }
   ],
   "source": [
    "# This 'Future 50' data seems to rank based \"YOY_ Sales\"\n",
    "# rather than 'Sales' as per the \"Top 50\" data set\n",
    "# Higher % increases in sales = a higher rank overall \n",
    "\n",
    "# Looking for missing data using for loops in third data set\n",
    "\n",
    "for col in df3.columns:\n",
    "    pct_missing = np.mean(df3[col].isnull())\n",
    "    print('{} - {}%'.format(col, round(pct_missing*100)))\n",
    "    \n",
    " # No data seems to be missing as represented by the \"0%\"\n"
   ]
  },
  {
   "cell_type": "code",
   "execution_count": 32,
   "id": "dde20cf4",
   "metadata": {
    "execution": {
     "iopub.execute_input": "2022-01-07T17:57:33.412336Z",
     "iopub.status.busy": "2022-01-07T17:57:33.411269Z",
     "iopub.status.idle": "2022-01-07T17:57:33.417691Z",
     "shell.execute_reply": "2022-01-07T17:57:33.418432Z",
     "shell.execute_reply.started": "2022-01-07T17:53:31.886922Z"
    },
    "papermill": {
     "duration": 0.066172,
     "end_time": "2022-01-07T17:57:33.418646",
     "exception": false,
     "start_time": "2022-01-07T17:57:33.352474",
     "status": "completed"
    },
    "tags": []
   },
   "outputs": [
    {
     "name": "stdout",
     "output_type": "stream",
     "text": [
      "Rank            int64\n",
      "Restaurant     object\n",
      "Location       object\n",
      "Sales           int64\n",
      "YOY_Sales      object\n",
      "Units           int64\n",
      "YOY_Units      object\n",
      "Unit_Volume     int64\n",
      "Franchising    object\n",
      "dtype: object\n"
     ]
    }
   ],
   "source": [
    "print(df3.dtypes)\n",
    "\n",
    "# no floats so data shouldn't be as messy to work with\n"
   ]
  },
  {
   "cell_type": "code",
   "execution_count": 33,
   "id": "be794f62",
   "metadata": {
    "execution": {
     "iopub.execute_input": "2022-01-07T17:57:33.533596Z",
     "iopub.status.busy": "2022-01-07T17:57:33.532838Z",
     "iopub.status.idle": "2022-01-07T17:57:33.769667Z",
     "shell.execute_reply": "2022-01-07T17:57:33.770277Z",
     "shell.execute_reply.started": "2022-01-07T17:53:31.914070Z"
    },
    "papermill": {
     "duration": 0.296201,
     "end_time": "2022-01-07T17:57:33.770504",
     "exception": false,
     "start_time": "2022-01-07T17:57:33.474303",
     "status": "completed"
    },
    "tags": []
   },
   "outputs": [
    {
     "data": {
      "text/plain": [
       "([<matplotlib.axis.YTick at 0x7f275ce05350>,\n",
       "  <matplotlib.axis.YTick at 0x7f275ce76bd0>,\n",
       "  <matplotlib.axis.YTick at 0x7f275d319610>,\n",
       "  <matplotlib.axis.YTick at 0x7f275ce27d50>,\n",
       "  <matplotlib.axis.YTick at 0x7f275ce354d0>,\n",
       "  <matplotlib.axis.YTick at 0x7f275ce35bd0>],\n",
       " [Text(0, 0, ''),\n",
       "  Text(0, 0, ''),\n",
       "  Text(0, 0, ''),\n",
       "  Text(0, 0, ''),\n",
       "  Text(0, 0, ''),\n",
       "  Text(0, 0, '')])"
      ]
     },
     "execution_count": 33,
     "metadata": {},
     "output_type": "execute_result"
    },
    {
     "data": {
      "image/png": "[encoded data removed]",
      "text/plain": [
       "<Figure size 432x288 with 1 Axes>"
      ]
     },
     "metadata": {},
     "output_type": "display_data"
    }
   ],
   "source": [
    "plt.scatter(x = df3['Units'], y = df3['YOY_Sales'])\n",
    "plt.show\n",
    "\n",
    "plt.title('Units vs. Sales Increase')\n",
    "plt.xlabel('Units')\n",
    "plt.ylabel('% Sales')\n",
    "plt.yticks([1,10,20,30,40,50])\n",
    "\n",
    "\n"
   ]
  },
  {
   "cell_type": "code",
   "execution_count": 34,
   "id": "f8503f75",
   "metadata": {
    "execution": {
     "iopub.execute_input": "2022-01-07T17:57:33.886956Z",
     "iopub.status.busy": "2022-01-07T17:57:33.886252Z",
     "iopub.status.idle": "2022-01-07T17:57:33.889833Z",
     "shell.execute_reply": "2022-01-07T17:57:33.890540Z",
     "shell.execute_reply.started": "2022-01-07T17:53:32.148057Z"
    },
    "papermill": {
     "duration": 0.063795,
     "end_time": "2022-01-07T17:57:33.890737",
     "exception": false,
     "start_time": "2022-01-07T17:57:33.826942",
     "status": "completed"
    },
    "tags": []
   },
   "outputs": [],
   "source": [
    "# Amount of units does not seem to have a huge bearing\n",
    "# on whether or not the \"% Sales\" increase. For example,\n",
    "# you can see 3 plots averaging around a 120% increase in sales\n",
    "# where they are pegged at around 20 units, 30 units and 110 units \n",
    "# on the x axis. "
   ]
  },
  {
   "cell_type": "code",
   "execution_count": 35,
   "id": "b76d8417",
   "metadata": {
    "execution": {
     "iopub.execute_input": "2022-01-07T17:57:34.007457Z",
     "iopub.status.busy": "2022-01-07T17:57:34.006755Z",
     "iopub.status.idle": "2022-01-07T17:57:34.020335Z",
     "shell.execute_reply": "2022-01-07T17:57:34.020856Z",
     "shell.execute_reply.started": "2022-01-07T17:53:32.153695Z"
    },
    "papermill": {
     "duration": 0.073891,
     "end_time": "2022-01-07T17:57:34.021105",
     "exception": false,
     "start_time": "2022-01-07T17:57:33.947214",
     "status": "completed"
    },
    "tags": []
   },
   "outputs": [
    {
     "data": {
      "text/html": [
       "<div>\n",
       "<style scoped>\n",
       "    .dataframe tbody tr th:only-of-type {\n",
       "        vertical-align: middle;\n",
       "    }\n",
       "\n",
       "    .dataframe tbody tr th {\n",
       "        vertical-align: top;\n",
       "    }\n",
       "\n",
       "    .dataframe thead th {\n",
       "        text-align: right;\n",
       "    }\n",
       "</style>\n",
       "<table border=\"1\" class=\"dataframe\">\n",
       "  <thead>\n",
       "    <tr style=\"text-align: right;\">\n",
       "      <th></th>\n",
       "      <th>Rank</th>\n",
       "      <th>Sales</th>\n",
       "      <th>Units</th>\n",
       "      <th>Unit_Volume</th>\n",
       "    </tr>\n",
       "  </thead>\n",
       "  <tbody>\n",
       "    <tr>\n",
       "      <th>Rank</th>\n",
       "      <td>1.000000</td>\n",
       "      <td>0.187535</td>\n",
       "      <td>-0.358137</td>\n",
       "      <td>0.359759</td>\n",
       "    </tr>\n",
       "    <tr>\n",
       "      <th>Sales</th>\n",
       "      <td>0.187535</td>\n",
       "      <td>1.000000</td>\n",
       "      <td>0.504153</td>\n",
       "      <td>-0.117048</td>\n",
       "    </tr>\n",
       "    <tr>\n",
       "      <th>Units</th>\n",
       "      <td>-0.358137</td>\n",
       "      <td>0.504153</td>\n",
       "      <td>1.000000</td>\n",
       "      <td>-0.712994</td>\n",
       "    </tr>\n",
       "    <tr>\n",
       "      <th>Unit_Volume</th>\n",
       "      <td>0.359759</td>\n",
       "      <td>-0.117048</td>\n",
       "      <td>-0.712994</td>\n",
       "      <td>1.000000</td>\n",
       "    </tr>\n",
       "  </tbody>\n",
       "</table>\n",
       "</div>"
      ],
      "text/plain": [
       "                 Rank     Sales     Units  Unit_Volume\n",
       "Rank         1.000000  0.187535 -0.358137     0.359759\n",
       "Sales        0.187535  1.000000  0.504153    -0.117048\n",
       "Units       -0.358137  0.504153  1.000000    -0.712994\n",
       "Unit_Volume  0.359759 -0.117048 -0.712994     1.000000"
      ]
     },
     "execution_count": 35,
     "metadata": {},
     "output_type": "execute_result"
    }
   ],
   "source": [
    "df3.corr(method ='pearson')\n",
    "\n",
    "# Finding correlation between other variables in this third\n",
    "# and final data set."
   ]
  },
  {
   "cell_type": "code",
   "execution_count": 36,
   "id": "02c72965",
   "metadata": {
    "execution": {
     "iopub.execute_input": "2022-01-07T17:57:34.141288Z",
     "iopub.status.busy": "2022-01-07T17:57:34.140584Z",
     "iopub.status.idle": "2022-01-07T17:57:34.414910Z",
     "shell.execute_reply": "2022-01-07T17:57:34.414195Z",
     "shell.execute_reply.started": "2022-01-07T17:53:32.175835Z"
    },
    "papermill": {
     "duration": 0.337322,
     "end_time": "2022-01-07T17:57:34.415100",
     "exception": false,
     "start_time": "2022-01-07T17:57:34.077778",
     "status": "completed"
    },
    "tags": []
   },
   "outputs": [
    {
     "data": {
      "image/png": "[encoded data removed]",
      "text/plain": [
       "<Figure size 432x288 with 2 Axes>"
      ]
     },
     "metadata": {},
     "output_type": "display_data"
    }
   ],
   "source": [
    "correlation_matrix = df3.corr()\n",
    "\n",
    "sns.heatmap(correlation_matrix, annot = True)\n",
    "\n",
    "plt.title(\"Correlation Matrix for Variables T3\")\n",
    "\n",
    "\n",
    "plt.show()"
   ]
  },
  {
   "cell_type": "code",
   "execution_count": 37,
   "id": "5922321d",
   "metadata": {
    "execution": {
     "iopub.execute_input": "2022-01-07T17:57:34.535846Z",
     "iopub.status.busy": "2022-01-07T17:57:34.535109Z",
     "iopub.status.idle": "2022-01-07T17:57:34.537950Z",
     "shell.execute_reply": "2022-01-07T17:57:34.538475Z",
     "shell.execute_reply.started": "2022-01-07T17:53:32.470943Z"
    },
    "papermill": {
     "duration": 0.065876,
     "end_time": "2022-01-07T17:57:34.538707",
     "exception": false,
     "start_time": "2022-01-07T17:57:34.472831",
     "status": "completed"
    },
    "tags": []
   },
   "outputs": [],
   "source": [
    "# Table seems to show generally weak correlations except for Units and Unit\n",
    "# Volume. Those two variables show a strong negative correlation (-0.71). "
   ]
  }
 ],
 "metadata": {
  "kernelspec": {
   "display_name": "Python 3",
   "language": "python",
   "name": "python3"
  },
  "language_info": {
   "codemirror_mode": {
    "name": "ipython",
    "version": 3
   },
   "file_extension": ".py",
   "mimetype": "text/x-python",
   "name": "python",
   "nbconvert_exporter": "python",
   "pygments_lexer": "ipython3",
   "version": "3.7.12"
  },
  "papermill": {
   "default_parameters": {},
   "duration": 20.607394,
   "end_time": "2022-01-07T17:57:35.610997",
   "environment_variables": {},
   "exception": null,
   "input_path": "__notebook__.ipynb",
   "output_path": "__notebook__.ipynb",
   "parameters": {},
   "start_time": "2022-01-07T17:57:15.003603",
   "version": "2.3.3"
  }
 },
 "nbformat": 4,
 "nbformat_minor": 5
}
