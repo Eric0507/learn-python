{
 "cells": [
  {
   "cell_type": "code",
   "execution_count": 1,
   "id": "6cd36065",
   "metadata": {
    "_cell_guid": "b1076dfc-b9ad-4769-8c92-a6c4dae69d19",
    "_uuid": "8f2839f25d086af736a60e9eeb907d3b93b6e0e5",
    "execution": {
     "iopub.execute_input": "2022-01-05T19:21:57.589628Z",
     "iopub.status.busy": "2022-01-05T19:21:57.588456Z",
     "iopub.status.idle": "2022-01-05T19:21:57.609155Z",
     "shell.execute_reply": "2022-01-05T19:21:57.608444Z",
     "shell.execute_reply.started": "2022-01-05T00:07:06.564243Z"
    },
    "papermill": {
     "duration": 0.05451,
     "end_time": "2022-01-05T19:21:57.609388",
     "exception": false,
     "start_time": "2022-01-05T19:21:57.554878",
     "status": "completed"
    },
    "tags": []
   },
   "outputs": [
    {
     "name": "stdout",
     "output_type": "stream",
     "text": [
      "/kaggle/input/restaurant-business-rankings-2020/Top250.csv\n",
      "/kaggle/input/restaurant-business-rankings-2020/Future50.csv\n",
      "/kaggle/input/restaurant-business-rankings-2020/Independence100.csv\n"
     ]
    }
   ],
   "source": [
    "# This Python 3 environment comes with many helpful analytics libraries installed\n",
    "# It is defined by the kaggle/python Docker image: https://github.com/kaggle/docker-python\n",
    "# For example, here's several helpful packages to load\n",
    "\n",
    "import numpy as np # linear algebra\n",
    "import pandas as pd # data processing, CSV file I/O (e.g. pd.read_csv)\n",
    "\n",
    "# Input data files are available in the read-only \"../input/\" directory\n",
    "# For example, running this (by clicking run or pressing Shift+Enter) will list all files under the input directory\n",
    "\n",
    "import os\n",
    "for dirname, _, filenames in os.walk('/kaggle/input'):\n",
    "    for filename in filenames:\n",
    "        print(os.path.join(dirname, filename))\n",
    "\n",
    "# You can write up to 20GB to the current directory (/kaggle/working/) that gets preserved as output when you create a version using \"Save & Run All\" \n",
    "# You can also write temporary files to /kaggle/temp/, but they won't be saved outside of the current session"
   ]
  },
  {
   "cell_type": "code",
   "execution_count": 2,
   "id": "266071c4",
   "metadata": {
    "execution": {
     "iopub.execute_input": "2022-01-05T19:21:57.675466Z",
     "iopub.status.busy": "2022-01-05T19:21:57.674457Z",
     "iopub.status.idle": "2022-01-05T19:21:58.618618Z",
     "shell.execute_reply": "2022-01-05T19:21:58.619153Z",
     "shell.execute_reply.started": "2022-01-05T00:07:06.575641Z"
    },
    "papermill": {
     "duration": 0.977503,
     "end_time": "2022-01-05T19:21:58.619341",
     "exception": false,
     "start_time": "2022-01-05T19:21:57.641838",
     "status": "completed"
    },
    "tags": []
   },
   "outputs": [],
   "source": [
    "# Importing any additional libraries that may be useful\n",
    "\n",
    "import seaborn as sns\n",
    "\n",
    "import matplotlib.pyplot as plt\n",
    "import matplotlib.mlab as mlab\n",
    "import matplotlib\n",
    "plt.style.use('ggplot')\n",
    "from matplotlib.pyplot import figure"
   ]
  },
  {
   "cell_type": "code",
   "execution_count": 3,
   "id": "effb6f94",
   "metadata": {
    "execution": {
     "iopub.execute_input": "2022-01-05T19:21:58.683786Z",
     "iopub.status.busy": "2022-01-05T19:21:58.682844Z",
     "iopub.status.idle": "2022-01-05T19:21:58.700390Z",
     "shell.execute_reply": "2022-01-05T19:21:58.700882Z",
     "shell.execute_reply.started": "2022-01-05T00:07:06.590363Z"
    },
    "papermill": {
     "duration": 0.051168,
     "end_time": "2022-01-05T19:21:58.701059",
     "exception": false,
     "start_time": "2022-01-05T19:21:58.649891",
     "status": "completed"
    },
    "tags": []
   },
   "outputs": [],
   "source": [
    "# Reading in the data\n",
    "df = pd.read_csv(\"../input/restaurant-business-rankings-2020/Top250.csv\")"
   ]
  },
  {
   "cell_type": "code",
   "execution_count": 4,
   "id": "42147baf",
   "metadata": {
    "execution": {
     "iopub.execute_input": "2022-01-05T19:21:58.765240Z",
     "iopub.status.busy": "2022-01-05T19:21:58.764156Z",
     "iopub.status.idle": "2022-01-05T19:21:58.786551Z",
     "shell.execute_reply": "2022-01-05T19:21:58.787063Z",
     "shell.execute_reply.started": "2022-01-05T00:07:06.606291Z"
    },
    "papermill": {
     "duration": 0.055923,
     "end_time": "2022-01-05T19:21:58.787233",
     "exception": false,
     "start_time": "2022-01-05T19:21:58.731310",
     "status": "completed"
    },
    "tags": []
   },
   "outputs": [
    {
     "data": {
      "text/html": [
       "<div>\n",
       "<style scoped>\n",
       "    .dataframe tbody tr th:only-of-type {\n",
       "        vertical-align: middle;\n",
       "    }\n",
       "\n",
       "    .dataframe tbody tr th {\n",
       "        vertical-align: top;\n",
       "    }\n",
       "\n",
       "    .dataframe thead th {\n",
       "        text-align: right;\n",
       "    }\n",
       "</style>\n",
       "<table border=\"1\" class=\"dataframe\">\n",
       "  <thead>\n",
       "    <tr style=\"text-align: right;\">\n",
       "      <th></th>\n",
       "      <th>Rank</th>\n",
       "      <th>Restaurant</th>\n",
       "      <th>Content</th>\n",
       "      <th>Sales</th>\n",
       "      <th>YOY_Sales</th>\n",
       "      <th>Units</th>\n",
       "      <th>YOY_Units</th>\n",
       "      <th>Headquarters</th>\n",
       "      <th>Segment_Category</th>\n",
       "    </tr>\n",
       "  </thead>\n",
       "  <tbody>\n",
       "    <tr>\n",
       "      <th>0</th>\n",
       "      <td>1</td>\n",
       "      <td>McDonald's</td>\n",
       "      <td>NaN</td>\n",
       "      <td>40412</td>\n",
       "      <td>4.9%</td>\n",
       "      <td>13846</td>\n",
       "      <td>-0.5%</td>\n",
       "      <td>NaN</td>\n",
       "      <td>Quick Service &amp; Burger</td>\n",
       "    </tr>\n",
       "    <tr>\n",
       "      <th>1</th>\n",
       "      <td>2</td>\n",
       "      <td>Starbucks</td>\n",
       "      <td>NaN</td>\n",
       "      <td>21380</td>\n",
       "      <td>8.6%</td>\n",
       "      <td>15049</td>\n",
       "      <td>3.0%</td>\n",
       "      <td>NaN</td>\n",
       "      <td>Quick Service &amp; Coffee Cafe</td>\n",
       "    </tr>\n",
       "    <tr>\n",
       "      <th>2</th>\n",
       "      <td>3</td>\n",
       "      <td>Chick-fil-A</td>\n",
       "      <td>While Popeyes got a lot of the chicken buzz in...</td>\n",
       "      <td>11320</td>\n",
       "      <td>13.0%</td>\n",
       "      <td>2470</td>\n",
       "      <td>5.0%</td>\n",
       "      <td>NaN</td>\n",
       "      <td>Quick Service &amp; Chicken</td>\n",
       "    </tr>\n",
       "    <tr>\n",
       "      <th>3</th>\n",
       "      <td>4</td>\n",
       "      <td>Taco Bell</td>\n",
       "      <td>NaN</td>\n",
       "      <td>11293</td>\n",
       "      <td>9.0%</td>\n",
       "      <td>6766</td>\n",
       "      <td>2.7%</td>\n",
       "      <td>NaN</td>\n",
       "      <td>Quick Service &amp; Mexican</td>\n",
       "    </tr>\n",
       "    <tr>\n",
       "      <th>4</th>\n",
       "      <td>5</td>\n",
       "      <td>Burger King</td>\n",
       "      <td>NaN</td>\n",
       "      <td>10204</td>\n",
       "      <td>2.7%</td>\n",
       "      <td>7346</td>\n",
       "      <td>0.2%</td>\n",
       "      <td>NaN</td>\n",
       "      <td>Quick Service &amp; Burger</td>\n",
       "    </tr>\n",
       "    <tr>\n",
       "      <th>5</th>\n",
       "      <td>6</td>\n",
       "      <td>Subway</td>\n",
       "      <td>NaN</td>\n",
       "      <td>10200</td>\n",
       "      <td>-2.0%</td>\n",
       "      <td>23801</td>\n",
       "      <td>-4.0%</td>\n",
       "      <td>NaN</td>\n",
       "      <td>Quick Service &amp; Sandwich</td>\n",
       "    </tr>\n",
       "    <tr>\n",
       "      <th>6</th>\n",
       "      <td>7</td>\n",
       "      <td>Wendy's</td>\n",
       "      <td>NaN</td>\n",
       "      <td>9762</td>\n",
       "      <td>4.2%</td>\n",
       "      <td>5852</td>\n",
       "      <td>0.7%</td>\n",
       "      <td>NaN</td>\n",
       "      <td>Quick Service &amp; Burger</td>\n",
       "    </tr>\n",
       "    <tr>\n",
       "      <th>7</th>\n",
       "      <td>8</td>\n",
       "      <td>Dunkin'</td>\n",
       "      <td>Dunkin' dropped \"Donuts\" from its name and rep...</td>\n",
       "      <td>9228</td>\n",
       "      <td>5.0%</td>\n",
       "      <td>9630</td>\n",
       "      <td>2.2%</td>\n",
       "      <td>NaN</td>\n",
       "      <td>Quick Service &amp; Coffee Cafe</td>\n",
       "    </tr>\n",
       "    <tr>\n",
       "      <th>8</th>\n",
       "      <td>9</td>\n",
       "      <td>Domino's</td>\n",
       "      <td>NaN</td>\n",
       "      <td>7044</td>\n",
       "      <td>6.9%</td>\n",
       "      <td>6126</td>\n",
       "      <td>4.3%</td>\n",
       "      <td>NaN</td>\n",
       "      <td>Quick Service &amp; Pizza</td>\n",
       "    </tr>\n",
       "    <tr>\n",
       "      <th>9</th>\n",
       "      <td>10</td>\n",
       "      <td>Panera Bread</td>\n",
       "      <td>NaN</td>\n",
       "      <td>5890</td>\n",
       "      <td>4.0%</td>\n",
       "      <td>2160</td>\n",
       "      <td>3.2%</td>\n",
       "      <td>NaN</td>\n",
       "      <td>Fast Casual &amp; Bakery Cafe</td>\n",
       "    </tr>\n",
       "  </tbody>\n",
       "</table>\n",
       "</div>"
      ],
      "text/plain": [
       "   Rank    Restaurant                                            Content  \\\n",
       "0     1    McDonald's                                                NaN   \n",
       "1     2     Starbucks                                                NaN   \n",
       "2     3   Chick-fil-A  While Popeyes got a lot of the chicken buzz in...   \n",
       "3     4     Taco Bell                                                NaN   \n",
       "4     5   Burger King                                                NaN   \n",
       "5     6        Subway                                                NaN   \n",
       "6     7       Wendy's                                                NaN   \n",
       "7     8       Dunkin'  Dunkin' dropped \"Donuts\" from its name and rep...   \n",
       "8     9      Domino's                                                NaN   \n",
       "9    10  Panera Bread                                                NaN   \n",
       "\n",
       "   Sales YOY_Sales  Units YOY_Units Headquarters             Segment_Category  \n",
       "0  40412      4.9%  13846     -0.5%          NaN       Quick Service & Burger  \n",
       "1  21380      8.6%  15049      3.0%          NaN  Quick Service & Coffee Cafe  \n",
       "2  11320     13.0%   2470      5.0%          NaN      Quick Service & Chicken  \n",
       "3  11293      9.0%   6766      2.7%          NaN      Quick Service & Mexican  \n",
       "4  10204      2.7%   7346      0.2%          NaN       Quick Service & Burger  \n",
       "5  10200     -2.0%  23801     -4.0%          NaN     Quick Service & Sandwich  \n",
       "6   9762      4.2%   5852      0.7%          NaN       Quick Service & Burger  \n",
       "7   9228      5.0%   9630      2.2%          NaN  Quick Service & Coffee Cafe  \n",
       "8   7044      6.9%   6126      4.3%          NaN        Quick Service & Pizza  \n",
       "9   5890      4.0%   2160      3.2%          NaN    Fast Casual & Bakery Cafe  "
      ]
     },
     "execution_count": 4,
     "metadata": {},
     "output_type": "execute_result"
    }
   ],
   "source": [
    "# Viewing the data\n",
    "df.head(10)"
   ]
  },
  {
   "cell_type": "code",
   "execution_count": 5,
   "id": "c9e87792",
   "metadata": {
    "execution": {
     "iopub.execute_input": "2022-01-05T19:21:58.856681Z",
     "iopub.status.busy": "2022-01-05T19:21:58.855674Z",
     "iopub.status.idle": "2022-01-05T19:21:58.864709Z",
     "shell.execute_reply": "2022-01-05T19:21:58.864161Z",
     "shell.execute_reply.started": "2022-01-05T00:07:06.626959Z"
    },
    "papermill": {
     "duration": 0.04761,
     "end_time": "2022-01-05T19:21:58.864873",
     "exception": false,
     "start_time": "2022-01-05T19:21:58.817263",
     "status": "completed"
    },
    "tags": []
   },
   "outputs": [
    {
     "name": "stdout",
     "output_type": "stream",
     "text": [
      "Rank - 0%\n",
      "Restaurant - 0%\n",
      "Content - 87%\n",
      "Sales - 0%\n",
      "YOY_Sales - 0%\n",
      "Units - 0%\n",
      "YOY_Units - 0%\n",
      "Headquarters - 79%\n",
      "Segment_Category - 0%\n"
     ]
    }
   ],
   "source": [
    "# Looking for missing data using for loops\n",
    "for col in df.columns:\n",
    "    pct_missing = np.mean(df[col].isnull())\n",
    "    print('{} - {}%'.format(col, round(pct_missing*100)))\n",
    "\n",
    "# Seems to be that 'Content' and 'Headquarters' are missing data\n",
    "# Upon reviewing, the missing data is not pertinent to the analysis"
   ]
  },
  {
   "cell_type": "code",
   "execution_count": 6,
   "id": "9fdd1013",
   "metadata": {
    "execution": {
     "iopub.execute_input": "2022-01-05T19:21:58.932003Z",
     "iopub.status.busy": "2022-01-05T19:21:58.931374Z",
     "iopub.status.idle": "2022-01-05T19:21:58.933821Z",
     "shell.execute_reply": "2022-01-05T19:21:58.934341Z",
     "shell.execute_reply.started": "2022-01-05T00:07:06.642578Z"
    },
    "papermill": {
     "duration": 0.038795,
     "end_time": "2022-01-05T19:21:58.934503",
     "exception": false,
     "start_time": "2022-01-05T19:21:58.895708",
     "status": "completed"
    },
    "tags": []
   },
   "outputs": [
    {
     "name": "stdout",
     "output_type": "stream",
     "text": [
      "Rank                 int64\n",
      "Restaurant          object\n",
      "Content             object\n",
      "Sales                int64\n",
      "YOY_Sales           object\n",
      "Units                int64\n",
      "YOY_Units           object\n",
      "Headquarters        object\n",
      "Segment_Category    object\n",
      "dtype: object\n"
     ]
    }
   ],
   "source": [
    "# Data Types for our columns\n",
    "\n",
    "print(df.dtypes)"
   ]
  },
  {
   "cell_type": "code",
   "execution_count": 7,
   "id": "28525070",
   "metadata": {
    "execution": {
     "iopub.execute_input": "2022-01-05T19:21:59.004158Z",
     "iopub.status.busy": "2022-01-05T19:21:59.003558Z",
     "iopub.status.idle": "2022-01-05T19:21:59.029597Z",
     "shell.execute_reply": "2022-01-05T19:21:59.030185Z",
     "shell.execute_reply.started": "2022-01-05T00:07:06.650575Z"
    },
    "papermill": {
     "duration": 0.059999,
     "end_time": "2022-01-05T19:21:59.030363",
     "exception": false,
     "start_time": "2022-01-05T19:21:58.970364",
     "status": "completed"
    },
    "tags": []
   },
   "outputs": [
    {
     "data": {
      "text/html": [
       "<div>\n",
       "<style scoped>\n",
       "    .dataframe tbody tr th:only-of-type {\n",
       "        vertical-align: middle;\n",
       "    }\n",
       "\n",
       "    .dataframe tbody tr th {\n",
       "        vertical-align: top;\n",
       "    }\n",
       "\n",
       "    .dataframe thead th {\n",
       "        text-align: right;\n",
       "    }\n",
       "</style>\n",
       "<table border=\"1\" class=\"dataframe\">\n",
       "  <thead>\n",
       "    <tr style=\"text-align: right;\">\n",
       "      <th></th>\n",
       "      <th>Rank</th>\n",
       "      <th>Restaurant</th>\n",
       "      <th>Content</th>\n",
       "      <th>Sales</th>\n",
       "      <th>YOY_Sales</th>\n",
       "      <th>Units</th>\n",
       "      <th>YOY_Units</th>\n",
       "      <th>Headquarters</th>\n",
       "      <th>Segment_Category</th>\n",
       "    </tr>\n",
       "  </thead>\n",
       "  <tbody>\n",
       "    <tr>\n",
       "      <th>0</th>\n",
       "      <td>1</td>\n",
       "      <td>McDonald's</td>\n",
       "      <td>NaN</td>\n",
       "      <td>40412</td>\n",
       "      <td>4.9%</td>\n",
       "      <td>13846</td>\n",
       "      <td>-0.5%</td>\n",
       "      <td>NaN</td>\n",
       "      <td>Quick Service &amp; Burger</td>\n",
       "    </tr>\n",
       "    <tr>\n",
       "      <th>1</th>\n",
       "      <td>2</td>\n",
       "      <td>Starbucks</td>\n",
       "      <td>NaN</td>\n",
       "      <td>21380</td>\n",
       "      <td>8.6%</td>\n",
       "      <td>15049</td>\n",
       "      <td>3.0%</td>\n",
       "      <td>NaN</td>\n",
       "      <td>Quick Service &amp; Coffee Cafe</td>\n",
       "    </tr>\n",
       "    <tr>\n",
       "      <th>2</th>\n",
       "      <td>3</td>\n",
       "      <td>Chick-fil-A</td>\n",
       "      <td>While Popeyes got a lot of the chicken buzz in...</td>\n",
       "      <td>11320</td>\n",
       "      <td>13.0%</td>\n",
       "      <td>2470</td>\n",
       "      <td>5.0%</td>\n",
       "      <td>NaN</td>\n",
       "      <td>Quick Service &amp; Chicken</td>\n",
       "    </tr>\n",
       "    <tr>\n",
       "      <th>3</th>\n",
       "      <td>4</td>\n",
       "      <td>Taco Bell</td>\n",
       "      <td>NaN</td>\n",
       "      <td>11293</td>\n",
       "      <td>9.0%</td>\n",
       "      <td>6766</td>\n",
       "      <td>2.7%</td>\n",
       "      <td>NaN</td>\n",
       "      <td>Quick Service &amp; Mexican</td>\n",
       "    </tr>\n",
       "    <tr>\n",
       "      <th>4</th>\n",
       "      <td>5</td>\n",
       "      <td>Burger King</td>\n",
       "      <td>NaN</td>\n",
       "      <td>10204</td>\n",
       "      <td>2.7%</td>\n",
       "      <td>7346</td>\n",
       "      <td>0.2%</td>\n",
       "      <td>NaN</td>\n",
       "      <td>Quick Service &amp; Burger</td>\n",
       "    </tr>\n",
       "    <tr>\n",
       "      <th>...</th>\n",
       "      <td>...</td>\n",
       "      <td>...</td>\n",
       "      <td>...</td>\n",
       "      <td>...</td>\n",
       "      <td>...</td>\n",
       "      <td>...</td>\n",
       "      <td>...</td>\n",
       "      <td>...</td>\n",
       "      <td>...</td>\n",
       "    </tr>\n",
       "    <tr>\n",
       "      <th>245</th>\n",
       "      <td>246</td>\n",
       "      <td>Rainforest Cafe</td>\n",
       "      <td>NaN</td>\n",
       "      <td>129</td>\n",
       "      <td>-10.4%</td>\n",
       "      <td>18</td>\n",
       "      <td>-5.3%</td>\n",
       "      <td>NaN</td>\n",
       "      <td>Varied Menu</td>\n",
       "    </tr>\n",
       "    <tr>\n",
       "      <th>246</th>\n",
       "      <td>247</td>\n",
       "      <td>PDQ</td>\n",
       "      <td>NaN</td>\n",
       "      <td>127</td>\n",
       "      <td>-5.5%</td>\n",
       "      <td>56</td>\n",
       "      <td>-11.1%</td>\n",
       "      <td>NaN</td>\n",
       "      <td>Chicken</td>\n",
       "    </tr>\n",
       "    <tr>\n",
       "      <th>247</th>\n",
       "      <td>248</td>\n",
       "      <td>Lupe Tortilla</td>\n",
       "      <td>NaN</td>\n",
       "      <td>127</td>\n",
       "      <td>12.1%</td>\n",
       "      <td>25</td>\n",
       "      <td>8.7%</td>\n",
       "      <td>NaN</td>\n",
       "      <td>Mexican</td>\n",
       "    </tr>\n",
       "    <tr>\n",
       "      <th>248</th>\n",
       "      <td>249</td>\n",
       "      <td>Cook-Out Restaurant</td>\n",
       "      <td>NaN</td>\n",
       "      <td>126</td>\n",
       "      <td>10.1%</td>\n",
       "      <td>270</td>\n",
       "      <td>7.1%</td>\n",
       "      <td>NaN</td>\n",
       "      <td>Burger</td>\n",
       "    </tr>\n",
       "    <tr>\n",
       "      <th>249</th>\n",
       "      <td>250</td>\n",
       "      <td>Jollibee</td>\n",
       "      <td>NaN</td>\n",
       "      <td>126</td>\n",
       "      <td>15.2%</td>\n",
       "      <td>40</td>\n",
       "      <td>11.1%</td>\n",
       "      <td>NaN</td>\n",
       "      <td>Chicken</td>\n",
       "    </tr>\n",
       "  </tbody>\n",
       "</table>\n",
       "<p>250 rows × 9 columns</p>\n",
       "</div>"
      ],
      "text/plain": [
       "     Rank           Restaurant  \\\n",
       "0       1           McDonald's   \n",
       "1       2            Starbucks   \n",
       "2       3          Chick-fil-A   \n",
       "3       4            Taco Bell   \n",
       "4       5          Burger King   \n",
       "..    ...                  ...   \n",
       "245   246      Rainforest Cafe   \n",
       "246   247                  PDQ   \n",
       "247   248        Lupe Tortilla   \n",
       "248   249  Cook-Out Restaurant   \n",
       "249   250             Jollibee   \n",
       "\n",
       "                                               Content  Sales YOY_Sales  \\\n",
       "0                                                  NaN  40412      4.9%   \n",
       "1                                                  NaN  21380      8.6%   \n",
       "2    While Popeyes got a lot of the chicken buzz in...  11320     13.0%   \n",
       "3                                                  NaN  11293      9.0%   \n",
       "4                                                  NaN  10204      2.7%   \n",
       "..                                                 ...    ...       ...   \n",
       "245                                                NaN    129    -10.4%   \n",
       "246                                                NaN    127     -5.5%   \n",
       "247                                                NaN    127     12.1%   \n",
       "248                                                NaN    126     10.1%   \n",
       "249                                                NaN    126     15.2%   \n",
       "\n",
       "     Units YOY_Units Headquarters             Segment_Category  \n",
       "0    13846     -0.5%          NaN       Quick Service & Burger  \n",
       "1    15049      3.0%          NaN  Quick Service & Coffee Cafe  \n",
       "2     2470      5.0%          NaN      Quick Service & Chicken  \n",
       "3     6766      2.7%          NaN      Quick Service & Mexican  \n",
       "4     7346      0.2%          NaN       Quick Service & Burger  \n",
       "..     ...       ...          ...                          ...  \n",
       "245     18     -5.3%          NaN                  Varied Menu  \n",
       "246     56    -11.1%          NaN                      Chicken  \n",
       "247     25      8.7%          NaN                      Mexican  \n",
       "248    270      7.1%          NaN                       Burger  \n",
       "249     40     11.1%          NaN                      Chicken  \n",
       "\n",
       "[250 rows x 9 columns]"
      ]
     },
     "execution_count": 7,
     "metadata": {},
     "output_type": "execute_result"
    }
   ],
   "source": [
    "# Continuously cleaning data before analysis\n",
    "\n",
    "df.drop_duplicates()\n"
   ]
  },
  {
   "cell_type": "code",
   "execution_count": 8,
   "id": "f731e115",
   "metadata": {
    "execution": {
     "iopub.execute_input": "2022-01-05T19:21:59.096334Z",
     "iopub.status.busy": "2022-01-05T19:21:59.095713Z",
     "iopub.status.idle": "2022-01-05T19:21:59.364587Z",
     "shell.execute_reply": "2022-01-05T19:21:59.364091Z",
     "shell.execute_reply.started": "2022-01-05T00:07:06.678649Z"
    },
    "papermill": {
     "duration": 0.302725,
     "end_time": "2022-01-05T19:21:59.364720",
     "exception": false,
     "start_time": "2022-01-05T19:21:59.061995",
     "status": "completed"
    },
    "tags": []
   },
   "outputs": [
    {
     "data": {
      "text/plain": [
       "Text(0, 0.5, 'Rank')"
      ]
     },
     "execution_count": 8,
     "metadata": {},
     "output_type": "execute_result"
    },
    {
     "data": {
      "image/png": "[encoded data removed]",
      "text/plain": [
       "<Figure size 432x288 with 1 Axes>"
      ]
     },
     "metadata": {},
     "output_type": "display_data"
    }
   ],
   "source": [
    "plt.scatter(x = df['Sales'], y = df['Rank'])\n",
    "plt.show\n",
    "\n",
    "plt.title('Sales vs Rank')\n",
    "plt.xlabel('# of Sales')\n",
    "plt.ylabel('Rank')\n",
    "# Obvious correlation between 'Sales' and 'Rank'\n",
    "# Curious to look for other correlation between other variables. "
   ]
  },
  {
   "cell_type": "code",
   "execution_count": 9,
   "id": "347628fa",
   "metadata": {
    "execution": {
     "iopub.execute_input": "2022-01-05T19:21:59.444857Z",
     "iopub.status.busy": "2022-01-05T19:21:59.435895Z",
     "iopub.status.idle": "2022-01-05T19:21:59.665003Z",
     "shell.execute_reply": "2022-01-05T19:21:59.664525Z",
     "shell.execute_reply.started": "2022-01-05T00:07:06.926928Z"
    },
    "papermill": {
     "duration": 0.267621,
     "end_time": "2022-01-05T19:21:59.665141",
     "exception": false,
     "start_time": "2022-01-05T19:21:59.397520",
     "status": "completed"
    },
    "tags": []
   },
   "outputs": [
    {
     "data": {
      "text/plain": [
       "Text(0, 0.5, 'Units')"
      ]
     },
     "execution_count": 9,
     "metadata": {},
     "output_type": "execute_result"
    },
    {
     "data": {
      "image/png": "[encoded data removed]",
      "text/plain": [
       "<Figure size 432x288 with 1 Axes>"
      ]
     },
     "metadata": {},
     "output_type": "display_data"
    }
   ],
   "source": [
    "plt.scatter(x = df['Sales'], y = df['Units'])\n",
    "plt.show\n",
    "\n",
    "plt.title('Sales vs Units')\n",
    "plt.xlabel('# of Sales')\n",
    "plt.ylabel('Units')\n",
    "\n",
    "# Units relating to the amount of locations that specific restaurant actively has\n",
    "# Some outliers represeted but generally seems like a positive correlation"
   ]
  },
  {
   "cell_type": "code",
   "execution_count": 10,
   "id": "bce4d59c",
   "metadata": {
    "execution": {
     "iopub.execute_input": "2022-01-05T19:21:59.758387Z",
     "iopub.status.busy": "2022-01-05T19:21:59.748083Z",
     "iopub.status.idle": "2022-01-05T19:22:00.119833Z",
     "shell.execute_reply": "2022-01-05T19:22:00.120271Z",
     "shell.execute_reply.started": "2022-01-05T00:07:07.167839Z"
    },
    "papermill": {
     "duration": 0.420302,
     "end_time": "2022-01-05T19:22:00.120458",
     "exception": false,
     "start_time": "2022-01-05T19:21:59.700156",
     "status": "completed"
    },
    "tags": []
   },
   "outputs": [
    {
     "data": {
      "text/plain": [
       "<AxesSubplot:xlabel='Sales', ylabel='Units'>"
      ]
     },
     "execution_count": 10,
     "metadata": {},
     "output_type": "execute_result"
    },
    {
     "data": {
      "image/png": "[encoded data removed]",
      "text/plain": [
       "<Figure size 432x288 with 1 Axes>"
      ]
     },
     "metadata": {},
     "output_type": "display_data"
    }
   ],
   "source": [
    "# Quick glance at correlation between 'Sales' and 'Units'\n",
    "\n",
    "sns.regplot(x=\"Sales\", y=\"Units\", data=df)\n"
   ]
  },
  {
   "cell_type": "code",
   "execution_count": 11,
   "id": "d4561df1",
   "metadata": {
    "execution": {
     "iopub.execute_input": "2022-01-05T19:22:00.203372Z",
     "iopub.status.busy": "2022-01-05T19:22:00.198166Z",
     "iopub.status.idle": "2022-01-05T19:22:00.205998Z",
     "shell.execute_reply": "2022-01-05T19:22:00.206598Z",
     "shell.execute_reply.started": "2022-01-05T00:07:07.534864Z"
    },
    "papermill": {
     "duration": 0.050753,
     "end_time": "2022-01-05T19:22:00.206759",
     "exception": false,
     "start_time": "2022-01-05T19:22:00.156006",
     "status": "completed"
    },
    "tags": []
   },
   "outputs": [
    {
     "data": {
      "text/html": [
       "<div>\n",
       "<style scoped>\n",
       "    .dataframe tbody tr th:only-of-type {\n",
       "        vertical-align: middle;\n",
       "    }\n",
       "\n",
       "    .dataframe tbody tr th {\n",
       "        vertical-align: top;\n",
       "    }\n",
       "\n",
       "    .dataframe thead th {\n",
       "        text-align: right;\n",
       "    }\n",
       "</style>\n",
       "<table border=\"1\" class=\"dataframe\">\n",
       "  <thead>\n",
       "    <tr style=\"text-align: right;\">\n",
       "      <th></th>\n",
       "      <th>Rank</th>\n",
       "      <th>Sales</th>\n",
       "      <th>Units</th>\n",
       "    </tr>\n",
       "  </thead>\n",
       "  <tbody>\n",
       "    <tr>\n",
       "      <th>Rank</th>\n",
       "      <td>1.000000</td>\n",
       "      <td>-0.462349</td>\n",
       "      <td>-0.450929</td>\n",
       "    </tr>\n",
       "    <tr>\n",
       "      <th>Sales</th>\n",
       "      <td>-0.462349</td>\n",
       "      <td>1.000000</td>\n",
       "      <td>0.780101</td>\n",
       "    </tr>\n",
       "    <tr>\n",
       "      <th>Units</th>\n",
       "      <td>-0.450929</td>\n",
       "      <td>0.780101</td>\n",
       "      <td>1.000000</td>\n",
       "    </tr>\n",
       "  </tbody>\n",
       "</table>\n",
       "</div>"
      ],
      "text/plain": [
       "           Rank     Sales     Units\n",
       "Rank   1.000000 -0.462349 -0.450929\n",
       "Sales -0.462349  1.000000  0.780101\n",
       "Units -0.450929  0.780101  1.000000"
      ]
     },
     "execution_count": 11,
     "metadata": {},
     "output_type": "execute_result"
    }
   ],
   "source": [
    "# Forming the correlation matrix\n",
    "\n",
    "df.corr(method ='pearson')"
   ]
  },
  {
   "cell_type": "code",
   "execution_count": 12,
   "id": "bec1e445",
   "metadata": {
    "execution": {
     "iopub.execute_input": "2022-01-05T19:22:00.285607Z",
     "iopub.status.busy": "2022-01-05T19:22:00.284976Z",
     "iopub.status.idle": "2022-01-05T19:22:00.524678Z",
     "shell.execute_reply": "2022-01-05T19:22:00.525143Z",
     "shell.execute_reply.started": "2022-01-05T00:07:07.550761Z"
    },
    "papermill": {
     "duration": 0.28224,
     "end_time": "2022-01-05T19:22:00.525329",
     "exception": false,
     "start_time": "2022-01-05T19:22:00.243089",
     "status": "completed"
    },
    "tags": []
   },
   "outputs": [
    {
     "data": {
      "image/png": "[encoded data removed]",
      "text/plain": [
       "<Figure size 432x288 with 2 Axes>"
      ]
     },
     "metadata": {},
     "output_type": "display_data"
    }
   ],
   "source": [
    "correlation_matrix = df.corr()\n",
    "\n",
    "sns.heatmap(correlation_matrix, annot = True)\n",
    "\n",
    "plt.title(\"Correlation Matrix for Variables T1\")\n",
    "\n",
    "\n",
    "plt.show()\n",
    "\n",
    "# Easier way to visualize correlations between \n",
    "# numeric values within the dataset.\n"
   ]
  },
  {
   "cell_type": "code",
   "execution_count": 13,
   "id": "543107f4",
   "metadata": {
    "execution": {
     "iopub.execute_input": "2022-01-05T19:22:00.603526Z",
     "iopub.status.busy": "2022-01-05T19:22:00.602861Z",
     "iopub.status.idle": "2022-01-05T19:22:00.605494Z",
     "shell.execute_reply": "2022-01-05T19:22:00.605012Z",
     "shell.execute_reply.started": "2022-01-05T00:07:07.811018Z"
    },
    "papermill": {
     "duration": 0.043199,
     "end_time": "2022-01-05T19:22:00.605627",
     "exception": false,
     "start_time": "2022-01-05T19:22:00.562428",
     "status": "completed"
    },
    "tags": []
   },
   "outputs": [],
   "source": [
    "# Found correlation between 'Sales' and 'Units' although \n",
    "# just because a company managed to have more units did not \n",
    "# mean that they necessarily placed better in the rankings. "
   ]
  },
  {
   "cell_type": "code",
   "execution_count": 14,
   "id": "ed9a395e",
   "metadata": {
    "execution": {
     "iopub.execute_input": "2022-01-05T19:22:00.683083Z",
     "iopub.status.busy": "2022-01-05T19:22:00.682486Z",
     "iopub.status.idle": "2022-01-05T19:22:00.694358Z",
     "shell.execute_reply": "2022-01-05T19:22:00.694942Z",
     "shell.execute_reply.started": "2022-01-05T00:07:07.815073Z"
    },
    "papermill": {
     "duration": 0.052427,
     "end_time": "2022-01-05T19:22:00.695102",
     "exception": false,
     "start_time": "2022-01-05T19:22:00.642675",
     "status": "completed"
    },
    "tags": []
   },
   "outputs": [],
   "source": [
    "# Exploring new dataset\n",
    "df2 = pd.read_csv(\"../input/restaurant-business-rankings-2020/Independence100.csv\")"
   ]
  },
  {
   "cell_type": "code",
   "execution_count": 15,
   "id": "02d33f34",
   "metadata": {
    "execution": {
     "iopub.execute_input": "2022-01-05T19:22:00.771214Z",
     "iopub.status.busy": "2022-01-05T19:22:00.770617Z",
     "iopub.status.idle": "2022-01-05T19:22:00.784012Z",
     "shell.execute_reply": "2022-01-05T19:22:00.784575Z",
     "shell.execute_reply.started": "2022-01-05T00:07:07.834899Z"
    },
    "papermill": {
     "duration": 0.053142,
     "end_time": "2022-01-05T19:22:00.784732",
     "exception": false,
     "start_time": "2022-01-05T19:22:00.731590",
     "status": "completed"
    },
    "tags": []
   },
   "outputs": [
    {
     "data": {
      "text/html": [
       "<div>\n",
       "<style scoped>\n",
       "    .dataframe tbody tr th:only-of-type {\n",
       "        vertical-align: middle;\n",
       "    }\n",
       "\n",
       "    .dataframe tbody tr th {\n",
       "        vertical-align: top;\n",
       "    }\n",
       "\n",
       "    .dataframe thead th {\n",
       "        text-align: right;\n",
       "    }\n",
       "</style>\n",
       "<table border=\"1\" class=\"dataframe\">\n",
       "  <thead>\n",
       "    <tr style=\"text-align: right;\">\n",
       "      <th></th>\n",
       "      <th>Rank</th>\n",
       "      <th>Restaurant</th>\n",
       "      <th>Sales</th>\n",
       "      <th>Average Check</th>\n",
       "      <th>City</th>\n",
       "      <th>State</th>\n",
       "      <th>Meals Served</th>\n",
       "    </tr>\n",
       "  </thead>\n",
       "  <tbody>\n",
       "    <tr>\n",
       "      <th>0</th>\n",
       "      <td>1</td>\n",
       "      <td>Carmine's (Times Square)</td>\n",
       "      <td>39080335.0</td>\n",
       "      <td>40</td>\n",
       "      <td>New York</td>\n",
       "      <td>N.Y.</td>\n",
       "      <td>469803.0</td>\n",
       "    </tr>\n",
       "    <tr>\n",
       "      <th>1</th>\n",
       "      <td>2</td>\n",
       "      <td>The Boathouse Orlando</td>\n",
       "      <td>35218364.0</td>\n",
       "      <td>43</td>\n",
       "      <td>Orlando</td>\n",
       "      <td>Fla.</td>\n",
       "      <td>820819.0</td>\n",
       "    </tr>\n",
       "    <tr>\n",
       "      <th>2</th>\n",
       "      <td>3</td>\n",
       "      <td>Old Ebbitt Grill</td>\n",
       "      <td>29104017.0</td>\n",
       "      <td>33</td>\n",
       "      <td>Washington</td>\n",
       "      <td>D.C.</td>\n",
       "      <td>892830.0</td>\n",
       "    </tr>\n",
       "    <tr>\n",
       "      <th>3</th>\n",
       "      <td>4</td>\n",
       "      <td>LAVO Italian Restaurant &amp; Nightclub</td>\n",
       "      <td>26916180.0</td>\n",
       "      <td>90</td>\n",
       "      <td>New York</td>\n",
       "      <td>N.Y.</td>\n",
       "      <td>198500.0</td>\n",
       "    </tr>\n",
       "    <tr>\n",
       "      <th>4</th>\n",
       "      <td>5</td>\n",
       "      <td>Bryant Park Grill &amp; Cafe</td>\n",
       "      <td>26900000.0</td>\n",
       "      <td>62</td>\n",
       "      <td>New York</td>\n",
       "      <td>N.Y.</td>\n",
       "      <td>403000.0</td>\n",
       "    </tr>\n",
       "    <tr>\n",
       "      <th>5</th>\n",
       "      <td>6</td>\n",
       "      <td>Gibsons Bar &amp; Steakhouse</td>\n",
       "      <td>25409952.0</td>\n",
       "      <td>80</td>\n",
       "      <td>Chicago</td>\n",
       "      <td>Ill.</td>\n",
       "      <td>348567.0</td>\n",
       "    </tr>\n",
       "    <tr>\n",
       "      <th>6</th>\n",
       "      <td>7</td>\n",
       "      <td>Top of the World at the STRAT</td>\n",
       "      <td>25233543.0</td>\n",
       "      <td>103</td>\n",
       "      <td>Las Vegas</td>\n",
       "      <td>Nev.</td>\n",
       "      <td>246054.0</td>\n",
       "    </tr>\n",
       "    <tr>\n",
       "      <th>7</th>\n",
       "      <td>8</td>\n",
       "      <td>Maple &amp; Ash</td>\n",
       "      <td>24837595.0</td>\n",
       "      <td>99</td>\n",
       "      <td>Chicago</td>\n",
       "      <td>Ill.</td>\n",
       "      <td>210832.0</td>\n",
       "    </tr>\n",
       "    <tr>\n",
       "      <th>8</th>\n",
       "      <td>9</td>\n",
       "      <td>Balthazar</td>\n",
       "      <td>24547800.0</td>\n",
       "      <td>87</td>\n",
       "      <td>New York</td>\n",
       "      <td>N.Y.</td>\n",
       "      <td>519000.0</td>\n",
       "    </tr>\n",
       "    <tr>\n",
       "      <th>9</th>\n",
       "      <td>10</td>\n",
       "      <td>Smith &amp; Wollensky</td>\n",
       "      <td>24501000.0</td>\n",
       "      <td>107</td>\n",
       "      <td>New York</td>\n",
       "      <td>N.Y.</td>\n",
       "      <td>257364.0</td>\n",
       "    </tr>\n",
       "  </tbody>\n",
       "</table>\n",
       "</div>"
      ],
      "text/plain": [
       "   Rank                           Restaurant       Sales  Average Check  \\\n",
       "0     1             Carmine's (Times Square)  39080335.0             40   \n",
       "1     2                The Boathouse Orlando  35218364.0             43   \n",
       "2     3                     Old Ebbitt Grill  29104017.0             33   \n",
       "3     4  LAVO Italian Restaurant & Nightclub  26916180.0             90   \n",
       "4     5             Bryant Park Grill & Cafe  26900000.0             62   \n",
       "5     6             Gibsons Bar & Steakhouse  25409952.0             80   \n",
       "6     7       Top of the World at the STRAT   25233543.0            103   \n",
       "7     8                          Maple & Ash  24837595.0             99   \n",
       "8     9                            Balthazar  24547800.0             87   \n",
       "9    10                    Smith & Wollensky  24501000.0            107   \n",
       "\n",
       "         City State  Meals Served  \n",
       "0    New York  N.Y.      469803.0  \n",
       "1    Orlando   Fla.      820819.0  \n",
       "2  Washington  D.C.      892830.0  \n",
       "3    New York  N.Y.      198500.0  \n",
       "4    New York  N.Y.      403000.0  \n",
       "5     Chicago  Ill.      348567.0  \n",
       "6   Las Vegas  Nev.      246054.0  \n",
       "7     Chicago  Ill.      210832.0  \n",
       "8    New York  N.Y.      519000.0  \n",
       "9    New York  N.Y.      257364.0  "
      ]
     },
     "execution_count": 15,
     "metadata": {},
     "output_type": "execute_result"
    }
   ],
   "source": [
    "df2.head(10)"
   ]
  },
  {
   "cell_type": "code",
   "execution_count": 16,
   "id": "b4380c12",
   "metadata": {
    "execution": {
     "iopub.execute_input": "2022-01-05T19:22:00.867733Z",
     "iopub.status.busy": "2022-01-05T19:22:00.867137Z",
     "iopub.status.idle": "2022-01-05T19:22:00.870723Z",
     "shell.execute_reply": "2022-01-05T19:22:00.871336Z",
     "shell.execute_reply.started": "2022-01-05T00:07:07.853838Z"
    },
    "papermill": {
     "duration": 0.049485,
     "end_time": "2022-01-05T19:22:00.871496",
     "exception": false,
     "start_time": "2022-01-05T19:22:00.822011",
     "status": "completed"
    },
    "tags": []
   },
   "outputs": [
    {
     "name": "stdout",
     "output_type": "stream",
     "text": [
      "Rank - 0%\n",
      "Restaurant - 0%\n",
      "Sales - 0%\n",
      "Average Check - 0%\n",
      "City - 0%\n",
      "State - 0%\n",
      "Meals Served - 0%\n"
     ]
    }
   ],
   "source": [
    "# Looking for missing data using for loops in second data set\n",
    "\n",
    "for col in df2.columns:\n",
    "    pct_missing = np.mean(df2[col].isnull())\n",
    "    print('{} - {}%'.format(col, round(pct_missing*100)))\n",
    "    \n",
    " # No data seems to be missing as represented by the \"0%\""
   ]
  },
  {
   "cell_type": "code",
   "execution_count": 17,
   "id": "e6fb9389",
   "metadata": {
    "execution": {
     "iopub.execute_input": "2022-01-05T19:22:00.950435Z",
     "iopub.status.busy": "2022-01-05T19:22:00.949827Z",
     "iopub.status.idle": "2022-01-05T19:22:00.955815Z",
     "shell.execute_reply": "2022-01-05T19:22:00.956435Z",
     "shell.execute_reply.started": "2022-01-05T00:07:07.872876Z"
    },
    "papermill": {
     "duration": 0.046969,
     "end_time": "2022-01-05T19:22:00.956600",
     "exception": false,
     "start_time": "2022-01-05T19:22:00.909631",
     "status": "completed"
    },
    "tags": []
   },
   "outputs": [
    {
     "name": "stdout",
     "output_type": "stream",
     "text": [
      "Rank               int64\n",
      "Restaurant        object\n",
      "Sales            float64\n",
      "Average Check      int64\n",
      "City              object\n",
      "State             object\n",
      "Meals Served     float64\n",
      "dtype: object\n"
     ]
    }
   ],
   "source": [
    "print(df2.dtypes)\n",
    "\n",
    "# 'Sales' and 'Meals Served' columns seem to have an unneeded decimal point\n",
    "# so it may be better to rid that to clean up the data"
   ]
  },
  {
   "cell_type": "code",
   "execution_count": 18,
   "id": "43c50e9f",
   "metadata": {
    "execution": {
     "iopub.execute_input": "2022-01-05T19:22:01.035815Z",
     "iopub.status.busy": "2022-01-05T19:22:01.035176Z",
     "iopub.status.idle": "2022-01-05T19:22:01.039765Z",
     "shell.execute_reply": "2022-01-05T19:22:01.040256Z",
     "shell.execute_reply.started": "2022-01-05T00:07:07.888760Z"
    },
    "papermill": {
     "duration": 0.045555,
     "end_time": "2022-01-05T19:22:01.040420",
     "exception": false,
     "start_time": "2022-01-05T19:22:00.994865",
     "status": "completed"
    },
    "tags": []
   },
   "outputs": [],
   "source": [
    "df2['Sales'] = df2['Sales'].astype('int64')\n",
    "\n",
    "df2 ['Meals Served'] = df2['Meals Served'].astype('int64')\n",
    "\n",
    " # 'Sales' and 'Meals Served' data type changed from float64 to int64 \n",
    " # for increased readability"
   ]
  },
  {
   "cell_type": "code",
   "execution_count": 19,
   "id": "505489ed",
   "metadata": {
    "execution": {
     "iopub.execute_input": "2022-01-05T19:22:01.119344Z",
     "iopub.status.busy": "2022-01-05T19:22:01.118749Z",
     "iopub.status.idle": "2022-01-05T19:22:01.125963Z",
     "shell.execute_reply": "2022-01-05T19:22:01.124936Z",
     "shell.execute_reply.started": "2022-01-05T00:07:07.903431Z"
    },
    "papermill": {
     "duration": 0.048037,
     "end_time": "2022-01-05T19:22:01.126219",
     "exception": false,
     "start_time": "2022-01-05T19:22:01.078182",
     "status": "completed"
    },
    "tags": []
   },
   "outputs": [
    {
     "name": "stdout",
     "output_type": "stream",
     "text": [
      "Rank              int64\n",
      "Restaurant       object\n",
      "Sales             int64\n",
      "Average Check     int64\n",
      "City             object\n",
      "State            object\n",
      "Meals Served      int64\n",
      "dtype: object\n"
     ]
    }
   ],
   "source": [
    "print(df2.dtypes)"
   ]
  },
  {
   "cell_type": "code",
   "execution_count": 20,
   "id": "f0565800",
   "metadata": {
    "execution": {
     "iopub.execute_input": "2022-01-05T19:22:01.207376Z",
     "iopub.status.busy": "2022-01-05T19:22:01.206778Z",
     "iopub.status.idle": "2022-01-05T19:22:01.427596Z",
     "shell.execute_reply": "2022-01-05T19:22:01.427070Z",
     "shell.execute_reply.started": "2022-01-05T00:07:07.916138Z"
    },
    "papermill": {
     "duration": 0.262151,
     "end_time": "2022-01-05T19:22:01.427740",
     "exception": false,
     "start_time": "2022-01-05T19:22:01.165589",
     "status": "completed"
    },
    "tags": []
   },
   "outputs": [
    {
     "data": {
      "text/plain": [
       "Text(0, 0.5, 'Rank')"
      ]
     },
     "execution_count": 20,
     "metadata": {},
     "output_type": "execute_result"
    },
    {
     "data": {
      "image/png": "[encoded data removed]",
      "text/plain": [
       "<Figure size 432x288 with 1 Axes>"
      ]
     },
     "metadata": {},
     "output_type": "display_data"
    }
   ],
   "source": [
    "plt.scatter(x = df2['Sales'], y = df2['Rank'])\n",
    "plt.show\n",
    "\n",
    "plt.title('Sales Amount vs Rank')\n",
    "plt.xlabel('Sales Amount')\n",
    "plt.ylabel('Rank')\n",
    "\n",
    "# Rank is solely based on sales amount, visualizing anyway to \n",
    "# see if there are any outliers"
   ]
  },
  {
   "cell_type": "code",
   "execution_count": 21,
   "id": "b2df2d0b",
   "metadata": {
    "execution": {
     "iopub.execute_input": "2022-01-05T19:22:01.518593Z",
     "iopub.status.busy": "2022-01-05T19:22:01.511222Z",
     "iopub.status.idle": "2022-01-05T19:22:01.866883Z",
     "shell.execute_reply": "2022-01-05T19:22:01.867387Z",
     "shell.execute_reply.started": "2022-01-05T00:07:08.343703Z"
    },
    "papermill": {
     "duration": 0.400634,
     "end_time": "2022-01-05T19:22:01.867582",
     "exception": false,
     "start_time": "2022-01-05T19:22:01.466948",
     "status": "completed"
    },
    "tags": []
   },
   "outputs": [
    {
     "data": {
      "text/plain": [
       "<AxesSubplot:xlabel='Sales', ylabel='Rank'>"
      ]
     },
     "execution_count": 21,
     "metadata": {},
     "output_type": "execute_result"
    },
    {
     "data": {
      "image/png": "[encoded data removed]",
      "text/plain": [
       "<Figure size 432x288 with 1 Axes>"
      ]
     },
     "metadata": {},
     "output_type": "display_data"
    }
   ],
   "source": [
    "sns.regplot(x=\"Sales\", y=\"Rank\", data=df2)\n",
    "\n",
    "# Correlation seems to be strongly negative as predicted,\n",
    "# as the amount of sales go down, so does the rank\n"
   ]
  },
  {
   "cell_type": "code",
   "execution_count": 22,
   "id": "6a503f92",
   "metadata": {
    "execution": {
     "iopub.execute_input": "2022-01-05T19:22:01.960922Z",
     "iopub.status.busy": "2022-01-05T19:22:01.959926Z",
     "iopub.status.idle": "2022-01-05T19:22:02.187636Z",
     "shell.execute_reply": "2022-01-05T19:22:02.188088Z",
     "shell.execute_reply.started": "2022-01-05T00:07:08.718783Z"
    },
    "papermill": {
     "duration": 0.279717,
     "end_time": "2022-01-05T19:22:02.188259",
     "exception": false,
     "start_time": "2022-01-05T19:22:01.908542",
     "status": "completed"
    },
    "tags": []
   },
   "outputs": [
    {
     "data": {
      "text/plain": [
       "Text(0, 0.5, 'Check Amount')"
      ]
     },
     "execution_count": 22,
     "metadata": {},
     "output_type": "execute_result"
    },
    {
     "data": {
      "image/png": "[encoded data removed]",
      "text/plain": [
       "<Figure size 432x288 with 1 Axes>"
      ]
     },
     "metadata": {},
     "output_type": "display_data"
    }
   ],
   "source": [
    "plt.scatter(x = df2['Sales'], y = df2['Average Check'])\n",
    "plt.show\n",
    "\n",
    "plt.title('Sales vs Average Check')\n",
    "plt.xlabel('Sales')\n",
    "plt.ylabel('Check Amount')\n",
    "\n",
    "# Vizualiztation correlation between 'average check' and 'Sales'\n",
    "# Difficult to point out any correlation at the moment but seems like\n",
    "# it's barely sloping positively"
   ]
  },
  {
   "cell_type": "code",
   "execution_count": 23,
   "id": "fbeae76b",
   "metadata": {
    "execution": {
     "iopub.execute_input": "2022-01-05T19:22:02.281235Z",
     "iopub.status.busy": "2022-01-05T19:22:02.280246Z",
     "iopub.status.idle": "2022-01-05T19:22:02.580227Z",
     "shell.execute_reply": "2022-01-05T19:22:02.580761Z",
     "shell.execute_reply.started": "2022-01-05T00:07:08.969761Z"
    },
    "papermill": {
     "duration": 0.34978,
     "end_time": "2022-01-05T19:22:02.580928",
     "exception": false,
     "start_time": "2022-01-05T19:22:02.231148",
     "status": "completed"
    },
    "tags": []
   },
   "outputs": [
    {
     "data": {
      "text/plain": [
       "<AxesSubplot:xlabel='Sales', ylabel='Average Check'>"
      ]
     },
     "execution_count": 23,
     "metadata": {},
     "output_type": "execute_result"
    },
    {
     "data": {
      "image/png": "[encoded data removed]",
      "text/plain": [
       "<Figure size 432x288 with 1 Axes>"
      ]
     },
     "metadata": {},
     "output_type": "display_data"
    }
   ],
   "source": [
    "sns.regplot(x=\"Sales\", y=\"Average Check\", data=df2)\n",
    "\n",
    "# Regression line shows weak correlation \n"
   ]
  },
  {
   "cell_type": "code",
   "execution_count": 24,
   "id": "577c307e",
   "metadata": {
    "execution": {
     "iopub.execute_input": "2022-01-05T19:22:02.673694Z",
     "iopub.status.busy": "2022-01-05T19:22:02.673063Z",
     "iopub.status.idle": "2022-01-05T19:22:02.856282Z",
     "shell.execute_reply": "2022-01-05T19:22:02.856801Z",
     "shell.execute_reply.started": "2022-01-05T00:07:09.336678Z"
    },
    "papermill": {
     "duration": 0.232066,
     "end_time": "2022-01-05T19:22:02.856981",
     "exception": false,
     "start_time": "2022-01-05T19:22:02.624915",
     "status": "completed"
    },
    "tags": []
   },
   "outputs": [
    {
     "data": {
      "text/plain": [
       "Text(0, 0.5, 'Average Check in $')"
      ]
     },
     "execution_count": 24,
     "metadata": {},
     "output_type": "execute_result"
    },
    {
     "data": {
      "image/png": "[encoded data removed]",
      "text/plain": [
       "<Figure size 432x288 with 1 Axes>"
      ]
     },
     "metadata": {},
     "output_type": "display_data"
    }
   ],
   "source": [
    "plt.scatter(x = df2['Rank'], y = df2['Average Check'])\n",
    "plt.show\n",
    "\n",
    "plt.title('Rank vs Average Check')\n",
    "plt.xlabel('Rank')\n",
    "plt.ylabel('Average Check in $')\n",
    "\n",
    "# At first glance, datapoints seem scattered and correlation is not \n",
    "# easily detectable"
   ]
  },
  {
   "cell_type": "code",
   "execution_count": 25,
   "id": "6e8438b0",
   "metadata": {
    "execution": {
     "iopub.execute_input": "2022-01-05T19:22:02.973992Z",
     "iopub.status.busy": "2022-01-05T19:22:02.973347Z",
     "iopub.status.idle": "2022-01-05T19:22:03.245998Z",
     "shell.execute_reply": "2022-01-05T19:22:03.245494Z",
     "shell.execute_reply.started": "2022-01-05T00:07:09.590653Z"
    },
    "papermill": {
     "duration": 0.344212,
     "end_time": "2022-01-05T19:22:03.246136",
     "exception": false,
     "start_time": "2022-01-05T19:22:02.901924",
     "status": "completed"
    },
    "tags": []
   },
   "outputs": [
    {
     "data": {
      "text/plain": [
       "<AxesSubplot:xlabel='Rank', ylabel='Average Check'>"
      ]
     },
     "execution_count": 25,
     "metadata": {},
     "output_type": "execute_result"
    },
    {
     "data": {
      "image/png": "[encoded data removed]",
      "text/plain": [
       "<Figure size 432x288 with 1 Axes>"
      ]
     },
     "metadata": {},
     "output_type": "display_data"
    }
   ],
   "source": [
    "sns.regplot(x=\"Rank\", y=\"Average Check\", data=df2)\n",
    "\n",
    "# Data showing another weak correlation here"
   ]
  },
  {
   "cell_type": "code",
   "execution_count": 26,
   "id": "ac13ea89",
   "metadata": {
    "execution": {
     "iopub.execute_input": "2022-01-05T19:22:03.343816Z",
     "iopub.status.busy": "2022-01-05T19:22:03.340973Z",
     "iopub.status.idle": "2022-01-05T19:22:03.351153Z",
     "shell.execute_reply": "2022-01-05T19:22:03.351744Z",
     "shell.execute_reply.started": "2022-01-05T00:07:09.902402Z"
    },
    "papermill": {
     "duration": 0.059466,
     "end_time": "2022-01-05T19:22:03.351902",
     "exception": false,
     "start_time": "2022-01-05T19:22:03.292436",
     "status": "completed"
    },
    "tags": []
   },
   "outputs": [
    {
     "data": {
      "text/html": [
       "<div>\n",
       "<style scoped>\n",
       "    .dataframe tbody tr th:only-of-type {\n",
       "        vertical-align: middle;\n",
       "    }\n",
       "\n",
       "    .dataframe tbody tr th {\n",
       "        vertical-align: top;\n",
       "    }\n",
       "\n",
       "    .dataframe thead th {\n",
       "        text-align: right;\n",
       "    }\n",
       "</style>\n",
       "<table border=\"1\" class=\"dataframe\">\n",
       "  <thead>\n",
       "    <tr style=\"text-align: right;\">\n",
       "      <th></th>\n",
       "      <th>Rank</th>\n",
       "      <th>Sales</th>\n",
       "      <th>Average Check</th>\n",
       "      <th>Meals Served</th>\n",
       "    </tr>\n",
       "  </thead>\n",
       "  <tbody>\n",
       "    <tr>\n",
       "      <th>Rank</th>\n",
       "      <td>1.000000</td>\n",
       "      <td>-0.917341</td>\n",
       "      <td>-0.305996</td>\n",
       "      <td>-0.247434</td>\n",
       "    </tr>\n",
       "    <tr>\n",
       "      <th>Sales</th>\n",
       "      <td>-0.917341</td>\n",
       "      <td>1.000000</td>\n",
       "      <td>0.194195</td>\n",
       "      <td>0.302014</td>\n",
       "    </tr>\n",
       "    <tr>\n",
       "      <th>Average Check</th>\n",
       "      <td>-0.305996</td>\n",
       "      <td>0.194195</td>\n",
       "      <td>1.000000</td>\n",
       "      <td>-0.627206</td>\n",
       "    </tr>\n",
       "    <tr>\n",
       "      <th>Meals Served</th>\n",
       "      <td>-0.247434</td>\n",
       "      <td>0.302014</td>\n",
       "      <td>-0.627206</td>\n",
       "      <td>1.000000</td>\n",
       "    </tr>\n",
       "  </tbody>\n",
       "</table>\n",
       "</div>"
      ],
      "text/plain": [
       "                   Rank     Sales  Average Check  Meals Served\n",
       "Rank           1.000000 -0.917341      -0.305996     -0.247434\n",
       "Sales         -0.917341  1.000000       0.194195      0.302014\n",
       "Average Check -0.305996  0.194195       1.000000     -0.627206\n",
       "Meals Served  -0.247434  0.302014      -0.627206      1.000000"
      ]
     },
     "execution_count": 26,
     "metadata": {},
     "output_type": "execute_result"
    }
   ],
   "source": [
    "# May be more useful to find out the correlation coefficient to \n",
    "# better analyze the relationship between the variables \n",
    "\n",
    "df2.corr(method ='pearson')"
   ]
  },
  {
   "cell_type": "code",
   "execution_count": 27,
   "id": "f3ebdaa4",
   "metadata": {
    "execution": {
     "iopub.execute_input": "2022-01-05T19:22:03.448901Z",
     "iopub.status.busy": "2022-01-05T19:22:03.448226Z",
     "iopub.status.idle": "2022-01-05T19:22:03.798946Z",
     "shell.execute_reply": "2022-01-05T19:22:03.799644Z",
     "shell.execute_reply.started": "2022-01-05T00:07:09.917785Z"
    },
    "papermill": {
     "duration": 0.400975,
     "end_time": "2022-01-05T19:22:03.799823",
     "exception": false,
     "start_time": "2022-01-05T19:22:03.398848",
     "status": "completed"
    },
    "tags": []
   },
   "outputs": [
    {
     "data": {
      "image/png": "[encoded data removed]",
      "text/plain": [
       "<Figure size 432x288 with 2 Axes>"
      ]
     },
     "metadata": {},
     "output_type": "display_data"
    }
   ],
   "source": [
    "# Here are those above results visualized\n",
    "\n",
    "correlation_matrix = df2.corr()\n",
    "\n",
    "sns.heatmap(correlation_matrix, annot = True)\n",
    "\n",
    "plt.title(\"Correlation Matrix for Variables T2\")\n",
    "\n",
    "\n",
    "plt.show()\n",
    "\n",
    "# Data seems to show various weak correlations between the \n",
    "# variables except for the obvious one of Rank and Sales. \n",
    "\n",
    "# The next \"strongest\" correlation would be between the Average Check\n",
    "# and Meals Served albeit a strong negative correlation.\n",
    "# The higher the average check, the lower the amount of meals served. \n"
   ]
  },
  {
   "cell_type": "code",
   "execution_count": 28,
   "id": "9f4e682e",
   "metadata": {
    "execution": {
     "iopub.execute_input": "2022-01-05T19:22:03.899582Z",
     "iopub.status.busy": "2022-01-05T19:22:03.898957Z",
     "iopub.status.idle": "2022-01-05T19:22:03.910028Z",
     "shell.execute_reply": "2022-01-05T19:22:03.910534Z",
     "shell.execute_reply.started": "2022-01-05T00:07:10.174372Z"
    },
    "papermill": {
     "duration": 0.061666,
     "end_time": "2022-01-05T19:22:03.910709",
     "exception": false,
     "start_time": "2022-01-05T19:22:03.849043",
     "status": "completed"
    },
    "tags": []
   },
   "outputs": [],
   "source": [
    "# Exploring third dataset\n",
    "df3 = pd.read_csv(\"../input/restaurant-business-rankings-2020/Future50.csv\")"
   ]
  },
  {
   "cell_type": "code",
   "execution_count": 29,
   "id": "925b98f1",
   "metadata": {
    "execution": {
     "iopub.execute_input": "2022-01-05T19:22:04.021380Z",
     "iopub.status.busy": "2022-01-05T19:22:04.010145Z",
     "iopub.status.idle": "2022-01-05T19:22:04.025054Z",
     "shell.execute_reply": "2022-01-05T19:22:04.024494Z",
     "shell.execute_reply.started": "2022-01-05T00:07:10.184143Z"
    },
    "papermill": {
     "duration": 0.066724,
     "end_time": "2022-01-05T19:22:04.025188",
     "exception": false,
     "start_time": "2022-01-05T19:22:03.958464",
     "status": "completed"
    },
    "tags": []
   },
   "outputs": [
    {
     "data": {
      "text/html": [
       "<div>\n",
       "<style scoped>\n",
       "    .dataframe tbody tr th:only-of-type {\n",
       "        vertical-align: middle;\n",
       "    }\n",
       "\n",
       "    .dataframe tbody tr th {\n",
       "        vertical-align: top;\n",
       "    }\n",
       "\n",
       "    .dataframe thead th {\n",
       "        text-align: right;\n",
       "    }\n",
       "</style>\n",
       "<table border=\"1\" class=\"dataframe\">\n",
       "  <thead>\n",
       "    <tr style=\"text-align: right;\">\n",
       "      <th></th>\n",
       "      <th>Rank</th>\n",
       "      <th>Restaurant</th>\n",
       "      <th>Location</th>\n",
       "      <th>Sales</th>\n",
       "      <th>YOY_Sales</th>\n",
       "      <th>Units</th>\n",
       "      <th>YOY_Units</th>\n",
       "      <th>Unit_Volume</th>\n",
       "      <th>Franchising</th>\n",
       "    </tr>\n",
       "  </thead>\n",
       "  <tbody>\n",
       "    <tr>\n",
       "      <th>0</th>\n",
       "      <td>1</td>\n",
       "      <td>Evergreens</td>\n",
       "      <td>Seattle, Wash.</td>\n",
       "      <td>24</td>\n",
       "      <td>130.5%</td>\n",
       "      <td>26</td>\n",
       "      <td>116.7%</td>\n",
       "      <td>1150</td>\n",
       "      <td>No</td>\n",
       "    </tr>\n",
       "    <tr>\n",
       "      <th>1</th>\n",
       "      <td>2</td>\n",
       "      <td>Clean Juice</td>\n",
       "      <td>Charlotte, N.C.</td>\n",
       "      <td>44</td>\n",
       "      <td>121.9%</td>\n",
       "      <td>105</td>\n",
       "      <td>94.4%</td>\n",
       "      <td>560</td>\n",
       "      <td>Yes</td>\n",
       "    </tr>\n",
       "    <tr>\n",
       "      <th>2</th>\n",
       "      <td>3</td>\n",
       "      <td>Slapfish</td>\n",
       "      <td>Huntington Beach, Calif.</td>\n",
       "      <td>21</td>\n",
       "      <td>81.0%</td>\n",
       "      <td>21</td>\n",
       "      <td>90.9%</td>\n",
       "      <td>1370</td>\n",
       "      <td>Yes</td>\n",
       "    </tr>\n",
       "    <tr>\n",
       "      <th>3</th>\n",
       "      <td>4</td>\n",
       "      <td>Clean Eatz</td>\n",
       "      <td>Wilmington, N.C.</td>\n",
       "      <td>25</td>\n",
       "      <td>79.7%</td>\n",
       "      <td>46</td>\n",
       "      <td>58.6%</td>\n",
       "      <td>685</td>\n",
       "      <td>Yes</td>\n",
       "    </tr>\n",
       "    <tr>\n",
       "      <th>4</th>\n",
       "      <td>5</td>\n",
       "      <td>Pokeworks</td>\n",
       "      <td>Irvine, Calif.</td>\n",
       "      <td>49</td>\n",
       "      <td>77.1%</td>\n",
       "      <td>50</td>\n",
       "      <td>56.3%</td>\n",
       "      <td>1210</td>\n",
       "      <td>Yes</td>\n",
       "    </tr>\n",
       "    <tr>\n",
       "      <th>5</th>\n",
       "      <td>6</td>\n",
       "      <td>Playa Bowls</td>\n",
       "      <td>Belmar,  N.J.</td>\n",
       "      <td>39</td>\n",
       "      <td>62.9%</td>\n",
       "      <td>76</td>\n",
       "      <td>28.8%</td>\n",
       "      <td>580</td>\n",
       "      <td>Yes</td>\n",
       "    </tr>\n",
       "    <tr>\n",
       "      <th>6</th>\n",
       "      <td>7</td>\n",
       "      <td>The Simple Greek</td>\n",
       "      <td>Blue Bell, Pa.</td>\n",
       "      <td>24</td>\n",
       "      <td>52.5%</td>\n",
       "      <td>36</td>\n",
       "      <td>33.3%</td>\n",
       "      <td>775</td>\n",
       "      <td>Yes</td>\n",
       "    </tr>\n",
       "    <tr>\n",
       "      <th>7</th>\n",
       "      <td>8</td>\n",
       "      <td>Melt Shop</td>\n",
       "      <td>New York, N.Y.</td>\n",
       "      <td>20</td>\n",
       "      <td>39.6%</td>\n",
       "      <td>19</td>\n",
       "      <td>35.7%</td>\n",
       "      <td>1260</td>\n",
       "      <td>Yes</td>\n",
       "    </tr>\n",
       "    <tr>\n",
       "      <th>8</th>\n",
       "      <td>9</td>\n",
       "      <td>Creamistry</td>\n",
       "      <td>Yorba Linda,  Calif.</td>\n",
       "      <td>24</td>\n",
       "      <td>36.8%</td>\n",
       "      <td>60</td>\n",
       "      <td>27.7%</td>\n",
       "      <td>465</td>\n",
       "      <td>Yes</td>\n",
       "    </tr>\n",
       "    <tr>\n",
       "      <th>9</th>\n",
       "      <td>10</td>\n",
       "      <td>Joella's Hot Chicken</td>\n",
       "      <td>Louisville, Ky.</td>\n",
       "      <td>29</td>\n",
       "      <td>35.5%</td>\n",
       "      <td>17</td>\n",
       "      <td>30.8%</td>\n",
       "      <td>1930</td>\n",
       "      <td>No</td>\n",
       "    </tr>\n",
       "  </tbody>\n",
       "</table>\n",
       "</div>"
      ],
      "text/plain": [
       "   Rank            Restaurant                  Location  Sales YOY_Sales  \\\n",
       "0     1            Evergreens            Seattle, Wash.     24    130.5%   \n",
       "1     2           Clean Juice           Charlotte, N.C.     44    121.9%   \n",
       "2     3              Slapfish  Huntington Beach, Calif.     21     81.0%   \n",
       "3     4            Clean Eatz          Wilmington, N.C.     25     79.7%   \n",
       "4     5             Pokeworks            Irvine, Calif.     49     77.1%   \n",
       "5     6           Playa Bowls             Belmar,  N.J.     39     62.9%   \n",
       "6     7      The Simple Greek            Blue Bell, Pa.     24     52.5%   \n",
       "7     8             Melt Shop            New York, N.Y.     20     39.6%   \n",
       "8     9            Creamistry      Yorba Linda,  Calif.     24     36.8%   \n",
       "9    10  Joella's Hot Chicken           Louisville, Ky.     29     35.5%   \n",
       "\n",
       "   Units YOY_Units  Unit_Volume Franchising  \n",
       "0     26    116.7%         1150          No  \n",
       "1    105     94.4%          560         Yes  \n",
       "2     21     90.9%         1370         Yes  \n",
       "3     46     58.6%          685         Yes  \n",
       "4     50     56.3%         1210         Yes  \n",
       "5     76     28.8%          580         Yes  \n",
       "6     36     33.3%          775         Yes  \n",
       "7     19     35.7%         1260         Yes  \n",
       "8     60     27.7%          465         Yes  \n",
       "9     17     30.8%         1930          No  "
      ]
     },
     "execution_count": 29,
     "metadata": {},
     "output_type": "execute_result"
    }
   ],
   "source": [
    "# Peek at data\n",
    "df3.head(10)"
   ]
  },
  {
   "cell_type": "code",
   "execution_count": 30,
   "id": "cc8dbef8",
   "metadata": {
    "execution": {
     "iopub.execute_input": "2022-01-05T19:22:04.126151Z",
     "iopub.status.busy": "2022-01-05T19:22:04.125213Z",
     "iopub.status.idle": "2022-01-05T19:22:04.286313Z",
     "shell.execute_reply": "2022-01-05T19:22:04.286794Z",
     "shell.execute_reply.started": "2022-01-05T00:07:10.204920Z"
    },
    "papermill": {
     "duration": 0.21281,
     "end_time": "2022-01-05T19:22:04.286954",
     "exception": false,
     "start_time": "2022-01-05T19:22:04.074144",
     "status": "completed"
    },
    "tags": []
   },
   "outputs": [
    {
     "data": {
      "text/plain": [
       "([<matplotlib.axis.YTick at 0x7f1b670daed0>,\n",
       "  <matplotlib.axis.YTick at 0x7f1b67474350>,\n",
       "  <matplotlib.axis.YTick at 0x7f1b67550450>,\n",
       "  <matplotlib.axis.YTick at 0x7f1b67113990>,\n",
       "  <matplotlib.axis.YTick at 0x7f1b67113dd0>,\n",
       "  <matplotlib.axis.YTick at 0x7f1b6709c4d0>],\n",
       " [Text(0, 0, ''),\n",
       "  Text(0, 0, ''),\n",
       "  Text(0, 0, ''),\n",
       "  Text(0, 0, ''),\n",
       "  Text(0, 0, ''),\n",
       "  Text(0, 0, '')])"
      ]
     },
     "execution_count": 30,
     "metadata": {},
     "output_type": "execute_result"
    },
    {
     "data": {
      "image/png": "[encoded data removed]",
      "text/plain": [
       "<Figure size 432x288 with 1 Axes>"
      ]
     },
     "metadata": {},
     "output_type": "display_data"
    }
   ],
   "source": [
    "plt.scatter(x = df3['Rank'], y = df3['YOY_Sales'])\n",
    "plt.show\n",
    "\n",
    "plt.title('Yearly Sales Increase vs Rank')\n",
    "plt.xlabel('Rank')\n",
    "plt.ylabel('% Sales Increase')\n",
    "plt.yticks([1,10,20,30,40,50])\n",
    "\n"
   ]
  },
  {
   "cell_type": "code",
   "execution_count": 31,
   "id": "85453b92",
   "metadata": {
    "execution": {
     "iopub.execute_input": "2022-01-05T19:22:04.389361Z",
     "iopub.status.busy": "2022-01-05T19:22:04.388756Z",
     "iopub.status.idle": "2022-01-05T19:22:04.399350Z",
     "shell.execute_reply": "2022-01-05T19:22:04.398596Z",
     "shell.execute_reply.started": "2022-01-05T00:07:10.388715Z"
    },
    "papermill": {
     "duration": 0.062862,
     "end_time": "2022-01-05T19:22:04.399535",
     "exception": false,
     "start_time": "2022-01-05T19:22:04.336673",
     "status": "completed"
    },
    "tags": []
   },
   "outputs": [
    {
     "name": "stdout",
     "output_type": "stream",
     "text": [
      "Rank - 0%\n",
      "Restaurant - 0%\n",
      "Location - 0%\n",
      "Sales - 0%\n",
      "YOY_Sales - 0%\n",
      "Units - 0%\n",
      "YOY_Units - 0%\n",
      "Unit_Volume - 0%\n",
      "Franchising - 0%\n"
     ]
    }
   ],
   "source": [
    "# This 'Future 50' data seems to rank based \"YOY_ Sales\"\n",
    "# rather than 'Sales' as per the \"Top 50\" data set\n",
    "# Higher % increases in sales = a higher rank overall \n",
    "\n",
    "# Looking for missing data using for loops in third data set\n",
    "\n",
    "for col in df3.columns:\n",
    "    pct_missing = np.mean(df3[col].isnull())\n",
    "    print('{} - {}%'.format(col, round(pct_missing*100)))\n",
    "    \n",
    " # No data seems to be missing as represented by the \"0%\"\n"
   ]
  },
  {
   "cell_type": "code",
   "execution_count": 32,
   "id": "5619e8af",
   "metadata": {
    "execution": {
     "iopub.execute_input": "2022-01-05T19:22:04.504517Z",
     "iopub.status.busy": "2022-01-05T19:22:04.503886Z",
     "iopub.status.idle": "2022-01-05T19:22:04.508634Z",
     "shell.execute_reply": "2022-01-05T19:22:04.509179Z",
     "shell.execute_reply.started": "2022-01-05T00:07:10.402838Z"
    },
    "papermill": {
     "duration": 0.058365,
     "end_time": "2022-01-05T19:22:04.509375",
     "exception": false,
     "start_time": "2022-01-05T19:22:04.451010",
     "status": "completed"
    },
    "tags": []
   },
   "outputs": [
    {
     "name": "stdout",
     "output_type": "stream",
     "text": [
      "Rank            int64\n",
      "Restaurant     object\n",
      "Location       object\n",
      "Sales           int64\n",
      "YOY_Sales      object\n",
      "Units           int64\n",
      "YOY_Units      object\n",
      "Unit_Volume     int64\n",
      "Franchising    object\n",
      "dtype: object\n"
     ]
    }
   ],
   "source": [
    "print(df3.dtypes)\n",
    "\n",
    "# no floats so data shouldn't be as messy to work with\n"
   ]
  },
  {
   "cell_type": "code",
   "execution_count": 33,
   "id": "e9762c1e",
   "metadata": {
    "execution": {
     "iopub.execute_input": "2022-01-05T19:22:04.613823Z",
     "iopub.status.busy": "2022-01-05T19:22:04.613218Z",
     "iopub.status.idle": "2022-01-05T19:22:04.766762Z",
     "shell.execute_reply": "2022-01-05T19:22:04.767258Z",
     "shell.execute_reply.started": "2022-01-05T00:11:26.557570Z"
    },
    "papermill": {
     "duration": 0.207334,
     "end_time": "2022-01-05T19:22:04.767444",
     "exception": false,
     "start_time": "2022-01-05T19:22:04.560110",
     "status": "completed"
    },
    "tags": []
   },
   "outputs": [
    {
     "data": {
      "text/plain": [
       "([<matplotlib.axis.YTick at 0x7f1b67067110>,\n",
       "  <matplotlib.axis.YTick at 0x7f1b67198b90>,\n",
       "  <matplotlib.axis.YTick at 0x7f1b670c5d90>,\n",
       "  <matplotlib.axis.YTick at 0x7f1b6708dbd0>,\n",
       "  <matplotlib.axis.YTick at 0x7f1b67099110>,\n",
       "  <matplotlib.axis.YTick at 0x7f1b67099710>],\n",
       " [Text(0, 0, ''),\n",
       "  Text(0, 0, ''),\n",
       "  Text(0, 0, ''),\n",
       "  Text(0, 0, ''),\n",
       "  Text(0, 0, ''),\n",
       "  Text(0, 0, '')])"
      ]
     },
     "execution_count": 33,
     "metadata": {},
     "output_type": "execute_result"
    },
    {
     "data": {
      "image/png": "[encoded data removed]",
      "text/plain": [
       "<Figure size 432x288 with 1 Axes>"
      ]
     },
     "metadata": {},
     "output_type": "display_data"
    }
   ],
   "source": [
    "plt.scatter(x = df3['Units'], y = df3['YOY_Sales'])\n",
    "plt.show\n",
    "\n",
    "plt.title('Units vs. Sales Increase')\n",
    "plt.xlabel('Units')\n",
    "plt.ylabel('% Sales')\n",
    "plt.yticks([1,10,20,30,40,50])\n",
    "\n",
    "\n"
   ]
  },
  {
   "cell_type": "code",
   "execution_count": 34,
   "id": "6ac771d5",
   "metadata": {
    "execution": {
     "iopub.execute_input": "2022-01-05T19:22:04.877356Z",
     "iopub.status.busy": "2022-01-05T19:22:04.876019Z",
     "iopub.status.idle": "2022-01-05T19:22:04.880104Z",
     "shell.execute_reply": "2022-01-05T19:22:04.879515Z",
     "shell.execute_reply.started": "2022-01-05T00:07:10.594414Z"
    },
    "papermill": {
     "duration": 0.060596,
     "end_time": "2022-01-05T19:22:04.880244",
     "exception": false,
     "start_time": "2022-01-05T19:22:04.819648",
     "status": "completed"
    },
    "tags": []
   },
   "outputs": [],
   "source": [
    "# Amount of units does not seem to have a huge bearing\n",
    "# on whether or not the \"% Sales\" increase. For example,\n",
    "# you can see 3 plots averaging around a 120% increase in sales\n",
    "# where they are pegged at around 20 units, 30 units and 110 units \n",
    "# on the x axis. "
   ]
  },
  {
   "cell_type": "code",
   "execution_count": 35,
   "id": "0a82361b",
   "metadata": {
    "execution": {
     "iopub.execute_input": "2022-01-05T19:22:04.986182Z",
     "iopub.status.busy": "2022-01-05T19:22:04.985559Z",
     "iopub.status.idle": "2022-01-05T19:22:04.994925Z",
     "shell.execute_reply": "2022-01-05T19:22:04.995383Z",
     "shell.execute_reply.started": "2022-01-05T00:07:10.600097Z"
    },
    "papermill": {
     "duration": 0.063412,
     "end_time": "2022-01-05T19:22:04.995565",
     "exception": false,
     "start_time": "2022-01-05T19:22:04.932153",
     "status": "completed"
    },
    "tags": []
   },
   "outputs": [
    {
     "data": {
      "text/html": [
       "<div>\n",
       "<style scoped>\n",
       "    .dataframe tbody tr th:only-of-type {\n",
       "        vertical-align: middle;\n",
       "    }\n",
       "\n",
       "    .dataframe tbody tr th {\n",
       "        vertical-align: top;\n",
       "    }\n",
       "\n",
       "    .dataframe thead th {\n",
       "        text-align: right;\n",
       "    }\n",
       "</style>\n",
       "<table border=\"1\" class=\"dataframe\">\n",
       "  <thead>\n",
       "    <tr style=\"text-align: right;\">\n",
       "      <th></th>\n",
       "      <th>Rank</th>\n",
       "      <th>Sales</th>\n",
       "      <th>Units</th>\n",
       "      <th>Unit_Volume</th>\n",
       "    </tr>\n",
       "  </thead>\n",
       "  <tbody>\n",
       "    <tr>\n",
       "      <th>Rank</th>\n",
       "      <td>1.000000</td>\n",
       "      <td>0.187535</td>\n",
       "      <td>-0.358137</td>\n",
       "      <td>0.359759</td>\n",
       "    </tr>\n",
       "    <tr>\n",
       "      <th>Sales</th>\n",
       "      <td>0.187535</td>\n",
       "      <td>1.000000</td>\n",
       "      <td>0.504153</td>\n",
       "      <td>-0.117048</td>\n",
       "    </tr>\n",
       "    <tr>\n",
       "      <th>Units</th>\n",
       "      <td>-0.358137</td>\n",
       "      <td>0.504153</td>\n",
       "      <td>1.000000</td>\n",
       "      <td>-0.712994</td>\n",
       "    </tr>\n",
       "    <tr>\n",
       "      <th>Unit_Volume</th>\n",
       "      <td>0.359759</td>\n",
       "      <td>-0.117048</td>\n",
       "      <td>-0.712994</td>\n",
       "      <td>1.000000</td>\n",
       "    </tr>\n",
       "  </tbody>\n",
       "</table>\n",
       "</div>"
      ],
      "text/plain": [
       "                 Rank     Sales     Units  Unit_Volume\n",
       "Rank         1.000000  0.187535 -0.358137     0.359759\n",
       "Sales        0.187535  1.000000  0.504153    -0.117048\n",
       "Units       -0.358137  0.504153  1.000000    -0.712994\n",
       "Unit_Volume  0.359759 -0.117048 -0.712994     1.000000"
      ]
     },
     "execution_count": 35,
     "metadata": {},
     "output_type": "execute_result"
    }
   ],
   "source": [
    "df3.corr(method ='pearson')\n",
    "\n",
    "# Finding correlation between other variables in this third\n",
    "# and final data set."
   ]
  },
  {
   "cell_type": "code",
   "execution_count": 36,
   "id": "942f322a",
   "metadata": {
    "execution": {
     "iopub.execute_input": "2022-01-05T19:22:05.106315Z",
     "iopub.status.busy": "2022-01-05T19:22:05.102153Z",
     "iopub.status.idle": "2022-01-05T19:22:05.375737Z",
     "shell.execute_reply": "2022-01-05T19:22:05.375236Z",
     "shell.execute_reply.started": "2022-01-05T00:07:10.623743Z"
    },
    "papermill": {
     "duration": 0.328789,
     "end_time": "2022-01-05T19:22:05.375877",
     "exception": false,
     "start_time": "2022-01-05T19:22:05.047088",
     "status": "completed"
    },
    "tags": []
   },
   "outputs": [
    {
     "data": {
      "image/png": "[encoded data removed]",
      "text/plain": [
       "<Figure size 432x288 with 2 Axes>"
      ]
     },
     "metadata": {},
     "output_type": "display_data"
    }
   ],
   "source": [
    "correlation_matrix = df3.corr()\n",
    "\n",
    "sns.heatmap(correlation_matrix, annot = True)\n",
    "\n",
    "plt.title(\"Correlation Matrix for Variables T3\")\n",
    "\n",
    "\n",
    "plt.show()"
   ]
  },
  {
   "cell_type": "code",
   "execution_count": 37,
   "id": "dfa7f25b",
   "metadata": {
    "execution": {
     "iopub.execute_input": "2022-01-05T19:22:05.491190Z",
     "iopub.status.busy": "2022-01-05T19:22:05.490141Z",
     "iopub.status.idle": "2022-01-05T19:22:05.492233Z",
     "shell.execute_reply": "2022-01-05T19:22:05.492752Z"
    },
    "papermill": {
     "duration": 0.063528,
     "end_time": "2022-01-05T19:22:05.492910",
     "exception": false,
     "start_time": "2022-01-05T19:22:05.429382",
     "status": "completed"
    },
    "tags": []
   },
   "outputs": [],
   "source": [
    "# Table seems to show generally weak correlations except for Units and Unit\n",
    "# Volume. Those two variables show a strong negative correlation (-0.71). "
   ]
  }
 ],
 "metadata": {
  "kernelspec": {
   "display_name": "Python 3",
   "language": "python",
   "name": "python3"
  },
  "language_info": {
   "codemirror_mode": {
    "name": "ipython",
    "version": 3
   },
   "file_extension": ".py",
   "mimetype": "text/x-python",
   "name": "python",
   "nbconvert_exporter": "python",
   "pygments_lexer": "ipython3",
   "version": "3.7.12"
  },
  "papermill": {
   "default_parameters": {},
   "duration": 18.179775,
   "end_time": "2022-01-05T19:22:06.256395",
   "environment_variables": {},
   "exception": null,
   "input_path": "__notebook__.ipynb",
   "output_path": "__notebook__.ipynb",
   "parameters": {},
   "start_time": "2022-01-05T19:21:48.076620",
   "version": "2.3.3"
  }
 },
 "nbformat": 4,
 "nbformat_minor": 5
}
