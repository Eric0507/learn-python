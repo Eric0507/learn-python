{
 "cells": [
  {
   "cell_type": "code",
   "execution_count": 1,
   "id": "c799f919",
   "metadata": {
    "_cell_guid": "b1076dfc-b9ad-4769-8c92-a6c4dae69d19",
    "_uuid": "8f2839f25d086af736a60e9eeb907d3b93b6e0e5",
    "execution": {
     "iopub.execute_input": "2021-12-24T05:33:04.580146Z",
     "iopub.status.busy": "2021-12-24T05:33:04.578942Z",
     "iopub.status.idle": "2021-12-24T05:33:04.598260Z",
     "shell.execute_reply": "2021-12-24T05:33:04.598768Z",
     "shell.execute_reply.started": "2021-12-24T04:58:24.752266Z"
    },
    "papermill": {
     "duration": 0.055667,
     "end_time": "2021-12-24T05:33:04.599075",
     "exception": false,
     "start_time": "2021-12-24T05:33:04.543408",
     "status": "completed"
    },
    "tags": []
   },
   "outputs": [
    {
     "name": "stdout",
     "output_type": "stream",
     "text": [
      "/kaggle/input/restaurant-business-rankings-2020/Top250.csv\n",
      "/kaggle/input/restaurant-business-rankings-2020/Future50.csv\n",
      "/kaggle/input/restaurant-business-rankings-2020/Independence100.csv\n"
     ]
    }
   ],
   "source": [
    "# This Python 3 environment comes with many helpful analytics libraries installed\n",
    "# It is defined by the kaggle/python Docker image: https://github.com/kaggle/docker-python\n",
    "# For example, here's several helpful packages to load\n",
    "\n",
    "import numpy as np # linear algebra\n",
    "import pandas as pd # data processing, CSV file I/O (e.g. pd.read_csv)\n",
    "\n",
    "# Input data files are available in the read-only \"../input/\" directory\n",
    "# For example, running this (by clicking run or pressing Shift+Enter) will list all files under the input directory\n",
    "\n",
    "import os\n",
    "for dirname, _, filenames in os.walk('/kaggle/input'):\n",
    "    for filename in filenames:\n",
    "        print(os.path.join(dirname, filename))\n",
    "\n",
    "# You can write up to 20GB to the current directory (/kaggle/working/) that gets preserved as output when you create a version using \"Save & Run All\" \n",
    "# You can also write temporary files to /kaggle/temp/, but they won't be saved outside of the current session"
   ]
  },
  {
   "cell_type": "code",
   "execution_count": 2,
   "id": "614b742b",
   "metadata": {
    "execution": {
     "iopub.execute_input": "2021-12-24T05:33:04.668517Z",
     "iopub.status.busy": "2021-12-24T05:33:04.667864Z",
     "iopub.status.idle": "2021-12-24T05:33:05.781431Z",
     "shell.execute_reply": "2021-12-24T05:33:05.780728Z",
     "shell.execute_reply.started": "2021-12-24T04:58:24.766788Z"
    },
    "papermill": {
     "duration": 1.150376,
     "end_time": "2021-12-24T05:33:05.781863",
     "exception": false,
     "start_time": "2021-12-24T05:33:04.631487",
     "status": "completed"
    },
    "tags": []
   },
   "outputs": [],
   "source": [
    "# Importing any additional libraries that may be useful\n",
    "\n",
    "import seaborn as sns\n",
    "\n",
    "import matplotlib.pyplot as plt\n",
    "import matplotlib.mlab as mlab\n",
    "import matplotlib\n",
    "plt.style.use('ggplot')\n",
    "from matplotlib.pyplot import figure"
   ]
  },
  {
   "cell_type": "code",
   "execution_count": 3,
   "id": "26aa47a8",
   "metadata": {
    "execution": {
     "iopub.execute_input": "2021-12-24T05:33:05.853268Z",
     "iopub.status.busy": "2021-12-24T05:33:05.852569Z",
     "iopub.status.idle": "2021-12-24T05:33:05.868653Z",
     "shell.execute_reply": "2021-12-24T05:33:05.869228Z",
     "shell.execute_reply.started": "2021-12-24T04:58:24.783318Z"
    },
    "papermill": {
     "duration": 0.053894,
     "end_time": "2021-12-24T05:33:05.869411",
     "exception": false,
     "start_time": "2021-12-24T05:33:05.815517",
     "status": "completed"
    },
    "tags": []
   },
   "outputs": [],
   "source": [
    "# Reading in the data\n",
    "df = pd.read_csv(\"../input/restaurant-business-rankings-2020/Top250.csv\")"
   ]
  },
  {
   "cell_type": "code",
   "execution_count": 4,
   "id": "87d68fec",
   "metadata": {
    "execution": {
     "iopub.execute_input": "2021-12-24T05:33:05.942954Z",
     "iopub.status.busy": "2021-12-24T05:33:05.942444Z",
     "iopub.status.idle": "2021-12-24T05:33:05.959144Z",
     "shell.execute_reply": "2021-12-24T05:33:05.959520Z",
     "shell.execute_reply.started": "2021-12-24T04:58:24.804399Z"
    },
    "papermill": {
     "duration": 0.057803,
     "end_time": "2021-12-24T05:33:05.959647",
     "exception": false,
     "start_time": "2021-12-24T05:33:05.901844",
     "status": "completed"
    },
    "tags": []
   },
   "outputs": [
    {
     "data": {
      "text/html": [
       "<div>\n",
       "<style scoped>\n",
       "    .dataframe tbody tr th:only-of-type {\n",
       "        vertical-align: middle;\n",
       "    }\n",
       "\n",
       "    .dataframe tbody tr th {\n",
       "        vertical-align: top;\n",
       "    }\n",
       "\n",
       "    .dataframe thead th {\n",
       "        text-align: right;\n",
       "    }\n",
       "</style>\n",
       "<table border=\"1\" class=\"dataframe\">\n",
       "  <thead>\n",
       "    <tr style=\"text-align: right;\">\n",
       "      <th></th>\n",
       "      <th>Rank</th>\n",
       "      <th>Restaurant</th>\n",
       "      <th>Content</th>\n",
       "      <th>Sales</th>\n",
       "      <th>YOY_Sales</th>\n",
       "      <th>Units</th>\n",
       "      <th>YOY_Units</th>\n",
       "      <th>Headquarters</th>\n",
       "      <th>Segment_Category</th>\n",
       "    </tr>\n",
       "  </thead>\n",
       "  <tbody>\n",
       "    <tr>\n",
       "      <th>0</th>\n",
       "      <td>1</td>\n",
       "      <td>McDonald's</td>\n",
       "      <td>NaN</td>\n",
       "      <td>40412</td>\n",
       "      <td>4.9%</td>\n",
       "      <td>13846</td>\n",
       "      <td>-0.5%</td>\n",
       "      <td>NaN</td>\n",
       "      <td>Quick Service &amp; Burger</td>\n",
       "    </tr>\n",
       "    <tr>\n",
       "      <th>1</th>\n",
       "      <td>2</td>\n",
       "      <td>Starbucks</td>\n",
       "      <td>NaN</td>\n",
       "      <td>21380</td>\n",
       "      <td>8.6%</td>\n",
       "      <td>15049</td>\n",
       "      <td>3.0%</td>\n",
       "      <td>NaN</td>\n",
       "      <td>Quick Service &amp; Coffee Cafe</td>\n",
       "    </tr>\n",
       "    <tr>\n",
       "      <th>2</th>\n",
       "      <td>3</td>\n",
       "      <td>Chick-fil-A</td>\n",
       "      <td>While Popeyes got a lot of the chicken buzz in...</td>\n",
       "      <td>11320</td>\n",
       "      <td>13.0%</td>\n",
       "      <td>2470</td>\n",
       "      <td>5.0%</td>\n",
       "      <td>NaN</td>\n",
       "      <td>Quick Service &amp; Chicken</td>\n",
       "    </tr>\n",
       "    <tr>\n",
       "      <th>3</th>\n",
       "      <td>4</td>\n",
       "      <td>Taco Bell</td>\n",
       "      <td>NaN</td>\n",
       "      <td>11293</td>\n",
       "      <td>9.0%</td>\n",
       "      <td>6766</td>\n",
       "      <td>2.7%</td>\n",
       "      <td>NaN</td>\n",
       "      <td>Quick Service &amp; Mexican</td>\n",
       "    </tr>\n",
       "    <tr>\n",
       "      <th>4</th>\n",
       "      <td>5</td>\n",
       "      <td>Burger King</td>\n",
       "      <td>NaN</td>\n",
       "      <td>10204</td>\n",
       "      <td>2.7%</td>\n",
       "      <td>7346</td>\n",
       "      <td>0.2%</td>\n",
       "      <td>NaN</td>\n",
       "      <td>Quick Service &amp; Burger</td>\n",
       "    </tr>\n",
       "    <tr>\n",
       "      <th>5</th>\n",
       "      <td>6</td>\n",
       "      <td>Subway</td>\n",
       "      <td>NaN</td>\n",
       "      <td>10200</td>\n",
       "      <td>-2.0%</td>\n",
       "      <td>23801</td>\n",
       "      <td>-4.0%</td>\n",
       "      <td>NaN</td>\n",
       "      <td>Quick Service &amp; Sandwich</td>\n",
       "    </tr>\n",
       "    <tr>\n",
       "      <th>6</th>\n",
       "      <td>7</td>\n",
       "      <td>Wendy's</td>\n",
       "      <td>NaN</td>\n",
       "      <td>9762</td>\n",
       "      <td>4.2%</td>\n",
       "      <td>5852</td>\n",
       "      <td>0.7%</td>\n",
       "      <td>NaN</td>\n",
       "      <td>Quick Service &amp; Burger</td>\n",
       "    </tr>\n",
       "    <tr>\n",
       "      <th>7</th>\n",
       "      <td>8</td>\n",
       "      <td>Dunkin'</td>\n",
       "      <td>Dunkin' dropped \"Donuts\" from its name and rep...</td>\n",
       "      <td>9228</td>\n",
       "      <td>5.0%</td>\n",
       "      <td>9630</td>\n",
       "      <td>2.2%</td>\n",
       "      <td>NaN</td>\n",
       "      <td>Quick Service &amp; Coffee Cafe</td>\n",
       "    </tr>\n",
       "    <tr>\n",
       "      <th>8</th>\n",
       "      <td>9</td>\n",
       "      <td>Domino's</td>\n",
       "      <td>NaN</td>\n",
       "      <td>7044</td>\n",
       "      <td>6.9%</td>\n",
       "      <td>6126</td>\n",
       "      <td>4.3%</td>\n",
       "      <td>NaN</td>\n",
       "      <td>Quick Service &amp; Pizza</td>\n",
       "    </tr>\n",
       "    <tr>\n",
       "      <th>9</th>\n",
       "      <td>10</td>\n",
       "      <td>Panera Bread</td>\n",
       "      <td>NaN</td>\n",
       "      <td>5890</td>\n",
       "      <td>4.0%</td>\n",
       "      <td>2160</td>\n",
       "      <td>3.2%</td>\n",
       "      <td>NaN</td>\n",
       "      <td>Fast Casual &amp; Bakery Cafe</td>\n",
       "    </tr>\n",
       "  </tbody>\n",
       "</table>\n",
       "</div>"
      ],
      "text/plain": [
       "   Rank    Restaurant                                            Content  \\\n",
       "0     1    McDonald's                                                NaN   \n",
       "1     2     Starbucks                                                NaN   \n",
       "2     3   Chick-fil-A  While Popeyes got a lot of the chicken buzz in...   \n",
       "3     4     Taco Bell                                                NaN   \n",
       "4     5   Burger King                                                NaN   \n",
       "5     6        Subway                                                NaN   \n",
       "6     7       Wendy's                                                NaN   \n",
       "7     8       Dunkin'  Dunkin' dropped \"Donuts\" from its name and rep...   \n",
       "8     9      Domino's                                                NaN   \n",
       "9    10  Panera Bread                                                NaN   \n",
       "\n",
       "   Sales YOY_Sales  Units YOY_Units Headquarters             Segment_Category  \n",
       "0  40412      4.9%  13846     -0.5%          NaN       Quick Service & Burger  \n",
       "1  21380      8.6%  15049      3.0%          NaN  Quick Service & Coffee Cafe  \n",
       "2  11320     13.0%   2470      5.0%          NaN      Quick Service & Chicken  \n",
       "3  11293      9.0%   6766      2.7%          NaN      Quick Service & Mexican  \n",
       "4  10204      2.7%   7346      0.2%          NaN       Quick Service & Burger  \n",
       "5  10200     -2.0%  23801     -4.0%          NaN     Quick Service & Sandwich  \n",
       "6   9762      4.2%   5852      0.7%          NaN       Quick Service & Burger  \n",
       "7   9228      5.0%   9630      2.2%          NaN  Quick Service & Coffee Cafe  \n",
       "8   7044      6.9%   6126      4.3%          NaN        Quick Service & Pizza  \n",
       "9   5890      4.0%   2160      3.2%          NaN    Fast Casual & Bakery Cafe  "
      ]
     },
     "execution_count": 4,
     "metadata": {},
     "output_type": "execute_result"
    }
   ],
   "source": [
    "# Viewing the data\n",
    "df.head(10)"
   ]
  },
  {
   "cell_type": "code",
   "execution_count": 5,
   "id": "d8c0b29e",
   "metadata": {
    "execution": {
     "iopub.execute_input": "2021-12-24T05:33:06.015660Z",
     "iopub.status.busy": "2021-12-24T05:33:06.006341Z",
     "iopub.status.idle": "2021-12-24T05:33:06.021835Z",
     "shell.execute_reply": "2021-12-24T05:33:06.021264Z",
     "shell.execute_reply.started": "2021-12-24T04:58:24.823142Z"
    },
    "papermill": {
     "duration": 0.040645,
     "end_time": "2021-12-24T05:33:06.021998",
     "exception": false,
     "start_time": "2021-12-24T05:33:05.981353",
     "status": "completed"
    },
    "tags": []
   },
   "outputs": [
    {
     "name": "stdout",
     "output_type": "stream",
     "text": [
      "Rank - 0%\n",
      "Restaurant - 0%\n",
      "Content - 87%\n",
      "Sales - 0%\n",
      "YOY_Sales - 0%\n",
      "Units - 0%\n",
      "YOY_Units - 0%\n",
      "Headquarters - 79%\n",
      "Segment_Category - 0%\n"
     ]
    }
   ],
   "source": [
    "# Looking for missing data using for loops\n",
    "for col in df.columns:\n",
    "    pct_missing = np.mean(df[col].isnull())\n",
    "    print('{} - {}%'.format(col, round(pct_missing*100)))\n",
    "\n",
    "# Seems to be that 'Content' and 'Headquarters' are missing data\n",
    "# Upon reviewing, the missing data is not pertinent to the analysis"
   ]
  },
  {
   "cell_type": "code",
   "execution_count": 6,
   "id": "6cf35588",
   "metadata": {
    "execution": {
     "iopub.execute_input": "2021-12-24T05:33:06.071812Z",
     "iopub.status.busy": "2021-12-24T05:33:06.071318Z",
     "iopub.status.idle": "2021-12-24T05:33:06.073858Z",
     "shell.execute_reply": "2021-12-24T05:33:06.074273Z",
     "shell.execute_reply.started": "2021-12-24T04:58:24.836784Z"
    },
    "papermill": {
     "duration": 0.0296,
     "end_time": "2021-12-24T05:33:06.074411",
     "exception": false,
     "start_time": "2021-12-24T05:33:06.044811",
     "status": "completed"
    },
    "tags": []
   },
   "outputs": [
    {
     "name": "stdout",
     "output_type": "stream",
     "text": [
      "Rank                 int64\n",
      "Restaurant          object\n",
      "Content             object\n",
      "Sales                int64\n",
      "YOY_Sales           object\n",
      "Units                int64\n",
      "YOY_Units           object\n",
      "Headquarters        object\n",
      "Segment_Category    object\n",
      "dtype: object\n"
     ]
    }
   ],
   "source": [
    "# Data Types for our columns\n",
    "\n",
    "print(df.dtypes)"
   ]
  },
  {
   "cell_type": "code",
   "execution_count": 7,
   "id": "ecf9c889",
   "metadata": {
    "execution": {
     "iopub.execute_input": "2021-12-24T05:33:06.125476Z",
     "iopub.status.busy": "2021-12-24T05:33:06.121758Z",
     "iopub.status.idle": "2021-12-24T05:33:06.152317Z",
     "shell.execute_reply": "2021-12-24T05:33:06.152736Z",
     "shell.execute_reply.started": "2021-12-24T04:58:24.847236Z"
    },
    "papermill": {
     "duration": 0.056197,
     "end_time": "2021-12-24T05:33:06.152904",
     "exception": false,
     "start_time": "2021-12-24T05:33:06.096707",
     "status": "completed"
    },
    "tags": []
   },
   "outputs": [
    {
     "data": {
      "text/html": [
       "<div>\n",
       "<style scoped>\n",
       "    .dataframe tbody tr th:only-of-type {\n",
       "        vertical-align: middle;\n",
       "    }\n",
       "\n",
       "    .dataframe tbody tr th {\n",
       "        vertical-align: top;\n",
       "    }\n",
       "\n",
       "    .dataframe thead th {\n",
       "        text-align: right;\n",
       "    }\n",
       "</style>\n",
       "<table border=\"1\" class=\"dataframe\">\n",
       "  <thead>\n",
       "    <tr style=\"text-align: right;\">\n",
       "      <th></th>\n",
       "      <th>Rank</th>\n",
       "      <th>Restaurant</th>\n",
       "      <th>Content</th>\n",
       "      <th>Sales</th>\n",
       "      <th>YOY_Sales</th>\n",
       "      <th>Units</th>\n",
       "      <th>YOY_Units</th>\n",
       "      <th>Headquarters</th>\n",
       "      <th>Segment_Category</th>\n",
       "    </tr>\n",
       "  </thead>\n",
       "  <tbody>\n",
       "    <tr>\n",
       "      <th>0</th>\n",
       "      <td>1</td>\n",
       "      <td>McDonald's</td>\n",
       "      <td>NaN</td>\n",
       "      <td>40412</td>\n",
       "      <td>4.9%</td>\n",
       "      <td>13846</td>\n",
       "      <td>-0.5%</td>\n",
       "      <td>NaN</td>\n",
       "      <td>Quick Service &amp; Burger</td>\n",
       "    </tr>\n",
       "    <tr>\n",
       "      <th>1</th>\n",
       "      <td>2</td>\n",
       "      <td>Starbucks</td>\n",
       "      <td>NaN</td>\n",
       "      <td>21380</td>\n",
       "      <td>8.6%</td>\n",
       "      <td>15049</td>\n",
       "      <td>3.0%</td>\n",
       "      <td>NaN</td>\n",
       "      <td>Quick Service &amp; Coffee Cafe</td>\n",
       "    </tr>\n",
       "    <tr>\n",
       "      <th>2</th>\n",
       "      <td>3</td>\n",
       "      <td>Chick-fil-A</td>\n",
       "      <td>While Popeyes got a lot of the chicken buzz in...</td>\n",
       "      <td>11320</td>\n",
       "      <td>13.0%</td>\n",
       "      <td>2470</td>\n",
       "      <td>5.0%</td>\n",
       "      <td>NaN</td>\n",
       "      <td>Quick Service &amp; Chicken</td>\n",
       "    </tr>\n",
       "    <tr>\n",
       "      <th>3</th>\n",
       "      <td>4</td>\n",
       "      <td>Taco Bell</td>\n",
       "      <td>NaN</td>\n",
       "      <td>11293</td>\n",
       "      <td>9.0%</td>\n",
       "      <td>6766</td>\n",
       "      <td>2.7%</td>\n",
       "      <td>NaN</td>\n",
       "      <td>Quick Service &amp; Mexican</td>\n",
       "    </tr>\n",
       "    <tr>\n",
       "      <th>4</th>\n",
       "      <td>5</td>\n",
       "      <td>Burger King</td>\n",
       "      <td>NaN</td>\n",
       "      <td>10204</td>\n",
       "      <td>2.7%</td>\n",
       "      <td>7346</td>\n",
       "      <td>0.2%</td>\n",
       "      <td>NaN</td>\n",
       "      <td>Quick Service &amp; Burger</td>\n",
       "    </tr>\n",
       "    <tr>\n",
       "      <th>...</th>\n",
       "      <td>...</td>\n",
       "      <td>...</td>\n",
       "      <td>...</td>\n",
       "      <td>...</td>\n",
       "      <td>...</td>\n",
       "      <td>...</td>\n",
       "      <td>...</td>\n",
       "      <td>...</td>\n",
       "      <td>...</td>\n",
       "    </tr>\n",
       "    <tr>\n",
       "      <th>245</th>\n",
       "      <td>246</td>\n",
       "      <td>Rainforest Cafe</td>\n",
       "      <td>NaN</td>\n",
       "      <td>129</td>\n",
       "      <td>-10.4%</td>\n",
       "      <td>18</td>\n",
       "      <td>-5.3%</td>\n",
       "      <td>NaN</td>\n",
       "      <td>Varied Menu</td>\n",
       "    </tr>\n",
       "    <tr>\n",
       "      <th>246</th>\n",
       "      <td>247</td>\n",
       "      <td>PDQ</td>\n",
       "      <td>NaN</td>\n",
       "      <td>127</td>\n",
       "      <td>-5.5%</td>\n",
       "      <td>56</td>\n",
       "      <td>-11.1%</td>\n",
       "      <td>NaN</td>\n",
       "      <td>Chicken</td>\n",
       "    </tr>\n",
       "    <tr>\n",
       "      <th>247</th>\n",
       "      <td>248</td>\n",
       "      <td>Lupe Tortilla</td>\n",
       "      <td>NaN</td>\n",
       "      <td>127</td>\n",
       "      <td>12.1%</td>\n",
       "      <td>25</td>\n",
       "      <td>8.7%</td>\n",
       "      <td>NaN</td>\n",
       "      <td>Mexican</td>\n",
       "    </tr>\n",
       "    <tr>\n",
       "      <th>248</th>\n",
       "      <td>249</td>\n",
       "      <td>Cook-Out Restaurant</td>\n",
       "      <td>NaN</td>\n",
       "      <td>126</td>\n",
       "      <td>10.1%</td>\n",
       "      <td>270</td>\n",
       "      <td>7.1%</td>\n",
       "      <td>NaN</td>\n",
       "      <td>Burger</td>\n",
       "    </tr>\n",
       "    <tr>\n",
       "      <th>249</th>\n",
       "      <td>250</td>\n",
       "      <td>Jollibee</td>\n",
       "      <td>NaN</td>\n",
       "      <td>126</td>\n",
       "      <td>15.2%</td>\n",
       "      <td>40</td>\n",
       "      <td>11.1%</td>\n",
       "      <td>NaN</td>\n",
       "      <td>Chicken</td>\n",
       "    </tr>\n",
       "  </tbody>\n",
       "</table>\n",
       "<p>250 rows × 9 columns</p>\n",
       "</div>"
      ],
      "text/plain": [
       "     Rank           Restaurant  \\\n",
       "0       1           McDonald's   \n",
       "1       2            Starbucks   \n",
       "2       3          Chick-fil-A   \n",
       "3       4            Taco Bell   \n",
       "4       5          Burger King   \n",
       "..    ...                  ...   \n",
       "245   246      Rainforest Cafe   \n",
       "246   247                  PDQ   \n",
       "247   248        Lupe Tortilla   \n",
       "248   249  Cook-Out Restaurant   \n",
       "249   250             Jollibee   \n",
       "\n",
       "                                               Content  Sales YOY_Sales  \\\n",
       "0                                                  NaN  40412      4.9%   \n",
       "1                                                  NaN  21380      8.6%   \n",
       "2    While Popeyes got a lot of the chicken buzz in...  11320     13.0%   \n",
       "3                                                  NaN  11293      9.0%   \n",
       "4                                                  NaN  10204      2.7%   \n",
       "..                                                 ...    ...       ...   \n",
       "245                                                NaN    129    -10.4%   \n",
       "246                                                NaN    127     -5.5%   \n",
       "247                                                NaN    127     12.1%   \n",
       "248                                                NaN    126     10.1%   \n",
       "249                                                NaN    126     15.2%   \n",
       "\n",
       "     Units YOY_Units Headquarters             Segment_Category  \n",
       "0    13846     -0.5%          NaN       Quick Service & Burger  \n",
       "1    15049      3.0%          NaN  Quick Service & Coffee Cafe  \n",
       "2     2470      5.0%          NaN      Quick Service & Chicken  \n",
       "3     6766      2.7%          NaN      Quick Service & Mexican  \n",
       "4     7346      0.2%          NaN       Quick Service & Burger  \n",
       "..     ...       ...          ...                          ...  \n",
       "245     18     -5.3%          NaN                  Varied Menu  \n",
       "246     56    -11.1%          NaN                      Chicken  \n",
       "247     25      8.7%          NaN                      Mexican  \n",
       "248    270      7.1%          NaN                       Burger  \n",
       "249     40     11.1%          NaN                      Chicken  \n",
       "\n",
       "[250 rows x 9 columns]"
      ]
     },
     "execution_count": 7,
     "metadata": {},
     "output_type": "execute_result"
    }
   ],
   "source": [
    "# Continuously cleaning data before analysis\n",
    "\n",
    "df.drop_duplicates()\n"
   ]
  },
  {
   "cell_type": "code",
   "execution_count": 8,
   "id": "89147831",
   "metadata": {
    "execution": {
     "iopub.execute_input": "2021-12-24T05:33:06.202285Z",
     "iopub.status.busy": "2021-12-24T05:33:06.201823Z",
     "iopub.status.idle": "2021-12-24T05:33:06.452190Z",
     "shell.execute_reply": "2021-12-24T05:33:06.451539Z",
     "shell.execute_reply.started": "2021-12-24T04:58:24.875025Z"
    },
    "papermill": {
     "duration": 0.275932,
     "end_time": "2021-12-24T05:33:06.452344",
     "exception": false,
     "start_time": "2021-12-24T05:33:06.176412",
     "status": "completed"
    },
    "tags": []
   },
   "outputs": [
    {
     "data": {
      "text/plain": [
       "Text(0, 0.5, 'Rank')"
      ]
     },
     "execution_count": 8,
     "metadata": {},
     "output_type": "execute_result"
    },
    {
     "data": {
      "image/png": "[encoded data removed]",
      "text/plain": [
       "<Figure size 432x288 with 1 Axes>"
      ]
     },
     "metadata": {},
     "output_type": "display_data"
    }
   ],
   "source": [
    "plt.scatter(x = df['Sales'], y = df['Rank'])\n",
    "plt.show\n",
    "\n",
    "plt.title('Sales vs Rank')\n",
    "plt.xlabel('# of Sales')\n",
    "plt.ylabel('Rank')\n",
    "# Obvious correlation between 'Sales' and 'Rank'\n",
    "# Curious to look for other correlation between other variables. "
   ]
  },
  {
   "cell_type": "code",
   "execution_count": 9,
   "id": "f3d6fc98",
   "metadata": {
    "execution": {
     "iopub.execute_input": "2021-12-24T05:33:06.547597Z",
     "iopub.status.busy": "2021-12-24T05:33:06.546923Z",
     "iopub.status.idle": "2021-12-24T05:33:06.700668Z",
     "shell.execute_reply": "2021-12-24T05:33:06.701160Z",
     "shell.execute_reply.started": "2021-12-24T04:58:25.126731Z"
    },
    "papermill": {
     "duration": 0.213385,
     "end_time": "2021-12-24T05:33:06.701329",
     "exception": false,
     "start_time": "2021-12-24T05:33:06.487944",
     "status": "completed"
    },
    "tags": []
   },
   "outputs": [
    {
     "data": {
      "text/plain": [
       "Text(0, 0.5, 'Units')"
      ]
     },
     "execution_count": 9,
     "metadata": {},
     "output_type": "execute_result"
    },
    {
     "data": {
      "image/png": "[encoded data removed]",
      "text/plain": [
       "<Figure size 432x288 with 1 Axes>"
      ]
     },
     "metadata": {},
     "output_type": "display_data"
    }
   ],
   "source": [
    "plt.scatter(x = df['Sales'], y = df['Units'])\n",
    "plt.show\n",
    "\n",
    "plt.title('Sales vs Units')\n",
    "plt.xlabel('# of Sales')\n",
    "plt.ylabel('Units')\n",
    "\n",
    "# Units relating to the amount of locations that specific restaurant actively has\n",
    "# Some outliers represeted but generally seems like a positive correlation"
   ]
  },
  {
   "cell_type": "code",
   "execution_count": 10,
   "id": "6f0e68a7",
   "metadata": {
    "execution": {
     "iopub.execute_input": "2021-12-24T05:33:06.779532Z",
     "iopub.status.busy": "2021-12-24T05:33:06.778852Z",
     "iopub.status.idle": "2021-12-24T05:33:07.126893Z",
     "shell.execute_reply": "2021-12-24T05:33:07.126355Z",
     "shell.execute_reply.started": "2021-12-24T04:58:25.378155Z"
    },
    "papermill": {
     "duration": 0.388644,
     "end_time": "2021-12-24T05:33:07.127054",
     "exception": false,
     "start_time": "2021-12-24T05:33:06.738410",
     "status": "completed"
    },
    "tags": []
   },
   "outputs": [
    {
     "data": {
      "text/plain": [
       "<AxesSubplot:xlabel='Sales', ylabel='Units'>"
      ]
     },
     "execution_count": 10,
     "metadata": {},
     "output_type": "execute_result"
    },
    {
     "data": {
      "image/png": "[encoded data removed]",
      "text/plain": [
       "<Figure size 432x288 with 1 Axes>"
      ]
     },
     "metadata": {},
     "output_type": "display_data"
    }
   ],
   "source": [
    "# Quick glance at correlation between 'Sales' and 'Units'\n",
    "\n",
    "sns.regplot(x=\"Sales\", y=\"Units\", data=df)\n"
   ]
  },
  {
   "cell_type": "code",
   "execution_count": 11,
   "id": "3ab6b2ee",
   "metadata": {
    "execution": {
     "iopub.execute_input": "2021-12-24T05:33:07.206716Z",
     "iopub.status.busy": "2021-12-24T05:33:07.206127Z",
     "iopub.status.idle": "2021-12-24T05:33:07.217677Z",
     "shell.execute_reply": "2021-12-24T05:33:07.218271Z",
     "shell.execute_reply.started": "2021-12-24T04:58:25.742778Z"
    },
    "papermill": {
     "duration": 0.053566,
     "end_time": "2021-12-24T05:33:07.218426",
     "exception": false,
     "start_time": "2021-12-24T05:33:07.164860",
     "status": "completed"
    },
    "tags": []
   },
   "outputs": [
    {
     "data": {
      "text/html": [
       "<div>\n",
       "<style scoped>\n",
       "    .dataframe tbody tr th:only-of-type {\n",
       "        vertical-align: middle;\n",
       "    }\n",
       "\n",
       "    .dataframe tbody tr th {\n",
       "        vertical-align: top;\n",
       "    }\n",
       "\n",
       "    .dataframe thead th {\n",
       "        text-align: right;\n",
       "    }\n",
       "</style>\n",
       "<table border=\"1\" class=\"dataframe\">\n",
       "  <thead>\n",
       "    <tr style=\"text-align: right;\">\n",
       "      <th></th>\n",
       "      <th>Rank</th>\n",
       "      <th>Sales</th>\n",
       "      <th>Units</th>\n",
       "    </tr>\n",
       "  </thead>\n",
       "  <tbody>\n",
       "    <tr>\n",
       "      <th>Rank</th>\n",
       "      <td>1.000000</td>\n",
       "      <td>-0.462349</td>\n",
       "      <td>-0.450929</td>\n",
       "    </tr>\n",
       "    <tr>\n",
       "      <th>Sales</th>\n",
       "      <td>-0.462349</td>\n",
       "      <td>1.000000</td>\n",
       "      <td>0.780101</td>\n",
       "    </tr>\n",
       "    <tr>\n",
       "      <th>Units</th>\n",
       "      <td>-0.450929</td>\n",
       "      <td>0.780101</td>\n",
       "      <td>1.000000</td>\n",
       "    </tr>\n",
       "  </tbody>\n",
       "</table>\n",
       "</div>"
      ],
      "text/plain": [
       "           Rank     Sales     Units\n",
       "Rank   1.000000 -0.462349 -0.450929\n",
       "Sales -0.462349  1.000000  0.780101\n",
       "Units -0.450929  0.780101  1.000000"
      ]
     },
     "execution_count": 11,
     "metadata": {},
     "output_type": "execute_result"
    }
   ],
   "source": [
    "# Forming the correlation matrix\n",
    "\n",
    "df.corr(method ='pearson')"
   ]
  },
  {
   "cell_type": "code",
   "execution_count": 12,
   "id": "466a7604",
   "metadata": {
    "execution": {
     "iopub.execute_input": "2021-12-24T05:33:07.299134Z",
     "iopub.status.busy": "2021-12-24T05:33:07.298484Z",
     "iopub.status.idle": "2021-12-24T05:33:07.499328Z",
     "shell.execute_reply": "2021-12-24T05:33:07.498689Z",
     "shell.execute_reply.started": "2021-12-24T04:58:25.756514Z"
    },
    "papermill": {
     "duration": 0.242889,
     "end_time": "2021-12-24T05:33:07.499433",
     "exception": false,
     "start_time": "2021-12-24T05:33:07.256544",
     "status": "completed"
    },
    "tags": []
   },
   "outputs": [
    {
     "data": {
      "image/png": "[encoded data removed]",
      "text/plain": [
       "<Figure size 432x288 with 2 Axes>"
      ]
     },
     "metadata": {},
     "output_type": "display_data"
    }
   ],
   "source": [
    "correlation_matrix = df.corr()\n",
    "\n",
    "sns.heatmap(correlation_matrix, annot = True)\n",
    "\n",
    "plt.title(\"Correlation Matrix for Variables\")\n",
    "\n",
    "\n",
    "plt.show()\n",
    "\n",
    "# Easier way to visualize correlations between \n",
    "# numeric values within the dataset.\n"
   ]
  },
  {
   "cell_type": "code",
   "execution_count": 13,
   "id": "cf3fa5fb",
   "metadata": {
    "execution": {
     "iopub.execute_input": "2021-12-24T05:33:07.556158Z",
     "iopub.status.busy": "2021-12-24T05:33:07.555635Z",
     "iopub.status.idle": "2021-12-24T05:33:07.557962Z",
     "shell.execute_reply": "2021-12-24T05:33:07.558468Z",
     "shell.execute_reply.started": "2021-12-24T04:58:26.247338Z"
    },
    "papermill": {
     "duration": 0.032996,
     "end_time": "2021-12-24T05:33:07.558610",
     "exception": false,
     "start_time": "2021-12-24T05:33:07.525614",
     "status": "completed"
    },
    "tags": []
   },
   "outputs": [],
   "source": [
    "# Found correlation between 'Sales' and 'Units' although \n",
    "# just because a company managed to have more units did not \n",
    "# mean that they necessarily placed better in the rankings. "
   ]
  },
  {
   "cell_type": "code",
   "execution_count": 14,
   "id": "026cff87",
   "metadata": {
    "execution": {
     "iopub.execute_input": "2021-12-24T05:33:07.614356Z",
     "iopub.status.busy": "2021-12-24T05:33:07.613809Z",
     "iopub.status.idle": "2021-12-24T05:33:07.628269Z",
     "shell.execute_reply": "2021-12-24T05:33:07.628693Z",
     "shell.execute_reply.started": "2021-12-24T04:58:26.253408Z"
    },
    "papermill": {
     "duration": 0.043893,
     "end_time": "2021-12-24T05:33:07.628831",
     "exception": false,
     "start_time": "2021-12-24T05:33:07.584938",
     "status": "completed"
    },
    "tags": []
   },
   "outputs": [],
   "source": [
    "# Exploring new dataset\n",
    "df2 = pd.read_csv(\"../input/restaurant-business-rankings-2020/Independence100.csv\")"
   ]
  },
  {
   "cell_type": "code",
   "execution_count": 15,
   "id": "14ed67ad",
   "metadata": {
    "execution": {
     "iopub.execute_input": "2021-12-24T05:33:07.685358Z",
     "iopub.status.busy": "2021-12-24T05:33:07.684712Z",
     "iopub.status.idle": "2021-12-24T05:33:07.696682Z",
     "shell.execute_reply": "2021-12-24T05:33:07.697137Z",
     "shell.execute_reply.started": "2021-12-24T04:58:26.272647Z"
    },
    "papermill": {
     "duration": 0.041509,
     "end_time": "2021-12-24T05:33:07.697266",
     "exception": false,
     "start_time": "2021-12-24T05:33:07.655757",
     "status": "completed"
    },
    "tags": []
   },
   "outputs": [
    {
     "data": {
      "text/html": [
       "<div>\n",
       "<style scoped>\n",
       "    .dataframe tbody tr th:only-of-type {\n",
       "        vertical-align: middle;\n",
       "    }\n",
       "\n",
       "    .dataframe tbody tr th {\n",
       "        vertical-align: top;\n",
       "    }\n",
       "\n",
       "    .dataframe thead th {\n",
       "        text-align: right;\n",
       "    }\n",
       "</style>\n",
       "<table border=\"1\" class=\"dataframe\">\n",
       "  <thead>\n",
       "    <tr style=\"text-align: right;\">\n",
       "      <th></th>\n",
       "      <th>Rank</th>\n",
       "      <th>Restaurant</th>\n",
       "      <th>Sales</th>\n",
       "      <th>Average Check</th>\n",
       "      <th>City</th>\n",
       "      <th>State</th>\n",
       "      <th>Meals Served</th>\n",
       "    </tr>\n",
       "  </thead>\n",
       "  <tbody>\n",
       "    <tr>\n",
       "      <th>0</th>\n",
       "      <td>1</td>\n",
       "      <td>Carmine's (Times Square)</td>\n",
       "      <td>39080335.0</td>\n",
       "      <td>40</td>\n",
       "      <td>New York</td>\n",
       "      <td>N.Y.</td>\n",
       "      <td>469803.0</td>\n",
       "    </tr>\n",
       "    <tr>\n",
       "      <th>1</th>\n",
       "      <td>2</td>\n",
       "      <td>The Boathouse Orlando</td>\n",
       "      <td>35218364.0</td>\n",
       "      <td>43</td>\n",
       "      <td>Orlando</td>\n",
       "      <td>Fla.</td>\n",
       "      <td>820819.0</td>\n",
       "    </tr>\n",
       "    <tr>\n",
       "      <th>2</th>\n",
       "      <td>3</td>\n",
       "      <td>Old Ebbitt Grill</td>\n",
       "      <td>29104017.0</td>\n",
       "      <td>33</td>\n",
       "      <td>Washington</td>\n",
       "      <td>D.C.</td>\n",
       "      <td>892830.0</td>\n",
       "    </tr>\n",
       "    <tr>\n",
       "      <th>3</th>\n",
       "      <td>4</td>\n",
       "      <td>LAVO Italian Restaurant &amp; Nightclub</td>\n",
       "      <td>26916180.0</td>\n",
       "      <td>90</td>\n",
       "      <td>New York</td>\n",
       "      <td>N.Y.</td>\n",
       "      <td>198500.0</td>\n",
       "    </tr>\n",
       "    <tr>\n",
       "      <th>4</th>\n",
       "      <td>5</td>\n",
       "      <td>Bryant Park Grill &amp; Cafe</td>\n",
       "      <td>26900000.0</td>\n",
       "      <td>62</td>\n",
       "      <td>New York</td>\n",
       "      <td>N.Y.</td>\n",
       "      <td>403000.0</td>\n",
       "    </tr>\n",
       "    <tr>\n",
       "      <th>5</th>\n",
       "      <td>6</td>\n",
       "      <td>Gibsons Bar &amp; Steakhouse</td>\n",
       "      <td>25409952.0</td>\n",
       "      <td>80</td>\n",
       "      <td>Chicago</td>\n",
       "      <td>Ill.</td>\n",
       "      <td>348567.0</td>\n",
       "    </tr>\n",
       "    <tr>\n",
       "      <th>6</th>\n",
       "      <td>7</td>\n",
       "      <td>Top of the World at the STRAT</td>\n",
       "      <td>25233543.0</td>\n",
       "      <td>103</td>\n",
       "      <td>Las Vegas</td>\n",
       "      <td>Nev.</td>\n",
       "      <td>246054.0</td>\n",
       "    </tr>\n",
       "    <tr>\n",
       "      <th>7</th>\n",
       "      <td>8</td>\n",
       "      <td>Maple &amp; Ash</td>\n",
       "      <td>24837595.0</td>\n",
       "      <td>99</td>\n",
       "      <td>Chicago</td>\n",
       "      <td>Ill.</td>\n",
       "      <td>210832.0</td>\n",
       "    </tr>\n",
       "    <tr>\n",
       "      <th>8</th>\n",
       "      <td>9</td>\n",
       "      <td>Balthazar</td>\n",
       "      <td>24547800.0</td>\n",
       "      <td>87</td>\n",
       "      <td>New York</td>\n",
       "      <td>N.Y.</td>\n",
       "      <td>519000.0</td>\n",
       "    </tr>\n",
       "    <tr>\n",
       "      <th>9</th>\n",
       "      <td>10</td>\n",
       "      <td>Smith &amp; Wollensky</td>\n",
       "      <td>24501000.0</td>\n",
       "      <td>107</td>\n",
       "      <td>New York</td>\n",
       "      <td>N.Y.</td>\n",
       "      <td>257364.0</td>\n",
       "    </tr>\n",
       "  </tbody>\n",
       "</table>\n",
       "</div>"
      ],
      "text/plain": [
       "   Rank                           Restaurant       Sales  Average Check  \\\n",
       "0     1             Carmine's (Times Square)  39080335.0             40   \n",
       "1     2                The Boathouse Orlando  35218364.0             43   \n",
       "2     3                     Old Ebbitt Grill  29104017.0             33   \n",
       "3     4  LAVO Italian Restaurant & Nightclub  26916180.0             90   \n",
       "4     5             Bryant Park Grill & Cafe  26900000.0             62   \n",
       "5     6             Gibsons Bar & Steakhouse  25409952.0             80   \n",
       "6     7       Top of the World at the STRAT   25233543.0            103   \n",
       "7     8                          Maple & Ash  24837595.0             99   \n",
       "8     9                            Balthazar  24547800.0             87   \n",
       "9    10                    Smith & Wollensky  24501000.0            107   \n",
       "\n",
       "         City State  Meals Served  \n",
       "0    New York  N.Y.      469803.0  \n",
       "1    Orlando   Fla.      820819.0  \n",
       "2  Washington  D.C.      892830.0  \n",
       "3    New York  N.Y.      198500.0  \n",
       "4    New York  N.Y.      403000.0  \n",
       "5     Chicago  Ill.      348567.0  \n",
       "6   Las Vegas  Nev.      246054.0  \n",
       "7     Chicago  Ill.      210832.0  \n",
       "8    New York  N.Y.      519000.0  \n",
       "9    New York  N.Y.      257364.0  "
      ]
     },
     "execution_count": 15,
     "metadata": {},
     "output_type": "execute_result"
    }
   ],
   "source": [
    "df2.head(10)"
   ]
  },
  {
   "cell_type": "code",
   "execution_count": 16,
   "id": "be96aeeb",
   "metadata": {
    "execution": {
     "iopub.execute_input": "2021-12-24T05:33:07.752916Z",
     "iopub.status.busy": "2021-12-24T05:33:07.752482Z",
     "iopub.status.idle": "2021-12-24T05:33:07.760558Z",
     "shell.execute_reply": "2021-12-24T05:33:07.761080Z",
     "shell.execute_reply.started": "2021-12-24T04:58:26.292830Z"
    },
    "papermill": {
     "duration": 0.037555,
     "end_time": "2021-12-24T05:33:07.761254",
     "exception": false,
     "start_time": "2021-12-24T05:33:07.723699",
     "status": "completed"
    },
    "tags": []
   },
   "outputs": [
    {
     "name": "stdout",
     "output_type": "stream",
     "text": [
      "Rank - 0%\n",
      "Restaurant - 0%\n",
      "Sales - 0%\n",
      "Average Check - 0%\n",
      "City - 0%\n",
      "State - 0%\n",
      "Meals Served - 0%\n"
     ]
    }
   ],
   "source": [
    "# Looking for missing data using for loops in second data set\n",
    "\n",
    "for col in df2.columns:\n",
    "    pct_missing = np.mean(df2[col].isnull())\n",
    "    print('{} - {}%'.format(col, round(pct_missing*100)))\n",
    "    \n",
    " # No data seems to be missing as represented by the \"0%\""
   ]
  },
  {
   "cell_type": "code",
   "execution_count": 17,
   "id": "d1a418db",
   "metadata": {
    "execution": {
     "iopub.execute_input": "2021-12-24T05:33:07.819876Z",
     "iopub.status.busy": "2021-12-24T05:33:07.819415Z",
     "iopub.status.idle": "2021-12-24T05:33:07.825111Z",
     "shell.execute_reply": "2021-12-24T05:33:07.825486Z",
     "shell.execute_reply.started": "2021-12-24T05:26:19.662075Z"
    },
    "papermill": {
     "duration": 0.035626,
     "end_time": "2021-12-24T05:33:07.825618",
     "exception": false,
     "start_time": "2021-12-24T05:33:07.789992",
     "status": "completed"
    },
    "tags": []
   },
   "outputs": [
    {
     "name": "stdout",
     "output_type": "stream",
     "text": [
      "Rank               int64\n",
      "Restaurant        object\n",
      "Sales            float64\n",
      "Average Check      int64\n",
      "City              object\n",
      "State             object\n",
      "Meals Served     float64\n",
      "dtype: object\n"
     ]
    }
   ],
   "source": [
    "print(df2.dtypes)\n",
    "\n",
    "# 'Sales' and 'Meals Served' columns seem to have an unneeded decimal point\n",
    "# so it may be better to rid that to clean up the data"
   ]
  },
  {
   "cell_type": "code",
   "execution_count": 18,
   "id": "855f36cc",
   "metadata": {
    "execution": {
     "iopub.execute_input": "2021-12-24T05:33:07.886174Z",
     "iopub.status.busy": "2021-12-24T05:33:07.885657Z",
     "iopub.status.idle": "2021-12-24T05:33:07.888752Z",
     "shell.execute_reply": "2021-12-24T05:33:07.889211Z",
     "shell.execute_reply.started": "2021-12-24T04:58:26.316874Z"
    },
    "papermill": {
     "duration": 0.036142,
     "end_time": "2021-12-24T05:33:07.889366",
     "exception": false,
     "start_time": "2021-12-24T05:33:07.853224",
     "status": "completed"
    },
    "tags": []
   },
   "outputs": [],
   "source": [
    "df2['Sales'] = df2['Sales'].astype('int64')\n",
    "\n",
    "df2 ['Meals Served'] = df2['Meals Served'].astype('int64')\n",
    "\n",
    " # 'Sales' and 'Meals Served' data type changed from float64 to int64 \n",
    " # for increased readability"
   ]
  },
  {
   "cell_type": "code",
   "execution_count": 19,
   "id": "827d94c5",
   "metadata": {
    "execution": {
     "iopub.execute_input": "2021-12-24T05:33:07.951074Z",
     "iopub.status.busy": "2021-12-24T05:33:07.948388Z",
     "iopub.status.idle": "2021-12-24T05:33:07.955676Z",
     "shell.execute_reply": "2021-12-24T05:33:07.955258Z",
     "shell.execute_reply.started": "2021-12-24T04:58:26.332196Z"
    },
    "papermill": {
     "duration": 0.037327,
     "end_time": "2021-12-24T05:33:07.955800",
     "exception": false,
     "start_time": "2021-12-24T05:33:07.918473",
     "status": "completed"
    },
    "tags": []
   },
   "outputs": [
    {
     "name": "stdout",
     "output_type": "stream",
     "text": [
      "Rank              int64\n",
      "Restaurant       object\n",
      "Sales             int64\n",
      "Average Check     int64\n",
      "City             object\n",
      "State            object\n",
      "Meals Served      int64\n",
      "dtype: object\n"
     ]
    }
   ],
   "source": [
    "print(df2.dtypes)"
   ]
  },
  {
   "cell_type": "code",
   "execution_count": 20,
   "id": "732a9bc2",
   "metadata": {
    "execution": {
     "iopub.execute_input": "2021-12-24T05:33:08.036143Z",
     "iopub.status.busy": "2021-12-24T05:33:08.035636Z",
     "iopub.status.idle": "2021-12-24T05:33:08.210859Z",
     "shell.execute_reply": "2021-12-24T05:33:08.211615Z",
     "shell.execute_reply.started": "2021-12-24T04:58:27.505139Z"
    },
    "papermill": {
     "duration": 0.227915,
     "end_time": "2021-12-24T05:33:08.211761",
     "exception": false,
     "start_time": "2021-12-24T05:33:07.983846",
     "status": "completed"
    },
    "tags": []
   },
   "outputs": [
    {
     "data": {
      "text/plain": [
       "Text(0, 0.5, 'Rank')"
      ]
     },
     "execution_count": 20,
     "metadata": {},
     "output_type": "execute_result"
    },
    {
     "data": {
      "image/png": "[encoded data removed]",
      "text/plain": [
       "<Figure size 432x288 with 1 Axes>"
      ]
     },
     "metadata": {},
     "output_type": "display_data"
    }
   ],
   "source": [
    "plt.scatter(x = df2['Sales'], y = df2['Rank'])\n",
    "plt.show\n",
    "\n",
    "plt.title('Sales Amount vs Rank')\n",
    "plt.xlabel('Sales Amount')\n",
    "plt.ylabel('Rank')\n",
    "\n",
    "# Rank is solely based on sales amount, visualizing anyway to \n",
    "# see if there are any outliers"
   ]
  },
  {
   "cell_type": "code",
   "execution_count": 21,
   "id": "d14483e6",
   "metadata": {
    "execution": {
     "iopub.execute_input": "2021-12-24T05:33:08.285770Z",
     "iopub.status.busy": "2021-12-24T05:33:08.285296Z",
     "iopub.status.idle": "2021-12-24T05:33:08.585014Z",
     "shell.execute_reply": "2021-12-24T05:33:08.584555Z",
     "shell.execute_reply.started": "2021-12-24T05:05:15.870953Z"
    },
    "papermill": {
     "duration": 0.344794,
     "end_time": "2021-12-24T05:33:08.585126",
     "exception": false,
     "start_time": "2021-12-24T05:33:08.240332",
     "status": "completed"
    },
    "tags": []
   },
   "outputs": [
    {
     "data": {
      "text/plain": [
       "<AxesSubplot:xlabel='Sales', ylabel='Rank'>"
      ]
     },
     "execution_count": 21,
     "metadata": {},
     "output_type": "execute_result"
    },
    {
     "data": {
      "image/png": "[encoded data removed]",
      "text/plain": [
       "<Figure size 432x288 with 1 Axes>"
      ]
     },
     "metadata": {},
     "output_type": "display_data"
    }
   ],
   "source": [
    "sns.regplot(x=\"Sales\", y=\"Rank\", data=df2)\n",
    "\n",
    "# Correlation seems to be strongly negative as predicted,\n",
    "# as the amount of sales go down, so does the rank\n"
   ]
  },
  {
   "cell_type": "code",
   "execution_count": 22,
   "id": "a5cf98e5",
   "metadata": {
    "execution": {
     "iopub.execute_input": "2021-12-24T05:33:08.648355Z",
     "iopub.status.busy": "2021-12-24T05:33:08.647806Z",
     "iopub.status.idle": "2021-12-24T05:33:08.849357Z",
     "shell.execute_reply": "2021-12-24T05:33:08.849709Z",
     "shell.execute_reply.started": "2021-12-24T04:58:26.346696Z"
    },
    "papermill": {
     "duration": 0.234712,
     "end_time": "2021-12-24T05:33:08.849847",
     "exception": false,
     "start_time": "2021-12-24T05:33:08.615135",
     "status": "completed"
    },
    "tags": []
   },
   "outputs": [
    {
     "data": {
      "text/plain": [
       "Text(0, 0.5, 'Check Amount')"
      ]
     },
     "execution_count": 22,
     "metadata": {},
     "output_type": "execute_result"
    },
    {
     "data": {
      "image/png": "[encoded data removed]",
      "text/plain": [
       "<Figure size 432x288 with 1 Axes>"
      ]
     },
     "metadata": {},
     "output_type": "display_data"
    }
   ],
   "source": [
    "plt.scatter(x = df2['Sales'], y = df2['Average Check'])\n",
    "plt.show\n",
    "\n",
    "plt.title('Sales vs Average Check')\n",
    "plt.xlabel('Sales')\n",
    "plt.ylabel('Check Amount')\n",
    "\n",
    "# Vizualiztation correlation between 'average check' and 'Sales'\n",
    "# Difficult to point out any correlation at the moment but seems like\n",
    "# it's barely sloping positively"
   ]
  },
  {
   "cell_type": "code",
   "execution_count": 23,
   "id": "65d2459f",
   "metadata": {
    "execution": {
     "iopub.execute_input": "2021-12-24T05:33:08.919333Z",
     "iopub.status.busy": "2021-12-24T05:33:08.916249Z",
     "iopub.status.idle": "2021-12-24T05:33:09.230562Z",
     "shell.execute_reply": "2021-12-24T05:33:09.231169Z",
     "shell.execute_reply.started": "2021-12-24T04:58:26.598678Z"
    },
    "papermill": {
     "duration": 0.348991,
     "end_time": "2021-12-24T05:33:09.231340",
     "exception": false,
     "start_time": "2021-12-24T05:33:08.882349",
     "status": "completed"
    },
    "tags": []
   },
   "outputs": [
    {
     "data": {
      "text/plain": [
       "<AxesSubplot:xlabel='Sales', ylabel='Average Check'>"
      ]
     },
     "execution_count": 23,
     "metadata": {},
     "output_type": "execute_result"
    },
    {
     "data": {
      "image/png": "[encoded data removed]",
      "text/plain": [
       "<Figure size 432x288 with 1 Axes>"
      ]
     },
     "metadata": {},
     "output_type": "display_data"
    }
   ],
   "source": [
    "sns.regplot(x=\"Sales\", y=\"Average Check\", data=df2)\n",
    "\n",
    "# Regression line shows weak correlation \n"
   ]
  },
  {
   "cell_type": "code",
   "execution_count": 24,
   "id": "4cd8839a",
   "metadata": {
    "execution": {
     "iopub.execute_input": "2021-12-24T05:33:09.326616Z",
     "iopub.status.busy": "2021-12-24T05:33:09.326021Z",
     "iopub.status.idle": "2021-12-24T05:33:09.493341Z",
     "shell.execute_reply": "2021-12-24T05:33:09.492766Z",
     "shell.execute_reply.started": "2021-12-24T04:58:26.957445Z"
    },
    "papermill": {
     "duration": 0.215831,
     "end_time": "2021-12-24T05:33:09.493472",
     "exception": false,
     "start_time": "2021-12-24T05:33:09.277641",
     "status": "completed"
    },
    "tags": []
   },
   "outputs": [
    {
     "data": {
      "text/plain": [
       "Text(0, 0.5, 'Average Check Amount')"
      ]
     },
     "execution_count": 24,
     "metadata": {},
     "output_type": "execute_result"
    },
    {
     "data": {
      "image/png": "[encoded data removed]",
      "text/plain": [
       "<Figure size 432x288 with 1 Axes>"
      ]
     },
     "metadata": {},
     "output_type": "display_data"
    }
   ],
   "source": [
    "plt.scatter(x = df2['Rank'], y = df2['Average Check'])\n",
    "plt.show\n",
    "\n",
    "plt.title('Rank vs Average Check')\n",
    "plt.xlabel('Rank')\n",
    "plt.ylabel('Average Check Amount')\n",
    "\n",
    "# At first glance, datapoints seem scattered and correlation is not \n",
    "# easily detectable"
   ]
  },
  {
   "cell_type": "code",
   "execution_count": 25,
   "id": "8eaa4280",
   "metadata": {
    "execution": {
     "iopub.execute_input": "2021-12-24T05:33:09.593665Z",
     "iopub.status.busy": "2021-12-24T05:33:09.593075Z",
     "iopub.status.idle": "2021-12-24T05:33:09.843153Z",
     "shell.execute_reply": "2021-12-24T05:33:09.843634Z",
     "shell.execute_reply.started": "2021-12-24T04:58:27.206521Z"
    },
    "papermill": {
     "duration": 0.302704,
     "end_time": "2021-12-24T05:33:09.843825",
     "exception": false,
     "start_time": "2021-12-24T05:33:09.541121",
     "status": "completed"
    },
    "tags": []
   },
   "outputs": [
    {
     "data": {
      "text/plain": [
       "<AxesSubplot:xlabel='Rank', ylabel='Average Check'>"
      ]
     },
     "execution_count": 25,
     "metadata": {},
     "output_type": "execute_result"
    },
    {
     "data": {
      "image/png": "[encoded data removed]",
      "text/plain": [
       "<Figure size 432x288 with 1 Axes>"
      ]
     },
     "metadata": {},
     "output_type": "display_data"
    }
   ],
   "source": [
    "sns.regplot(x=\"Rank\", y=\"Average Check\", data=df2)\n",
    "\n",
    "# Data showing another weak correlation here"
   ]
  },
  {
   "cell_type": "code",
   "execution_count": 26,
   "id": "e5ff4070",
   "metadata": {
    "execution": {
     "iopub.execute_input": "2021-12-24T05:33:09.954908Z",
     "iopub.status.busy": "2021-12-24T05:33:09.946283Z",
     "iopub.status.idle": "2021-12-24T05:33:09.957571Z",
     "shell.execute_reply": "2021-12-24T05:33:09.958127Z",
     "shell.execute_reply.started": "2021-12-24T04:58:27.741056Z"
    },
    "papermill": {
     "duration": 0.064778,
     "end_time": "2021-12-24T05:33:09.958292",
     "exception": false,
     "start_time": "2021-12-24T05:33:09.893514",
     "status": "completed"
    },
    "tags": []
   },
   "outputs": [
    {
     "data": {
      "text/html": [
       "<div>\n",
       "<style scoped>\n",
       "    .dataframe tbody tr th:only-of-type {\n",
       "        vertical-align: middle;\n",
       "    }\n",
       "\n",
       "    .dataframe tbody tr th {\n",
       "        vertical-align: top;\n",
       "    }\n",
       "\n",
       "    .dataframe thead th {\n",
       "        text-align: right;\n",
       "    }\n",
       "</style>\n",
       "<table border=\"1\" class=\"dataframe\">\n",
       "  <thead>\n",
       "    <tr style=\"text-align: right;\">\n",
       "      <th></th>\n",
       "      <th>Rank</th>\n",
       "      <th>Sales</th>\n",
       "      <th>Average Check</th>\n",
       "      <th>Meals Served</th>\n",
       "    </tr>\n",
       "  </thead>\n",
       "  <tbody>\n",
       "    <tr>\n",
       "      <th>Rank</th>\n",
       "      <td>1.000000</td>\n",
       "      <td>-0.917341</td>\n",
       "      <td>-0.305996</td>\n",
       "      <td>-0.247434</td>\n",
       "    </tr>\n",
       "    <tr>\n",
       "      <th>Sales</th>\n",
       "      <td>-0.917341</td>\n",
       "      <td>1.000000</td>\n",
       "      <td>0.194195</td>\n",
       "      <td>0.302014</td>\n",
       "    </tr>\n",
       "    <tr>\n",
       "      <th>Average Check</th>\n",
       "      <td>-0.305996</td>\n",
       "      <td>0.194195</td>\n",
       "      <td>1.000000</td>\n",
       "      <td>-0.627206</td>\n",
       "    </tr>\n",
       "    <tr>\n",
       "      <th>Meals Served</th>\n",
       "      <td>-0.247434</td>\n",
       "      <td>0.302014</td>\n",
       "      <td>-0.627206</td>\n",
       "      <td>1.000000</td>\n",
       "    </tr>\n",
       "  </tbody>\n",
       "</table>\n",
       "</div>"
      ],
      "text/plain": [
       "                   Rank     Sales  Average Check  Meals Served\n",
       "Rank           1.000000 -0.917341      -0.305996     -0.247434\n",
       "Sales         -0.917341  1.000000       0.194195      0.302014\n",
       "Average Check -0.305996  0.194195       1.000000     -0.627206\n",
       "Meals Served  -0.247434  0.302014      -0.627206      1.000000"
      ]
     },
     "execution_count": 26,
     "metadata": {},
     "output_type": "execute_result"
    }
   ],
   "source": [
    "# May be more useful to find out the correlation coefficient to \n",
    "# better analyze the relationship between the variables \n",
    "\n",
    "df2.corr(method ='pearson')"
   ]
  },
  {
   "cell_type": "code",
   "execution_count": 27,
   "id": "44cb3824",
   "metadata": {
    "execution": {
     "iopub.execute_input": "2021-12-24T05:33:10.062283Z",
     "iopub.status.busy": "2021-12-24T05:33:10.061598Z",
     "iopub.status.idle": "2021-12-24T05:33:10.383204Z",
     "shell.execute_reply": "2021-12-24T05:33:10.383699Z",
     "shell.execute_reply.started": "2021-12-24T04:58:27.767492Z"
    },
    "papermill": {
     "duration": 0.376066,
     "end_time": "2021-12-24T05:33:10.383855",
     "exception": false,
     "start_time": "2021-12-24T05:33:10.007789",
     "status": "completed"
    },
    "tags": []
   },
   "outputs": [
    {
     "data": {
      "image/png": "[encoded data removed]",
      "text/plain": [
       "<Figure size 432x288 with 2 Axes>"
      ]
     },
     "metadata": {},
     "output_type": "display_data"
    }
   ],
   "source": [
    "# Here are those above results visualized\n",
    "\n",
    "correlation_matrix = df2.corr()\n",
    "\n",
    "sns.heatmap(correlation_matrix, annot = True)\n",
    "\n",
    "plt.title(\"Correlation Matrix for Variables\")\n",
    "\n",
    "\n",
    "plt.show()\n",
    "\n",
    "# Data seems to show various weak correlations between the \n",
    "# variables except for the obvious one of Rank and Sales. \n",
    "\n",
    "# The next \"strongest\" correlation would be between the Average Check\n",
    "# and Meals Served albeit a strong negative correlation.\n",
    "# The higher the average check, the lower the amount of meals served. \n"
   ]
  },
  {
   "cell_type": "code",
   "execution_count": 28,
   "id": "6a1e0289",
   "metadata": {
    "execution": {
     "iopub.execute_input": "2021-12-24T05:33:10.489576Z",
     "iopub.status.busy": "2021-12-24T05:33:10.488885Z",
     "iopub.status.idle": "2021-12-24T05:33:10.500140Z",
     "shell.execute_reply": "2021-12-24T05:33:10.500651Z",
     "shell.execute_reply.started": "2021-12-24T05:16:23.384388Z"
    },
    "papermill": {
     "duration": 0.066647,
     "end_time": "2021-12-24T05:33:10.500819",
     "exception": false,
     "start_time": "2021-12-24T05:33:10.434172",
     "status": "completed"
    },
    "tags": []
   },
   "outputs": [],
   "source": [
    "# Exploring third dataset\n",
    "df3 = pd.read_csv(\"../input/restaurant-business-rankings-2020/Future50.csv\")"
   ]
  },
  {
   "cell_type": "code",
   "execution_count": 29,
   "id": "5ce1e11e",
   "metadata": {
    "execution": {
     "iopub.execute_input": "2021-12-24T05:33:10.615367Z",
     "iopub.status.busy": "2021-12-24T05:33:10.614721Z",
     "iopub.status.idle": "2021-12-24T05:33:10.617833Z",
     "shell.execute_reply": "2021-12-24T05:33:10.617321Z",
     "shell.execute_reply.started": "2021-12-24T05:17:59.856730Z"
    },
    "papermill": {
     "duration": 0.066244,
     "end_time": "2021-12-24T05:33:10.617961",
     "exception": false,
     "start_time": "2021-12-24T05:33:10.551717",
     "status": "completed"
    },
    "tags": []
   },
   "outputs": [
    {
     "data": {
      "text/html": [
       "<div>\n",
       "<style scoped>\n",
       "    .dataframe tbody tr th:only-of-type {\n",
       "        vertical-align: middle;\n",
       "    }\n",
       "\n",
       "    .dataframe tbody tr th {\n",
       "        vertical-align: top;\n",
       "    }\n",
       "\n",
       "    .dataframe thead th {\n",
       "        text-align: right;\n",
       "    }\n",
       "</style>\n",
       "<table border=\"1\" class=\"dataframe\">\n",
       "  <thead>\n",
       "    <tr style=\"text-align: right;\">\n",
       "      <th></th>\n",
       "      <th>Rank</th>\n",
       "      <th>Restaurant</th>\n",
       "      <th>Location</th>\n",
       "      <th>Sales</th>\n",
       "      <th>YOY_Sales</th>\n",
       "      <th>Units</th>\n",
       "      <th>YOY_Units</th>\n",
       "      <th>Unit_Volume</th>\n",
       "      <th>Franchising</th>\n",
       "    </tr>\n",
       "  </thead>\n",
       "  <tbody>\n",
       "    <tr>\n",
       "      <th>0</th>\n",
       "      <td>1</td>\n",
       "      <td>Evergreens</td>\n",
       "      <td>Seattle, Wash.</td>\n",
       "      <td>24</td>\n",
       "      <td>130.5%</td>\n",
       "      <td>26</td>\n",
       "      <td>116.7%</td>\n",
       "      <td>1150</td>\n",
       "      <td>No</td>\n",
       "    </tr>\n",
       "    <tr>\n",
       "      <th>1</th>\n",
       "      <td>2</td>\n",
       "      <td>Clean Juice</td>\n",
       "      <td>Charlotte, N.C.</td>\n",
       "      <td>44</td>\n",
       "      <td>121.9%</td>\n",
       "      <td>105</td>\n",
       "      <td>94.4%</td>\n",
       "      <td>560</td>\n",
       "      <td>Yes</td>\n",
       "    </tr>\n",
       "    <tr>\n",
       "      <th>2</th>\n",
       "      <td>3</td>\n",
       "      <td>Slapfish</td>\n",
       "      <td>Huntington Beach, Calif.</td>\n",
       "      <td>21</td>\n",
       "      <td>81.0%</td>\n",
       "      <td>21</td>\n",
       "      <td>90.9%</td>\n",
       "      <td>1370</td>\n",
       "      <td>Yes</td>\n",
       "    </tr>\n",
       "    <tr>\n",
       "      <th>3</th>\n",
       "      <td>4</td>\n",
       "      <td>Clean Eatz</td>\n",
       "      <td>Wilmington, N.C.</td>\n",
       "      <td>25</td>\n",
       "      <td>79.7%</td>\n",
       "      <td>46</td>\n",
       "      <td>58.6%</td>\n",
       "      <td>685</td>\n",
       "      <td>Yes</td>\n",
       "    </tr>\n",
       "    <tr>\n",
       "      <th>4</th>\n",
       "      <td>5</td>\n",
       "      <td>Pokeworks</td>\n",
       "      <td>Irvine, Calif.</td>\n",
       "      <td>49</td>\n",
       "      <td>77.1%</td>\n",
       "      <td>50</td>\n",
       "      <td>56.3%</td>\n",
       "      <td>1210</td>\n",
       "      <td>Yes</td>\n",
       "    </tr>\n",
       "    <tr>\n",
       "      <th>5</th>\n",
       "      <td>6</td>\n",
       "      <td>Playa Bowls</td>\n",
       "      <td>Belmar,  N.J.</td>\n",
       "      <td>39</td>\n",
       "      <td>62.9%</td>\n",
       "      <td>76</td>\n",
       "      <td>28.8%</td>\n",
       "      <td>580</td>\n",
       "      <td>Yes</td>\n",
       "    </tr>\n",
       "    <tr>\n",
       "      <th>6</th>\n",
       "      <td>7</td>\n",
       "      <td>The Simple Greek</td>\n",
       "      <td>Blue Bell, Pa.</td>\n",
       "      <td>24</td>\n",
       "      <td>52.5%</td>\n",
       "      <td>36</td>\n",
       "      <td>33.3%</td>\n",
       "      <td>775</td>\n",
       "      <td>Yes</td>\n",
       "    </tr>\n",
       "    <tr>\n",
       "      <th>7</th>\n",
       "      <td>8</td>\n",
       "      <td>Melt Shop</td>\n",
       "      <td>New York, N.Y.</td>\n",
       "      <td>20</td>\n",
       "      <td>39.6%</td>\n",
       "      <td>19</td>\n",
       "      <td>35.7%</td>\n",
       "      <td>1260</td>\n",
       "      <td>Yes</td>\n",
       "    </tr>\n",
       "    <tr>\n",
       "      <th>8</th>\n",
       "      <td>9</td>\n",
       "      <td>Creamistry</td>\n",
       "      <td>Yorba Linda,  Calif.</td>\n",
       "      <td>24</td>\n",
       "      <td>36.8%</td>\n",
       "      <td>60</td>\n",
       "      <td>27.7%</td>\n",
       "      <td>465</td>\n",
       "      <td>Yes</td>\n",
       "    </tr>\n",
       "    <tr>\n",
       "      <th>9</th>\n",
       "      <td>10</td>\n",
       "      <td>Joella's Hot Chicken</td>\n",
       "      <td>Louisville, Ky.</td>\n",
       "      <td>29</td>\n",
       "      <td>35.5%</td>\n",
       "      <td>17</td>\n",
       "      <td>30.8%</td>\n",
       "      <td>1930</td>\n",
       "      <td>No</td>\n",
       "    </tr>\n",
       "  </tbody>\n",
       "</table>\n",
       "</div>"
      ],
      "text/plain": [
       "   Rank            Restaurant                  Location  Sales YOY_Sales  \\\n",
       "0     1            Evergreens            Seattle, Wash.     24    130.5%   \n",
       "1     2           Clean Juice           Charlotte, N.C.     44    121.9%   \n",
       "2     3              Slapfish  Huntington Beach, Calif.     21     81.0%   \n",
       "3     4            Clean Eatz          Wilmington, N.C.     25     79.7%   \n",
       "4     5             Pokeworks            Irvine, Calif.     49     77.1%   \n",
       "5     6           Playa Bowls             Belmar,  N.J.     39     62.9%   \n",
       "6     7      The Simple Greek            Blue Bell, Pa.     24     52.5%   \n",
       "7     8             Melt Shop            New York, N.Y.     20     39.6%   \n",
       "8     9            Creamistry      Yorba Linda,  Calif.     24     36.8%   \n",
       "9    10  Joella's Hot Chicken           Louisville, Ky.     29     35.5%   \n",
       "\n",
       "   Units YOY_Units  Unit_Volume Franchising  \n",
       "0     26    116.7%         1150          No  \n",
       "1    105     94.4%          560         Yes  \n",
       "2     21     90.9%         1370         Yes  \n",
       "3     46     58.6%          685         Yes  \n",
       "4     50     56.3%         1210         Yes  \n",
       "5     76     28.8%          580         Yes  \n",
       "6     36     33.3%          775         Yes  \n",
       "7     19     35.7%         1260         Yes  \n",
       "8     60     27.7%          465         Yes  \n",
       "9     17     30.8%         1930          No  "
      ]
     },
     "execution_count": 29,
     "metadata": {},
     "output_type": "execute_result"
    }
   ],
   "source": [
    "# Peek at data\n",
    "df3.head(10)"
   ]
  },
  {
   "cell_type": "code",
   "execution_count": 30,
   "id": "fb600459",
   "metadata": {
    "execution": {
     "iopub.execute_input": "2021-12-24T05:33:10.731323Z",
     "iopub.status.busy": "2021-12-24T05:33:10.727329Z",
     "iopub.status.idle": "2021-12-24T05:33:10.735344Z",
     "shell.execute_reply": "2021-12-24T05:33:10.734669Z",
     "shell.execute_reply.started": "2021-12-24T05:24:00.076749Z"
    },
    "papermill": {
     "duration": 0.06514,
     "end_time": "2021-12-24T05:33:10.735527",
     "exception": false,
     "start_time": "2021-12-24T05:33:10.670387",
     "status": "completed"
    },
    "tags": []
   },
   "outputs": [
    {
     "name": "stdout",
     "output_type": "stream",
     "text": [
      "Rank - 0%\n",
      "Restaurant - 0%\n",
      "Location - 0%\n",
      "Sales - 0%\n",
      "YOY_Sales - 0%\n",
      "Units - 0%\n",
      "YOY_Units - 0%\n",
      "Unit_Volume - 0%\n",
      "Franchising - 0%\n"
     ]
    }
   ],
   "source": [
    "# This 'Future 50' data seems to rank based \"YOY_ Sales\"\n",
    "# rather than 'Sales' as per the \"Top 50\" data set\n",
    "\n",
    "# Looking for missing data using for loops in third data set\n",
    "\n",
    "for col in df3.columns:\n",
    "    pct_missing = np.mean(df3[col].isnull())\n",
    "    print('{} - {}%'.format(col, round(pct_missing*100)))\n",
    "    \n",
    " # No data seems to be missing as represented by the \"0%\"\n"
   ]
  },
  {
   "cell_type": "code",
   "execution_count": 31,
   "id": "0d7555c8",
   "metadata": {
    "execution": {
     "iopub.execute_input": "2021-12-24T05:33:10.844485Z",
     "iopub.status.busy": "2021-12-24T05:33:10.843826Z",
     "iopub.status.idle": "2021-12-24T05:33:10.849550Z",
     "shell.execute_reply": "2021-12-24T05:33:10.849115Z",
     "shell.execute_reply.started": "2021-12-24T05:24:53.842430Z"
    },
    "papermill": {
     "duration": 0.061276,
     "end_time": "2021-12-24T05:33:10.849660",
     "exception": false,
     "start_time": "2021-12-24T05:33:10.788384",
     "status": "completed"
    },
    "tags": []
   },
   "outputs": [
    {
     "name": "stdout",
     "output_type": "stream",
     "text": [
      "Rank            int64\n",
      "Restaurant     object\n",
      "Location       object\n",
      "Sales           int64\n",
      "YOY_Sales      object\n",
      "Units           int64\n",
      "YOY_Units      object\n",
      "Unit_Volume     int64\n",
      "Franchising    object\n",
      "dtype: object\n"
     ]
    }
   ],
   "source": [
    "print(df3.dtypes)\n",
    "\n",
    "# no floats so data shouldn't be as messy to work with\n"
   ]
  },
  {
   "cell_type": "code",
   "execution_count": 32,
   "id": "185beba7",
   "metadata": {
    "execution": {
     "iopub.execute_input": "2021-12-24T05:33:10.927215Z",
     "iopub.status.busy": "2021-12-24T05:33:10.926657Z",
     "iopub.status.idle": "2021-12-24T05:33:11.429647Z",
     "shell.execute_reply": "2021-12-24T05:33:11.430174Z",
     "shell.execute_reply.started": "2021-12-24T05:31:36.712596Z"
    },
    "papermill": {
     "duration": 0.54442,
     "end_time": "2021-12-24T05:33:11.430316",
     "exception": false,
     "start_time": "2021-12-24T05:33:10.885896",
     "status": "completed"
    },
    "tags": []
   },
   "outputs": [
    {
     "data": {
      "text/plain": [
       "Text(0, 0.5, 'Rank')"
      ]
     },
     "execution_count": 32,
     "metadata": {},
     "output_type": "execute_result"
    },
    {
     "data": {
      "image/png": "[encoded data removed]",
      "text/plain": [
       "<Figure size 432x288 with 1 Axes>"
      ]
     },
     "metadata": {},
     "output_type": "display_data"
    }
   ],
   "source": [
    "plt.scatter(x = df3['Rank'], y = df3['YOY_Sales'])\n",
    "plt.show\n",
    "\n",
    "plt.title('Yearly Sales Increase vs Rank')\n",
    "plt.xlabel('Sales Increase')\n",
    "plt.ylabel('Rank')"
   ]
  }
 ],
 "metadata": {
  "kernelspec": {
   "display_name": "Python 3",
   "language": "python",
   "name": "python3"
  },
  "language_info": {
   "codemirror_mode": {
    "name": "ipython",
    "version": 3
   },
   "file_extension": ".py",
   "mimetype": "text/x-python",
   "name": "python",
   "nbconvert_exporter": "python",
   "pygments_lexer": "ipython3",
   "version": "3.7.12"
  },
  "papermill": {
   "default_parameters": {},
   "duration": 18.955024,
   "end_time": "2021-12-24T05:33:12.379129",
   "environment_variables": {},
   "exception": null,
   "input_path": "__notebook__.ipynb",
   "output_path": "__notebook__.ipynb",
   "parameters": {},
   "start_time": "2021-12-24T05:32:53.424105",
   "version": "2.3.3"
  }
 },
 "nbformat": 4,
 "nbformat_minor": 5
}
